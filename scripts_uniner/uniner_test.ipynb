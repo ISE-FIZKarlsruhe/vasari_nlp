{
 "cells": [
  {
   "cell_type": "markdown",
   "id": "be3ff320-0659-4165-b78c-8c46c9280ea2",
   "metadata": {},
   "source": [
    "## Info:\n",
    "To run this notebook you need to install `transformers`, `torch`, `langchain` and `bitsandbytes`."
   ]
  },
  {
   "cell_type": "markdown",
   "id": "5fedcaa1-7b01-48bb-9153-8119593a4182",
   "metadata": {},
   "source": [
    "## Instatiating the model"
   ]
  },
  {
   "cell_type": "code",
   "execution_count": 9,
   "id": "ddeb2247-e15b-45d7-90cb-18449a0d31f2",
   "metadata": {},
   "outputs": [
    {
     "name": "stderr",
     "output_type": "stream",
     "text": [
      "Loading checkpoint shards: 100%|██████████████████████████████████████████████████████████████████████████████████████| 3/3 [00:19<00:00,  6.51s/it]"
     ]
    },
    {
     "name": "stdout",
     "output_type": "stream",
     "text": [
      "Model loaded on cuda:1\n"
     ]
    },
    {
     "name": "stderr",
     "output_type": "stream",
     "text": [
      "\n"
     ]
    }
   ],
   "source": [
    "from langchain import HuggingFacePipeline\n",
    "from langchain import PromptTemplate,  LLMChain\n",
    "from transformers import AutoTokenizer, AutoModelForCausalLM\n",
    "from nltk.tokenize import sent_tokenize\n",
    "import transformers\n",
    "from torch import cuda, bfloat16\n",
    "import torch\n",
    "import csv\n",
    "import re\n",
    "import json\n",
    "from tqdm import tqdm\n",
    "import time\n",
    "\n",
    "model_name = \"Universal-NER/UniNER-7B-all\"\n",
    "\n",
    "device = f'cuda:{cuda.current_device()}' if cuda.is_available() else 'cpu'\n",
    "\n",
    "# set quantization configuration to load large model with less GPU memory\n",
    "# this requires the `bitsandbytes` library\n",
    "bnb_config = transformers.BitsAndBytesConfig(\n",
    "    load_in_4bit=True,\n",
    "    bnb_4bit_quant_type='nf4',\n",
    "    bnb_4bit_use_double_quant=True,\n",
    "    bnb_4bit_compute_dtype=bfloat16\n",
    ")\n",
    "\n",
    "model = transformers.AutoModelForCausalLM.from_pretrained(\n",
    "    model_name,\n",
    "    trust_remote_code=True,\n",
    "    quantization_config=bnb_config,\n",
    "    device_map='auto'\n",
    ")\n",
    "model.eval()\n",
    "print(f\"Model loaded on {device}\")"
   ]
  },
  {
   "cell_type": "code",
   "execution_count": 2,
   "id": "7e8b5d51-4a84-457e-9537-4e8339c1a0e0",
   "metadata": {},
   "outputs": [],
   "source": [
    "tokenizer = AutoTokenizer.from_pretrained(model_name)\n",
    "\n",
    "pipeline = transformers.pipeline(\n",
    "    \"text-generation\", #task\n",
    "    model=model,\n",
    "    tokenizer=tokenizer,\n",
    "    trust_remote_code=True,\n",
    "    device_map=\"auto\",\n",
    "    torch_dtype=torch.bfloat16,\n",
    "    max_length=1000,\n",
    "    do_sample=True,\n",
    "    top_k=10,\n",
    "    num_return_sequences=1,\n",
    "    eos_token_id=tokenizer.eos_token_id,\n",
    "\n",
    ")\n",
    "\n",
    "llm = HuggingFacePipeline(pipeline = pipeline, model_kwargs = {'temperature':0, \"batch_size\":1})"
   ]
  },
  {
   "cell_type": "code",
   "execution_count": 3,
   "id": "8635a945-4243-4559-9aa8-2bdc64716094",
   "metadata": {},
   "outputs": [],
   "source": [
    "template = \"\"\"\n",
    "              A virtual assistant answers questions from a user based on the provided text.\n",
    "              USER: Text: {input_text}\n",
    "              ASSISTANT: I’ve read this text.\n",
    "              USER: What describes {entity_type} in the text?\n",
    "              ASSISTANT:\n",
    "           \"\"\"\n",
    "\n",
    "prompt = PromptTemplate(template=template, input_variables=[\"input_text\",\"entity_type\"])\n",
    "llm_chain = LLMChain(prompt=prompt, llm=llm)"
   ]
  },
  {
   "cell_type": "code",
   "execution_count": 10,
   "id": "499b543e-493d-4efd-a4ec-e171cd95289d",
   "metadata": {},
   "outputs": [],
   "source": [
    "sentence=\"In the tumultuous era of the Baroque, Caravaggio's innovative use of dramatic lighting and his penchant for portraying ordinary subjects with extraordinary realism revolutionized the art world, ushering in a new era of naturalism that would influence countless painters for generations to come, his 'Judith Beheading Holofernes' stands as an epitome of this artistic transformation, where the blood-red drapery of Judith's dress contrasts starkly with the dark, foreboding background, intensifying the emotional impact of the brutal scene.\"\n",
    "_type =\"Artwork\""
   ]
  },
  {
   "cell_type": "code",
   "execution_count": 11,
   "id": "fb6b18fc-c160-4588-bb15-35a10d5f95ed",
   "metadata": {},
   "outputs": [
    {
     "name": "stdout",
     "output_type": "stream",
     "text": [
      " [\"Judith Beheading Holofernes\"]\n"
     ]
    }
   ],
   "source": [
    "result_string = llm_chain.run({\"input_text\":sentence,\"entity_type\":_type})\n",
    "print(result_string)"
   ]
  },
  {
   "cell_type": "code",
   "execution_count": 15,
   "id": "7df51e74-a5b2-4dbc-b4e4-c29e6cafed10",
   "metadata": {},
   "outputs": [
    {
     "name": "stdout",
     "output_type": "stream",
     "text": [
      " []\n"
     ]
    }
   ],
   "source": [
    "sentence=\"In the tumultuous era of the Baroque, Caravaggio's innovative use of dramatic lighting and his penchant for portraying ordinary subjects with extraordinary realism revolutionized the art world, ushering in a new era of naturalism that would influence countless painters for generations to come, his 'Judith Beheading Holofernes' stands as an epitome of this artistic transformation, where the blood-red drapery of Judith's dress contrasts starkly with the dark, foreboding background, intensifying the emotional impact of the brutal scene.\"\n",
    "_type =\"Entity\"\n",
    "result_string = llm_chain.run({\"input_text\":sentence,\"entity_type\":_type})\n",
    "print(result_string)"
   ]
  }
 ],
 "metadata": {
  "kernelspec": {
   "display_name": "Python 3 (ipykernel)",
   "language": "python",
   "name": "python3"
  },
  "language_info": {
   "codemirror_mode": {
    "name": "ipython",
    "version": 3
   },
   "file_extension": ".py",
   "mimetype": "text/x-python",
   "name": "python",
   "nbconvert_exporter": "python",
   "pygments_lexer": "ipython3",
   "version": "3.9.17"
  }
 },
 "nbformat": 4,
 "nbformat_minor": 5
}
