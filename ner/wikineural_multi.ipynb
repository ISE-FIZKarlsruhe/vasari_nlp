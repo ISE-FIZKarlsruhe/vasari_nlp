{
 "cells": [
  {
   "cell_type": "code",
   "execution_count": 1,
   "id": "41f37b34",
   "metadata": {},
   "outputs": [
    {
     "name": "stderr",
     "output_type": "stream",
     "text": [
      "C:\\Users\\CSA\\Anaconda3\\envs\\ner_vasari\\lib\\site-packages\\tqdm\\auto.py:22: TqdmWarning: IProgress not found. Please update jupyter and ipywidgets. See https://ipywidgets.readthedocs.io/en/stable/user_install.html\n",
      "  from .autonotebook import tqdm as notebook_tqdm\n"
     ]
    }
   ],
   "source": [
    "import csv\n",
    "from tqdm import tqdm\n",
    "from transformers import AutoTokenizer, AutoModelForTokenClassification\n",
    "from transformers import pipeline"
   ]
  },
  {
   "cell_type": "code",
   "execution_count": 3,
   "id": "7ac166be",
   "metadata": {},
   "outputs": [],
   "source": [
    "with open(\"../data/sentences_en.csv\", \"r\") as f:\n",
    "    sentences = list(csv.DictReader(f=f, delimiter=\",\"))"
   ]
  },
  {
   "cell_type": "code",
   "execution_count": 2,
   "id": "e94ac8e7",
   "metadata": {},
   "outputs": [
    {
     "name": "stderr",
     "output_type": "stream",
     "text": [
      "Downloading: 100%|██████████| 333/333 [00:00<00:00, 166kB/s]\n",
      "Downloading: 100%|██████████| 972k/972k [00:00<00:00, 1.37MB/s]\n",
      "Downloading: 100%|██████████| 1.87M/1.87M [00:01<00:00, 1.80MB/s]\n",
      "Downloading: 100%|██████████| 112/112 [00:00<00:00, 28.0kB/s]\n",
      "Downloading: 100%|██████████| 1.16k/1.16k [00:00<00:00, 395kB/s]\n",
      "Downloading: 100%|██████████| 676M/676M [00:58<00:00, 12.2MB/s] \n"
     ]
    }
   ],
   "source": [
    "tokenizer = AutoTokenizer.from_pretrained(\"Babelscape/wikineural-multilingual-ner\")\n",
    "tagger = AutoModelForTokenClassification.from_pretrained(\"Babelscape/wikineural-multilingual-ner\")\n",
    "nlp = pipeline(\"ner\", model=tagger, tokenizer=tokenizer)"
   ]
  },
  {
   "cell_type": "code",
   "execution_count": 4,
   "id": "cb112355",
   "metadata": {},
   "outputs": [
    {
     "name": "stdout",
     "output_type": "stream",
     "text": [
      "[{'entity_group': 'PER', 'score': 0.9669188, 'word': 'Ser Piero', 'start': 74, 'end': 83}, {'entity_group': 'PER', 'score': 0.9996276, 'word': 'Andrea del Verrocchio', 'start': 103, 'end': 124}, {'entity_group': 'PER', 'score': 0.7879479, 'word': 'S. John', 'start': 160, 'end': 167}, {'entity_group': 'PER', 'score': 0.89505774, 'word': 'Christ', 'start': 178, 'end': 184}, {'entity_group': 'PER', 'score': 0.9987483, 'word': 'Leonardo', 'start': 191, 'end': 199}, {'entity_group': 'PER', 'score': 0.9989743, 'word': 'Leonardo', 'start': 279, 'end': 287}, {'entity_group': 'PER', 'score': 0.99748766, 'word': 'Andrea', 'start': 368, 'end': 374}, {'entity_group': 'PER', 'score': 0.9975649, 'word': 'Andrea', 'start': 402, 'end': 408}]\n"
     ]
    }
   ],
   "source": [
    "text = sentences[0][\"sentence\"]\n",
    "ner = nlp(text, aggregation_strategy=\"simple\")\n",
    "print(ner)"
   ]
  },
  {
   "cell_type": "code",
   "execution_count": 5,
   "id": "79a2571d",
   "metadata": {},
   "outputs": [
    {
     "name": "stderr",
     "output_type": "stream",
     "text": [
      "100%|██████████| 33/33 [00:06<00:00,  5.29it/s]\n"
     ]
    }
   ],
   "source": [
    "output = []\n",
    "\n",
    "pbar = tqdm(total=len(sentences))\n",
    "for sample in sentences:\n",
    "    sent_idx = sample[\"id\"]\n",
    "    text = sample[\"sentence\"]\n",
    "    ner = nlp(text, aggregation_strategy=\"simple\")\n",
    "    for ent in ner:\n",
    "        output.append({\n",
    "            \"id\":sent_idx,\n",
    "            \"start_pos\":ent[\"start\"],\n",
    "            \"end_pos\":ent[\"end\"],\n",
    "            \"surface\":ent[\"word\"],\n",
    "            \"type\":ent[\"entity_group\"],\n",
    "            \"score\":ent[\"score\"]\n",
    "        })\n",
    "    pbar.update(1)\n",
    "pbar.close()\n",
    "\n",
    "keys = output[0].keys()\n",
    "a_file = open(\"results/wikineural_multi/output.csv\", \"w\")\n",
    "dict_writer = csv.DictWriter(a_file, keys)\n",
    "dict_writer.writeheader()\n",
    "dict_writer.writerows(output)\n",
    "a_file.close()\n",
    "    "
   ]
  },
  {
   "cell_type": "code",
   "execution_count": null,
   "id": "a64e3fc4",
   "metadata": {},
   "outputs": [],
   "source": []
  }
 ],
 "metadata": {
  "kernelspec": {
   "display_name": "Python 3 (ipykernel)",
   "language": "python",
   "name": "python3"
  },
  "language_info": {
   "codemirror_mode": {
    "name": "ipython",
    "version": 3
   },
   "file_extension": ".py",
   "mimetype": "text/x-python",
   "name": "python",
   "nbconvert_exporter": "python",
   "pygments_lexer": "ipython3",
   "version": "3.8.13"
  }
 },
 "nbformat": 4,
 "nbformat_minor": 5
}
