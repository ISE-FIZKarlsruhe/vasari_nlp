{
 "cells": [
  {
   "cell_type": "code",
   "execution_count": 2,
   "id": "94970e36",
   "metadata": {},
   "outputs": [
    {
     "name": "stderr",
     "output_type": "stream",
     "text": [
      "C:\\Users\\CSA\\Anaconda3\\envs\\ner_vasari\\lib\\site-packages\\tqdm\\auto.py:22: TqdmWarning: IProgress not found. Please update jupyter and ipywidgets. See https://ipywidgets.readthedocs.io/en/stable/user_install.html\n",
      "  from .autonotebook import tqdm as notebook_tqdm\n"
     ]
    }
   ],
   "source": [
    "import csv\n",
    "from tqdm import tqdm\n",
    "from flair.data import Sentence\n",
    "from flair.models import SequenceTagger\n",
    "import re"
   ]
  },
  {
   "cell_type": "code",
   "execution_count": 3,
   "id": "d009e5c3",
   "metadata": {},
   "outputs": [],
   "source": [
    "with open(\"../vasari-kg.github.io/data/sentences_en.csv\", \"r\") as f:\n",
    "    sentences = list(csv.DictReader(f=f, delimiter=\",\"))"
   ]
  },
  {
   "cell_type": "code",
   "execution_count": 4,
   "id": "2278de54",
   "metadata": {},
   "outputs": [
    {
     "name": "stdout",
     "output_type": "stream",
     "text": [
      "2022-06-15 12:34:10,845 loading file C:\\Users\\CSA\\.flair\\models\\ner-english-ontonotes-large\\2da6c2cdd76e59113033adf670340bfd820f0301ae2e39204d67ba2dc276cc28.ec1bdb304b6c66111532c3b1fc6e522460ae73f1901848a4d0362cdf9760edb1\n",
      "2022-06-15 12:34:34,794 SequenceTagger predicts: Dictionary with 76 tags: <unk>, O, B-CARDINAL, E-CARDINAL, S-PERSON, S-CARDINAL, S-PRODUCT, B-PRODUCT, I-PRODUCT, E-PRODUCT, B-WORK_OF_ART, I-WORK_OF_ART, E-WORK_OF_ART, B-PERSON, E-PERSON, S-GPE, B-DATE, I-DATE, E-DATE, S-ORDINAL, S-LANGUAGE, I-PERSON, S-EVENT, S-DATE, B-QUANTITY, E-QUANTITY, S-TIME, B-TIME, I-TIME, E-TIME, B-GPE, E-GPE, S-ORG, I-GPE, S-NORP, B-FAC, I-FAC, E-FAC, B-NORP, E-NORP, S-PERCENT, B-ORG, E-ORG, B-LANGUAGE, E-LANGUAGE, I-CARDINAL, I-ORG, S-WORK_OF_ART, I-QUANTITY, B-MONEY\n"
     ]
    }
   ],
   "source": [
    "tagger = SequenceTagger.load(\"flair/ner-english-ontonotes-large\")"
   ]
  },
  {
   "cell_type": "code",
   "execution_count": 5,
   "id": "fe13d30a",
   "metadata": {},
   "outputs": [],
   "source": [
    "def convert_label(label):\n",
    "    if label == \"PERSON\":\n",
    "        return \"PER\"\n",
    "    if label == \"ORGANIZATION\":\n",
    "        return \"ORG\"\n",
    "    if label in {\"GPE\", \"FAC\"}:\n",
    "        return \"LOC\"\n",
    "    if label ==\"DATE\":\n",
    "        return \"DATE\"\n",
    "    else:\n",
    "        return \"MISC\""
   ]
  },
  {
   "cell_type": "code",
   "execution_count": 6,
   "id": "8c55e5a6",
   "metadata": {},
   "outputs": [
    {
     "name": "stderr",
     "output_type": "stream",
     "text": [
      "100%|██████████████████████████████████████████████████████████████████████████████████| 40/40 [00:38<00:00,  1.05it/s]\n"
     ]
    }
   ],
   "source": [
    "output = []\n",
    "\n",
    "pbar = tqdm(total=len(sentences))\n",
    "for sample in sentences:\n",
    "    sent_idx = sample[\"id\"]\n",
    "    text = sample[\"sentence\"]\n",
    "    sentence = Sentence(text)\n",
    "    tagger.predict(sentence)\n",
    "    for entity in sentence.get_spans(\"ner\"):\n",
    "        start_pos = entity.start_position\n",
    "        end_pos = entity.end_position\n",
    "        surface = entity.text\n",
    "        ner_type = entity.get_label(\"ner\").value\n",
    "        score = entity.get_label(\"ner\").score\n",
    "        match = re.match('(?:^the\\s|^a\\s)(.*?)$', surface, re.IGNORECASE)\n",
    "        if match:\n",
    "            surface = match.group(1)\n",
    "            start_pos = end_pos - len(surface)\n",
    "        if ner_type not in {\"TIME\", \"PERCENT\", \"MONEY\", \"QUANTITY\", \"ORDINAL\",\"CARDINAL\"}:\n",
    "            ner_type = convert_label(ner_type)\n",
    "            output.append({\n",
    "                \"id\":sent_idx,\n",
    "                \"start_pos\":start_pos,\n",
    "                \"end_pos\":end_pos,\n",
    "                \"surface\":surface,\n",
    "                \"type\":ner_type,\n",
    "                \"score\":score\n",
    "            })\n",
    "    pbar.update(1)\n",
    "pbar.close()\n",
    "\n",
    "keys = output[0].keys()\n",
    "a_file = open(\"results3/ontonotes_en/output.csv\", \"w\")\n",
    "dict_writer = csv.DictWriter(a_file, keys)\n",
    "dict_writer.writeheader()\n",
    "dict_writer.writerows(output)\n",
    "a_file.close()"
   ]
  },
  {
   "cell_type": "code",
   "execution_count": null,
   "id": "a43638ca",
   "metadata": {},
   "outputs": [],
   "source": []
  }
 ],
 "metadata": {
  "kernelspec": {
   "display_name": "Python 3 (ipykernel)",
   "language": "python",
   "name": "python3"
  },
  "language_info": {
   "codemirror_mode": {
    "name": "ipython",
    "version": 3
   },
   "file_extension": ".py",
   "mimetype": "text/x-python",
   "name": "python",
   "nbconvert_exporter": "python",
   "pygments_lexer": "ipython3",
   "version": "3.8.13"
  }
 },
 "nbformat": 4,
 "nbformat_minor": 5
}
