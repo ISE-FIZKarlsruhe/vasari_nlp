{
 "cells": [
  {
   "cell_type": "code",
   "execution_count": 2,
   "id": "41f37b34",
   "metadata": {},
   "outputs": [],
   "source": [
    "import csv\n",
    "from tqdm import tqdm\n",
    "from transformers import AutoTokenizer, AutoModelForTokenClassification\n",
    "from transformers import pipeline"
   ]
  },
  {
   "cell_type": "code",
   "execution_count": 3,
   "id": "7ac166be",
   "metadata": {},
   "outputs": [],
   "source": [
    "with open(\"../vasari-kg.github.io/data/sentences_it.csv\", \"r\") as f:\n",
    "    sentences = list(csv.DictReader(f=f, delimiter=\",\"))"
   ]
  },
  {
   "cell_type": "code",
   "execution_count": 4,
   "id": "e94ac8e7",
   "metadata": {},
   "outputs": [],
   "source": [
    "tokenizer = AutoTokenizer.from_pretrained(\"Babelscape/wikineural-multilingual-ner\")\n",
    "tagger = AutoModelForTokenClassification.from_pretrained(\"Babelscape/wikineural-multilingual-ner\")\n",
    "nlp = pipeline(\"ner\", model=tagger, tokenizer=tokenizer)"
   ]
  },
  {
   "cell_type": "code",
   "execution_count": 4,
   "id": "cb112355",
   "metadata": {},
   "outputs": [
    {
     "name": "stdout",
     "output_type": "stream",
     "text": [
      "[{'entity_group': 'PER', 'score': 0.9669188, 'word': 'Ser Piero', 'start': 74, 'end': 83}, {'entity_group': 'PER', 'score': 0.9996276, 'word': 'Andrea del Verrocchio', 'start': 103, 'end': 124}, {'entity_group': 'PER', 'score': 0.7879479, 'word': 'S. John', 'start': 160, 'end': 167}, {'entity_group': 'PER', 'score': 0.89505774, 'word': 'Christ', 'start': 178, 'end': 184}, {'entity_group': 'PER', 'score': 0.9987483, 'word': 'Leonardo', 'start': 191, 'end': 199}, {'entity_group': 'PER', 'score': 0.9989743, 'word': 'Leonardo', 'start': 279, 'end': 287}, {'entity_group': 'PER', 'score': 0.99748766, 'word': 'Andrea', 'start': 368, 'end': 374}, {'entity_group': 'PER', 'score': 0.9975649, 'word': 'Andrea', 'start': 402, 'end': 408}]\n"
     ]
    }
   ],
   "source": [
    "text = sentences[0][\"sentence\"]\n",
    "ner = nlp(text, aggregation_strategy=\"simple\")\n",
    "print(ner)"
   ]
  },
  {
   "cell_type": "code",
   "execution_count": 6,
   "id": "79a2571d",
   "metadata": {
    "scrolled": true
   },
   "outputs": [
    {
     "name": "stderr",
     "output_type": "stream",
     "text": [
      "\n",
      " 30%|████████████████████████▊                                                         | 10/33 [00:30<01:09,  3.03s/it]\u001b[A\n",
      "\n",
      "  3%|██▌                                                                                | 1/33 [00:00<00:04,  6.90it/s]\u001b[A\n",
      "  6%|█████                                                                              | 2/33 [00:00<00:04,  7.25it/s]\u001b[A\n",
      "  9%|███████▌                                                                           | 3/33 [00:00<00:03,  8.14it/s]\u001b[A\n",
      " 15%|████████████▌                                                                      | 5/33 [00:00<00:02, 10.80it/s]\u001b[A\n",
      " 21%|█████████████████▌                                                                 | 7/33 [00:00<00:02, 10.59it/s]\u001b[A\n",
      " 27%|██████████████████████▋                                                            | 9/33 [00:00<00:02, 10.78it/s]\u001b[A\n",
      " 33%|███████████████████████████▎                                                      | 11/33 [00:01<00:02,  7.53it/s]\u001b[A\n",
      " 36%|█████████████████████████████▊                                                    | 12/33 [00:01<00:02,  7.72it/s]\u001b[A\n",
      " 39%|████████████████████████████████▎                                                 | 13/33 [00:01<00:02,  7.92it/s]\u001b[A\n",
      " 42%|██████████████████████████████████▊                                               | 14/33 [00:01<00:02,  8.16it/s]\u001b[A\n",
      " 48%|███████████████████████████████████████▊                                          | 16/33 [00:01<00:01,  8.83it/s]\u001b[A\n",
      " 55%|████████████████████████████████████████████▋                                     | 18/33 [00:02<00:01,  9.45it/s]\u001b[A\n",
      " 58%|███████████████████████████████████████████████▏                                  | 19/33 [00:02<00:01,  9.26it/s]\u001b[A\n",
      " 64%|████████████████████████████████████████████████████▏                             | 21/33 [00:02<00:01,  9.34it/s]\u001b[A\n",
      " 67%|██████████████████████████████████████████████████████▋                           | 22/33 [00:02<00:01,  9.10it/s]\u001b[A\n",
      " 73%|███████████████████████████████████████████████████████████▋                      | 24/33 [00:02<00:00, 11.13it/s]\u001b[A\n",
      " 79%|████████████████████████████████████████████████████████████████▌                 | 26/33 [00:02<00:00, 10.38it/s]\u001b[A\n",
      " 85%|█████████████████████████████████████████████████████████████████████▌            | 28/33 [00:03<00:00,  9.73it/s]\u001b[A\n",
      " 91%|██████████████████████████████████████████████████████████████████████████▌       | 30/33 [00:03<00:00, 10.15it/s]\u001b[A\n",
      " 97%|███████████████████████████████████████████████████████████████████████████████▌  | 32/33 [00:03<00:00,  9.09it/s]\u001b[A\n",
      "100%|██████████████████████████████████████████████████████████████████████████████████| 33/33 [00:03<00:00,  9.15it/s]\u001b[A\n"
     ]
    }
   ],
   "source": [
    "output = []\n",
    "\n",
    "pbar = tqdm(total=len(sentences))\n",
    "for sample in sentences:\n",
    "    sent_idx = sample[\"id\"]\n",
    "    text = sample[\"sentence\"]\n",
    "    ner = nlp(text, aggregation_strategy=\"simple\")\n",
    "    for ent in ner:\n",
    "        output.append({\n",
    "            \"id\":sent_idx,\n",
    "            \"start_pos\":ent[\"start\"],\n",
    "            \"end_pos\":ent[\"end\"],\n",
    "            \"surface\":ent[\"word\"],\n",
    "            \"type\":ent[\"entity_group\"],\n",
    "            \"score\":ent[\"score\"]\n",
    "        })\n",
    "    pbar.update(1)\n",
    "pbar.close()\n",
    "\n",
    "keys = output[0].keys()\n",
    "a_file = open(\"results/wikineural_multi_it/output.csv\", \"w\")\n",
    "dict_writer = csv.DictWriter(a_file, keys)\n",
    "dict_writer.writeheader()\n",
    "dict_writer.writerows(output)\n",
    "a_file.close()\n",
    "    "
   ]
  },
  {
   "cell_type": "code",
   "execution_count": null,
   "id": "a64e3fc4",
   "metadata": {},
   "outputs": [],
   "source": []
  }
 ],
 "metadata": {
  "kernelspec": {
   "display_name": "Python 3 (ipykernel)",
   "language": "python",
   "name": "python3"
  },
  "language_info": {
   "codemirror_mode": {
    "name": "ipython",
    "version": 3
   },
   "file_extension": ".py",
   "mimetype": "text/x-python",
   "name": "python",
   "nbconvert_exporter": "python",
   "pygments_lexer": "ipython3",
   "version": "3.8.13"
  }
 },
 "nbformat": 4,
 "nbformat_minor": 5
}
