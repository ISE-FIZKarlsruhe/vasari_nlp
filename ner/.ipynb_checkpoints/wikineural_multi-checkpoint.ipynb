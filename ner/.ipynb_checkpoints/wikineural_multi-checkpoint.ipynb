{
 "cells": [
  {
   "cell_type": "code",
   "execution_count": 1,
   "id": "41f37b34",
   "metadata": {},
   "outputs": [
    {
     "name": "stderr",
     "output_type": "stream",
     "text": [
      "C:\\Users\\CSA\\Anaconda3\\envs\\ner_vasari\\lib\\site-packages\\tqdm\\auto.py:22: TqdmWarning: IProgress not found. Please update jupyter and ipywidgets. See https://ipywidgets.readthedocs.io/en/stable/user_install.html\n",
      "  from .autonotebook import tqdm as notebook_tqdm\n"
     ]
    }
   ],
   "source": [
    "import csv\n",
    "from tqdm import tqdm\n",
    "from transformers import AutoTokenizer, AutoModelForTokenClassification\n",
    "from transformers import pipeline"
   ]
  },
  {
   "cell_type": "code",
   "execution_count": 2,
   "id": "7ac166be",
   "metadata": {},
   "outputs": [],
   "source": [
    "with open(\"../vasari-kg.github.io/data/sentences_it.csv\", \"r\", encoding=\"utf-8\") as f:\n",
    "    sentences = list(csv.DictReader(f=f, delimiter=\",\"))"
   ]
  },
  {
   "cell_type": "code",
   "execution_count": 3,
   "id": "e94ac8e7",
   "metadata": {},
   "outputs": [],
   "source": [
    "tokenizer = AutoTokenizer.from_pretrained(\"Babelscape/wikineural-multilingual-ner\")\n",
    "tagger = AutoModelForTokenClassification.from_pretrained(\"Babelscape/wikineural-multilingual-ner\")\n",
    "nlp = pipeline(\"ner\", model=tagger, tokenizer=tokenizer)"
   ]
  },
  {
   "cell_type": "code",
   "execution_count": 4,
   "id": "cb112355",
   "metadata": {},
   "outputs": [
    {
     "name": "stdout",
     "output_type": "stream",
     "text": [
      "[{'entity_group': 'LOC', 'score': 0.9345933, 'word': 'Mercatanzia di Fiorenza', 'start': 35, 'end': 58}, {'entity_group': 'LOC', 'score': 0.92038906, 'word': 'Fortezza', 'start': 64, 'end': 72}, {'entity_group': 'PER', 'score': 0.99630225, 'word': 'Antonio', 'start': 104, 'end': 111}, {'entity_group': 'PER', 'score': 0.99892634, 'word': 'Piero del Pollaiuolo', 'start': 114, 'end': 134}]\n"
     ]
    }
   ],
   "source": [
    "text = sentences[0][\"sentence\"]\n",
    "ner = nlp(text, aggregation_strategy=\"simple\")\n",
    "print(ner)"
   ]
  },
  {
   "cell_type": "code",
   "execution_count": 5,
   "id": "79a2571d",
   "metadata": {
    "scrolled": true
   },
   "outputs": [
    {
     "name": "stderr",
     "output_type": "stream",
     "text": [
      "100%|██████████████████████████████████████████████████████████████████████████████████| 30/30 [00:02<00:00, 10.53it/s]\n"
     ]
    }
   ],
   "source": [
    "output = []\n",
    "\n",
    "pbar = tqdm(total=len(sentences))\n",
    "for sample in sentences:\n",
    "    sent_idx = sample[\"id\"]\n",
    "    text = sample[\"sentence\"]\n",
    "    ner = nlp(text, aggregation_strategy=\"simple\")\n",
    "    for ent in ner:\n",
    "        if len(output)==0:\n",
    "            output.append({\n",
    "                \"id\":sent_idx,\n",
    "                \"start_pos\":ent[\"start\"],\n",
    "                \"end_pos\":ent[\"end\"],\n",
    "                \"surface\":ent[\"word\"],\n",
    "                \"type\":ent[\"entity_group\"],\n",
    "            })\n",
    "        elif output[-1][\"end_pos\"]!=ent[\"start\"]:\n",
    "            output.append({\n",
    "                \"id\":sent_idx,\n",
    "                \"start_pos\":ent[\"start\"],\n",
    "                \"end_pos\":ent[\"end\"],\n",
    "                \"surface\":ent[\"word\"],\n",
    "                \"type\":ent[\"entity_group\"],\n",
    "            })\n",
    "        else:\n",
    "            output[-1] = {\n",
    "                \"id\":sent_idx,\n",
    "                \"start_pos\":output[-1][\"start_pos\"],\n",
    "                \"end_pos\":ent[\"end\"],\n",
    "                \"surface\":output[-1][\"surface\"]+ent[\"word\"].replace(\"#\", \"\"),\n",
    "                \"type\":output[-1][\"type\"],\n",
    "            }\n",
    "    pbar.update(1)\n",
    "pbar.close()\n",
    "\n",
    "keys = output[0].keys()\n",
    "a_file = open(\"results3/wikineural_it/output.csv\", \"w\", encoding=\"utf-8\")\n",
    "dict_writer = csv.DictWriter(a_file, keys)\n",
    "dict_writer.writeheader()\n",
    "dict_writer.writerows(output)\n",
    "a_file.close()\n",
    "    "
   ]
  },
  {
   "cell_type": "code",
   "execution_count": null,
   "id": "a64e3fc4",
   "metadata": {},
   "outputs": [],
   "source": []
  }
 ],
 "metadata": {
  "kernelspec": {
   "display_name": "Python 3 (ipykernel)",
   "language": "python",
   "name": "python3"
  },
  "language_info": {
   "codemirror_mode": {
    "name": "ipython",
    "version": 3
   },
   "file_extension": ".py",
   "mimetype": "text/x-python",
   "name": "python",
   "nbconvert_exporter": "python",
   "pygments_lexer": "ipython3",
   "version": "3.8.13"
  }
 },
 "nbformat": 4,
 "nbformat_minor": 5
}
