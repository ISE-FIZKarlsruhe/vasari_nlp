{
 "cells": [
  {
   "cell_type": "code",
   "execution_count": 1,
   "id": "66256f6c",
   "metadata": {},
   "outputs": [
    {
     "name": "stderr",
     "output_type": "stream",
     "text": [
      "C:\\Users\\CSA\\Anaconda3\\envs\\ner_vasari\\lib\\site-packages\\tqdm\\auto.py:22: TqdmWarning: IProgress not found. Please update jupyter and ipywidgets. See https://ipywidgets.readthedocs.io/en/stable/user_install.html\n",
      "  from .autonotebook import tqdm as notebook_tqdm\n"
     ]
    }
   ],
   "source": [
    "import spacy\n",
    "import csv\n",
    "from tqdm import tqdm\n",
    "import re"
   ]
  },
  {
   "cell_type": "code",
   "execution_count": 3,
   "id": "bbc5331e",
   "metadata": {},
   "outputs": [],
   "source": [
    "with open(\"../vasari-kg.github.io/data/sentences_en.csv\", \"r\") as f:\n",
    "    sentences = list(csv.DictReader(f=f, delimiter=\",\"))"
   ]
  },
  {
   "cell_type": "code",
   "execution_count": 8,
   "id": "f5bd30de",
   "metadata": {},
   "outputs": [],
   "source": [
    "nlp = spacy.load(\"en_core_web_trf\")"
   ]
  },
  {
   "cell_type": "code",
   "execution_count": 6,
   "id": "fdd3ff74",
   "metadata": {},
   "outputs": [],
   "source": [
    "def convert_label(label):\n",
    "    if label == \"PERSON\":\n",
    "        return \"PER\"\n",
    "    if label == \"ORGANIZATION\":\n",
    "        return \"ORG\"\n",
    "    if label in {\"GPE\", \"FAC\"}:\n",
    "        return \"LOC\"\n",
    "    if label ==\"DATE\":\n",
    "        return \"DATE\"\n",
    "    else:\n",
    "        return \"MISC\""
   ]
  },
  {
   "cell_type": "code",
   "execution_count": 9,
   "id": "3b8b8342",
   "metadata": {},
   "outputs": [
    {
     "name": "stderr",
     "output_type": "stream",
     "text": [
      "\n",
      "  0%|                                                                                           | 0/40 [00:48<?, ?it/s]\u001b[A\n",
      "C:\\Users\\CSA\\Anaconda3\\envs\\ner_vasari\\lib\\site-packages\\torch\\autocast_mode.py:162: UserWarning: User provided device_type of 'cuda', but CUDA is not available. Disabling\n",
      "  warnings.warn('User provided device_type of \\'cuda\\', but CUDA is not available. Disabling')\n",
      "\n",
      "  2%|██                                                                                 | 1/40 [00:00<00:23,  1.67it/s]\u001b[A\n",
      "  5%|████▏                                                                              | 2/40 [00:00<00:17,  2.23it/s]\u001b[A\n",
      "  8%|██████▏                                                                            | 3/40 [00:01<00:14,  2.62it/s]\u001b[A\n",
      " 10%|████████▎                                                                          | 4/40 [00:01<00:11,  3.02it/s]\u001b[A\n",
      " 12%|██████████▍                                                                        | 5/40 [00:01<00:09,  3.52it/s]\u001b[A\n",
      " 15%|████████████▍                                                                      | 6/40 [00:02<00:09,  3.42it/s]\u001b[A\n",
      " 18%|██████████████▌                                                                    | 7/40 [00:02<00:09,  3.34it/s]\u001b[A\n",
      " 20%|████████████████▌                                                                  | 8/40 [00:02<00:09,  3.24it/s]\u001b[A\n",
      " 22%|██████████████████▋                                                                | 9/40 [00:02<00:09,  3.29it/s]\u001b[A\n",
      " 25%|████████████████████▌                                                             | 10/40 [00:03<00:14,  2.04it/s]\u001b[A\n",
      " 28%|██████████████████████▌                                                           | 11/40 [00:04<00:12,  2.34it/s]\u001b[A\n",
      " 30%|████████████████████████▌                                                         | 12/40 [00:04<00:11,  2.50it/s]\u001b[A\n",
      " 32%|██████████████████████████▋                                                       | 13/40 [00:04<00:10,  2.61it/s]\u001b[A\n",
      " 35%|████████████████████████████▋                                                     | 14/40 [00:05<00:09,  2.74it/s]\u001b[A\n",
      " 38%|██████████████████████████████▊                                                   | 15/40 [00:05<00:08,  3.09it/s]\u001b[A\n",
      " 40%|████████████████████████████████▊                                                 | 16/40 [00:05<00:09,  2.59it/s]\u001b[A\n",
      " 42%|██████████████████████████████████▊                                               | 17/40 [00:06<00:08,  2.77it/s]\u001b[A\n",
      " 45%|████████████████████████████████████▉                                             | 18/40 [00:06<00:07,  2.82it/s]\u001b[A\n",
      " 48%|██████████████████████████████████████▉                                           | 19/40 [00:06<00:07,  2.73it/s]\u001b[A\n",
      " 50%|█████████████████████████████████████████                                         | 20/40 [00:07<00:06,  3.02it/s]\u001b[A\n",
      " 52%|███████████████████████████████████████████                                       | 21/40 [00:07<00:06,  2.79it/s]\u001b[A\n",
      " 55%|█████████████████████████████████████████████                                     | 22/40 [00:07<00:06,  2.81it/s]\u001b[A\n",
      " 57%|███████████████████████████████████████████████▏                                  | 23/40 [00:08<00:05,  3.16it/s]\u001b[A\n",
      " 60%|█████████████████████████████████████████████████▏                                | 24/40 [00:08<00:04,  3.57it/s]\u001b[A\n",
      " 62%|███████████████████████████████████████████████████▎                              | 25/40 [00:08<00:03,  3.77it/s]\u001b[A\n",
      " 65%|█████████████████████████████████████████████████████▎                            | 26/40 [00:08<00:04,  3.34it/s]\u001b[A\n",
      " 68%|███████████████████████████████████████████████████████▎                          | 27/40 [00:09<00:03,  3.56it/s]\u001b[A\n",
      " 70%|█████████████████████████████████████████████████████████▍                        | 28/40 [00:09<00:03,  3.31it/s]\u001b[A\n",
      " 72%|███████████████████████████████████████████████████████████▍                      | 29/40 [00:09<00:03,  3.42it/s]\u001b[A\n",
      " 75%|█████████████████████████████████████████████████████████████▌                    | 30/40 [00:10<00:02,  3.88it/s]\u001b[A\n",
      " 78%|███████████████████████████████████████████████████████████████▌                  | 31/40 [00:10<00:02,  3.59it/s]\u001b[A\n",
      " 80%|█████████████████████████████████████████████████████████████████▌                | 32/40 [00:10<00:02,  3.05it/s]\u001b[A\n",
      " 82%|███████████████████████████████████████████████████████████████████▋              | 33/40 [00:11<00:02,  2.58it/s]\u001b[A\n",
      " 85%|█████████████████████████████████████████████████████████████████████▋            | 34/40 [00:11<00:02,  2.93it/s]\u001b[A\n",
      " 88%|███████████████████████████████████████████████████████████████████████▊          | 35/40 [00:11<00:01,  3.18it/s]\u001b[A\n",
      " 90%|█████████████████████████████████████████████████████████████████████████▊        | 36/40 [00:12<00:01,  3.07it/s]\u001b[A\n",
      " 92%|███████████████████████████████████████████████████████████████████████████▊      | 37/40 [00:13<00:01,  1.76it/s]\u001b[A\n",
      " 95%|█████████████████████████████████████████████████████████████████████████████▉    | 38/40 [00:13<00:00,  2.18it/s]\u001b[A\n",
      " 98%|███████████████████████████████████████████████████████████████████████████████▉  | 39/40 [00:14<00:00,  2.07it/s]\u001b[A\n",
      "100%|██████████████████████████████████████████████████████████████████████████████████| 40/40 [00:14<00:00,  2.76it/s]\u001b[A\n"
     ]
    }
   ],
   "source": [
    "output = []\n",
    "\n",
    "pbar = tqdm(total=len(sentences))\n",
    "for sample in sentences:\n",
    "    sent_idx = sample[\"id\"]\n",
    "    text = sample[\"sentence\"]\n",
    "    doc = nlp(text)\n",
    "    for ent in doc.ents:\n",
    "        start_pos = ent.start_char\n",
    "        end_pos = ent.end_char\n",
    "        surface = ent.text\n",
    "        ner_type = ent.label_\n",
    "        match = re.match('(?:^the\\s|^a\\s)(.*?)$', surface, re.IGNORECASE)\n",
    "        if match:\n",
    "            surface = match.group(1)\n",
    "            start_pos = end_pos - len(surface)\n",
    "        if ner_type not in {\"TIME\", \"PERCENT\", \"MONEY\", \"QUANTITY\", \"ORDINAL\",\"CARDINAL\"}:\n",
    "            ner_type = convert_label(ner_type)\n",
    "            output.append({\n",
    "                \"id\":sent_idx,\n",
    "                \"start_pos\":start_pos,\n",
    "                \"end_pos\":end_pos,\n",
    "                \"surface\":surface,\n",
    "                \"type\":ner_type\n",
    "            })\n",
    "    pbar.update(1)\n",
    "pbar.close()\n",
    "\n",
    "\n",
    "keys = output[0].keys()\n",
    "a_file = open(\"results3/spacy_en/output.csv\", \"w\")\n",
    "dict_writer = csv.DictWriter(a_file, keys)\n",
    "dict_writer.writeheader()\n",
    "dict_writer.writerows(output)\n",
    "a_file.close()\n",
    "    "
   ]
  },
  {
   "cell_type": "code",
   "execution_count": 13,
   "id": "e684b036",
   "metadata": {},
   "outputs": [
    {
     "name": "stdout",
     "output_type": "stream",
     "text": [
      "beautiful mind\n"
     ]
    }
   ],
   "source": []
  },
  {
   "cell_type": "code",
   "execution_count": null,
   "id": "6ec0e0c2",
   "metadata": {},
   "outputs": [],
   "source": []
  }
 ],
 "metadata": {
  "kernelspec": {
   "display_name": "Python 3 (ipykernel)",
   "language": "python",
   "name": "python3"
  },
  "language_info": {
   "codemirror_mode": {
    "name": "ipython",
    "version": 3
   },
   "file_extension": ".py",
   "mimetype": "text/x-python",
   "name": "python",
   "nbconvert_exporter": "python",
   "pygments_lexer": "ipython3",
   "version": "3.8.13"
  }
 },
 "nbformat": 4,
 "nbformat_minor": 5
}
