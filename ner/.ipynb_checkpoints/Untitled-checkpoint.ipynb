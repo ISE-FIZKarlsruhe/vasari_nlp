{
 "cells": [
  {
   "cell_type": "code",
   "execution_count": 1,
   "id": "35e9de1f",
   "metadata": {},
   "outputs": [
    {
     "name": "stderr",
     "output_type": "stream",
     "text": [
      "C:\\Users\\CSA\\Anaconda3\\envs\\ner_vasari\\lib\\site-packages\\tqdm\\auto.py:22: TqdmWarning: IProgress not found. Please update jupyter and ipywidgets. See https://ipywidgets.readthedocs.io/en/stable/user_install.html\n",
      "  from .autonotebook import tqdm as notebook_tqdm\n"
     ]
    }
   ],
   "source": [
    "import csv\n",
    "from tqdm import tqdm\n",
    "from transformers import AutoTokenizer, AutoModelForTokenClassification\n",
    "from transformers import pipeline"
   ]
  },
  {
   "cell_type": "code",
   "execution_count": 2,
   "id": "71f2aa96",
   "metadata": {},
   "outputs": [],
   "source": [
    "with open(\"../vasari-kg.github.io/data/sentences_en.csv\", \"r\") as f:\n",
    "    sentences = list(csv.DictReader(f=f, delimiter=\",\"))"
   ]
  },
  {
   "cell_type": "code",
   "execution_count": 3,
   "id": "def35713",
   "metadata": {},
   "outputs": [],
   "source": [
    "tokenizer = AutoTokenizer.from_pretrained(\"Babelscape/wikineural-multilingual-ner\")\n",
    "tagger = AutoModelForTokenClassification.from_pretrained(\"Babelscape/wikineural-multilingual-ner\")\n",
    "nlp = pipeline(\"ner\", model=tagger, tokenizer=tokenizer)"
   ]
  },
  {
   "cell_type": "code",
   "execution_count": 2,
   "id": "f7bcd7bc",
   "metadata": {},
   "outputs": [],
   "source": [
    "with open(\"../vasari-kg.github.io/extra/surfaces.csv\", \"r\", encoding=\"utf-8\") as f2:\n",
    "    surfaces = list(csv.DictReader(f=f2, delimiter=\",\"))"
   ]
  },
  {
   "cell_type": "code",
   "execution_count": 3,
   "id": "7a182aa8",
   "metadata": {},
   "outputs": [],
   "source": [
    "set_of_surfaces = set([surface[\"surface\"].lower() for surface in surfaces])"
   ]
  },
  {
   "cell_type": "code",
   "execution_count": 4,
   "id": "d4b984a7",
   "metadata": {},
   "outputs": [],
   "source": [
    "import marisa_trie\n",
    "trie = marisa_trie.Trie(list(set_of_surfaces))"
   ]
  },
  {
   "cell_type": "code",
   "execution_count": 5,
   "id": "8b8cd980",
   "metadata": {},
   "outputs": [
    {
     "name": "stdout",
     "output_type": "stream",
     "text": [
      "['king', 'king of france', 'king of france francis i', 'king of france francisco i', 'king of france francesco i', 'king of france francois i', 'king of france franz i', 'king of france françois i', 'king of portugal', 'king of portugal and the algarves', 'king of the church', 'king francis', 'king francis i', 'king francis i of france', 'king francis&nbsp;i', 'king francois i', 'king françois i', 'king françois i of france', 'king cepheus', 'king neptune', 'kingdom animal', 'kingdom animalia', 'kingdom of france', 'kingdomanimalia', \"king's\", \"king's colour\", \"king's colour and regimental colour\", 'kings', 'kings and queens', 'kings’ day', 'king’s colour']\n"
     ]
    }
   ],
   "source": [
    "print(trie.keys(\"king\"))"
   ]
  },
  {
   "cell_type": "code",
   "execution_count": 7,
   "id": "f778b113",
   "metadata": {},
   "outputs": [],
   "source": [
    "from flair.data import Sentence\n",
    "from flair.models import SequenceTagger"
   ]
  },
  {
   "cell_type": "code",
   "execution_count": 21,
   "id": "5dac35b0",
   "metadata": {},
   "outputs": [
    {
     "name": "stdout",
     "output_type": "stream",
     "text": [
      "2022-06-08 15:35:47,442 loading file C:\\Users\\CSA\\.flair\\models\\pos-english\\a9a73f6cd878edce8a0fa518db76f441f1cc49c2525b2b4557af278ec2f0659e.121306ea62993d04cd1978398b68396931a39eb47754c8a06a87f325ea70ac63\n",
      "2022-06-08 15:35:47,601 SequenceTagger predicts: Dictionary with 53 tags: <unk>, O, UH, ,, VBD, PRP, VB, PRP$, NN, RB, ., DT, JJ, VBP, VBG, IN, CD, NNS, NNP, WRB, VBZ, WDT, CC, TO, MD, VBN, WP, :, RP, EX, JJR, FW, XX, HYPH, POS, RBR, JJS, PDT, NNPS, RBS, AFX, WP$, -LRB-, -RRB-, ``, '', LS, $, SYM, ADD\n",
      "8\n"
     ]
    }
   ],
   "source": [
    "text = \"Lorenzo de Medici painted a S. Anna\"\n",
    "tagger = SequenceTagger.load(\"flair/pos-english\")\n",
    "sentence = Sentence(text)\n",
    "tagger.predict(sentence)\n",
    "print(len(sentence))"
   ]
  },
  {
   "cell_type": "code",
   "execution_count": 27,
   "id": "69819f5f",
   "metadata": {},
   "outputs": [],
   "source": [
    "counter = 0\n",
    "candidates = []\n",
    "\n",
    "while counter < len(sentence):\n",
    "    idx = counter\n",
    "    counter+=1\n",
    "    candidate = None\n",
    "    prefix = None\n",
    "    for idx2 in range(idx, len(sentence)):\n",
    "        if prefix == None and sentence[idx2].get_label(\"pos\").value in {\"DT\"}:\n",
    "            break\n",
    "        elif prefix == None:\n",
    "            prefix = sentence[idx2].text.lower()\n",
    "            start_pos = sentence[idx2].start_pos\n",
    "            end_pos = sentence[idx2].end_pos\n",
    "            tags = [sentence[idx2].get_label(\"pos\").value]\n",
    "        else:\n",
    "            prefix += \" \"+sentence[idx2].text.lower()\n",
    "            end_pos = sentence[idx2].end_pos\n",
    "            tags.append(sentence[idx2].get_label(\"pos\").value)\n",
    "            \n",
    "        matches = trie.keys(prefix)\n",
    "        if len(matches)<1:\n",
    "            if candidate!=None:\n",
    "                del candidate[\"tags\"][-1]\n",
    "                candidates.append(candidate)\n",
    "            break\n",
    "        else:\n",
    "            if prefix in matches:\n",
    "                candidate = {\"text\":prefix, \"start_pos\":start_pos, \"end_pos\":end_pos, \"tags\":tags}\n",
    "                if idx2 == len(sentence)-1:\n",
    "                    candidates.append(candidate)\n",
    "                \n",
    "            "
   ]
  },
  {
   "cell_type": "code",
   "execution_count": 28,
   "id": "410ffe15",
   "metadata": {},
   "outputs": [
    {
     "name": "stdout",
     "output_type": "stream",
     "text": [
      "[{'text': 'lorenzo de medici', 'start_pos': 0, 'end_pos': 17, 'tags': ['NNP', 'NNP', 'NNP']}, {'text': 'de medici', 'start_pos': 8, 'end_pos': 17, 'tags': ['NNP', 'NNP']}, {'text': 'medici', 'start_pos': 11, 'end_pos': 17, 'tags': ['NNP']}, {'text': 'painted', 'start_pos': 18, 'end_pos': 25, 'tags': ['VBD']}, {'text': 'anna', 'start_pos': 31, 'end_pos': 35, 'tags': ['NNP']}]\n"
     ]
    }
   ],
   "source": [
    "print(candidates)"
   ]
  },
  {
   "cell_type": "code",
   "execution_count": 29,
   "id": "67eb0fa9",
   "metadata": {},
   "outputs": [
    {
     "name": "stdout",
     "output_type": "stream",
     "text": [
      "[{'text': 'lorenzo de medici', 'start_pos': 0, 'end_pos': 17, 'tags': ['NNP', 'NNP', 'NNP']}, {'text': 'painted', 'start_pos': 18, 'end_pos': 25, 'tags': ['VBD']}, {'text': 'anna', 'start_pos': 31, 'end_pos': 35, 'tags': ['NNP']}]\n"
     ]
    }
   ],
   "source": [
    "def filter_candidates(candidates):\n",
    "    output = []\n",
    "    for item in candidates:\n",
    "        if len(output)==0:\n",
    "            output.append(item)\n",
    "        else:\n",
    "            last_range = range(output[-1][\"start_pos\"], output[-1][\"end_pos\"])\n",
    "            curr_range = range(item[\"start_pos\"], item[\"end_pos\"])\n",
    "            if set(last_range).intersection(set(curr_range)):\n",
    "                if len(output[-1][\"text\"])<len(item[\"text\"]):\n",
    "                    output[-1]=item\n",
    "            else:\n",
    "                output.append(item)\n",
    "    return output\n",
    "\n",
    "print(filter_candidates(candidates))"
   ]
  },
  {
   "cell_type": "code",
   "execution_count": 92,
   "id": "5e94211d",
   "metadata": {},
   "outputs": [
    {
     "name": "stdout",
     "output_type": "stream",
     "text": [
      "2022-06-08 18:54:03,880 loading file C:\\Users\\CSA\\.flair\\models\\upos-multi\\1a44f168663182024fd3ea6d7dcaeee47fe5bcb537cc737ad058b64ad4db9736.5f899f25846741510a6567b89027d988bd6f634b2776a7c3e834fea4629367cb\n",
      "2022-06-08 18:54:04,319 SequenceTagger predicts: Dictionary with 21 tags: <unk>, O, PROPN, PUNCT, ADJ, NOUN, VERB, DET, ADP, AUX, PRON, PART, SCONJ, NUM, ADV, CCONJ, X, INTJ, SYM, <START>, <STOP>\n",
      "PROPN\n",
      "ADV\n",
      "VERB\n",
      "DET\n",
      "NOUN\n",
      "ADP\n",
      "PRON\n",
      "PROPN\n",
      "PUNCT\n",
      "DET\n",
      "ADV\n",
      "ADJ\n",
      "NOUN\n",
      "PUNCT\n",
      "PRON\n",
      "AUX\n",
      "ADP\n",
      "DET\n",
      "NOUN\n",
      "ADP\n",
      "PROPN\n",
      "PROPN\n",
      "NUM\n",
      "PUNCT\n",
      "CCONJ\n",
      "PUNCT\n",
      "ADP\n",
      "ADJ\n",
      "NOUN\n",
      "VERB\n",
      "ADV\n",
      "PUNCT\n",
      "PRON\n",
      "VERB\n",
      "DET\n",
      "NOUN\n",
      "NOUN\n",
      "ADJ\n",
      "ADP\n",
      "NOUN\n",
      "PUNCT\n",
      "VERB\n",
      "DET\n",
      "NOUN\n",
      "PUNCT\n",
      "ADP\n",
      "PRON\n",
      "PUNCT\n",
      "ADP\n",
      "PRON\n",
      "ADJ\n",
      "NOUN\n",
      "PUNCT\n",
      "PRON\n",
      "AUX\n",
      "VERB\n",
      "DET\n",
      "NOUN\n",
      "ADP\n",
      "DET\n",
      "NOUN\n",
      "PUNCT\n",
      "SCONJ\n",
      "SCONJ\n",
      "PRON\n",
      "VERB\n",
      "ADV\n",
      "ADJ\n",
      "ADP\n",
      "DET\n",
      "NOUN\n",
      "PUNCT\n"
     ]
    }
   ],
   "source": [
    "text = \"\"\"\n",
    "Leonardo then made a picture of Our Lady, a most excellent work, which was in the possession of Pope Clement VII; and, among other things painted therein, he counterfeited a glass vase full of water, containing some flowers, in which, besides its marvellous naturalness, he had imitated the dew-drops on the flowers, so that it seemed more real than the reality.\n",
    "\"\"\"\n",
    "tagger = SequenceTagger.load(\"flair/upos-multi\")\n",
    "sentence = Sentence(text)\n",
    "tagger.predict(sentence)\n",
    "for entity in sentence:\n",
    "    print(entity.get_label(\"upos\").value)"
   ]
  },
  {
   "cell_type": "code",
   "execution_count": 104,
   "id": "9d3e0772",
   "metadata": {},
   "outputs": [],
   "source": [
    "jj_nn = \"((ADJ|PRON)\\s)?((NOUN|PROPN)\\s?)+\"\n",
    "post_mod = \"(\\s(NUM|DET\\s(ADJ|NOUN)))?\"\n",
    "prop_phrase = \"(\\sADP\\s((ADJ|PRON)\\s)?((NOUN|PROPN)\\s?)+){0,2}$\""
   ]
  },
  {
   "cell_type": "code",
   "execution_count": 107,
   "id": "4ba25712",
   "metadata": {},
   "outputs": [
    {
     "name": "stdout",
     "output_type": "stream",
     "text": [
      "NOUN ADP PROPN PROPN ADP PROPN\n",
      "<re.Match object; span=(0, 30), match='NOUN ADP PROPN PROPN ADP PROPN'>\n"
     ]
    }
   ],
   "source": [
    "import re\n",
    "text = \"Church of S. Mary in Florence\"\n",
    "sentence = Sentence(text)\n",
    "tagger.predict(sentence)\n",
    "tags = \" \".join([item.get_label(\"upos\").value for item in sentence if item.get_label(\"upos\").value != \"PUNCT\"])\n",
    "print(tags)\n",
    "print(re.match(jj_nn+post_mod+prop_phrase, tags))"
   ]
  },
  {
   "cell_type": "code",
   "execution_count": null,
   "id": "e9ee548a",
   "metadata": {},
   "outputs": [],
   "source": []
  }
 ],
 "metadata": {
  "kernelspec": {
   "display_name": "Python 3 (ipykernel)",
   "language": "python",
   "name": "python3"
  },
  "language_info": {
   "codemirror_mode": {
    "name": "ipython",
    "version": 3
   },
   "file_extension": ".py",
   "mimetype": "text/x-python",
   "name": "python",
   "nbconvert_exporter": "python",
   "pygments_lexer": "ipython3",
   "version": "3.8.13"
  }
 },
 "nbformat": 4,
 "nbformat_minor": 5
}
