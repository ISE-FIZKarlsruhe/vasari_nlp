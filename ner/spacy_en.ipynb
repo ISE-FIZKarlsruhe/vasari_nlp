{
 "cells": [
  {
   "cell_type": "code",
   "execution_count": 1,
   "id": "66256f6c",
   "metadata": {},
   "outputs": [
    {
     "name": "stderr",
     "output_type": "stream",
     "text": [
      "C:\\Users\\CSA\\Anaconda3\\envs\\ner_vasari\\lib\\site-packages\\tqdm\\auto.py:22: TqdmWarning: IProgress not found. Please update jupyter and ipywidgets. See https://ipywidgets.readthedocs.io/en/stable/user_install.html\n",
      "  from .autonotebook import tqdm as notebook_tqdm\n"
     ]
    }
   ],
   "source": [
    "import spacy\n",
    "import csv\n",
    "from tqdm import tqdm"
   ]
  },
  {
   "cell_type": "code",
   "execution_count": 2,
   "id": "bbc5331e",
   "metadata": {},
   "outputs": [],
   "source": [
    "with open(\"../data/sentences_en.csv\", \"r\") as f:\n",
    "    sentences = list(csv.DictReader(f=f, delimiter=\",\"))"
   ]
  },
  {
   "cell_type": "code",
   "execution_count": 3,
   "id": "f5bd30de",
   "metadata": {},
   "outputs": [],
   "source": [
    "nlp = spacy.load(\"en_core_web_trf\")"
   ]
  },
  {
   "cell_type": "code",
   "execution_count": 5,
   "id": "3b8b8342",
   "metadata": {},
   "outputs": [
    {
     "name": "stderr",
     "output_type": "stream",
     "text": [
      "100%|██████████| 33/33 [00:06<00:00,  4.89it/s]\n"
     ]
    }
   ],
   "source": [
    "output = []\n",
    "\n",
    "pbar = tqdm(total=len(sentences))\n",
    "for sample in sentences:\n",
    "    sent_idx = sample[\"id\"]\n",
    "    text = sample[\"sentence\"]\n",
    "    doc = nlp(text)\n",
    "    for ent in doc.ents:\n",
    "        output.append({\n",
    "            \"id\":sent_idx,\n",
    "            \"start_pos\":ent.start_char,\n",
    "            \"end_pos\":ent.end_char,\n",
    "            \"surface\":ent.text,\n",
    "            \"type\":ent.label_\n",
    "        })\n",
    "    pbar.update(1)\n",
    "pbar.close()\n",
    "\n",
    "\n",
    "keys = output[0].keys()\n",
    "a_file = open(\"results/spacy_en/output.csv\", \"w\")\n",
    "dict_writer = csv.DictWriter(a_file, keys)\n",
    "dict_writer.writeheader()\n",
    "dict_writer.writerows(output)\n",
    "a_file.close()\n",
    "    "
   ]
  },
  {
   "cell_type": "code",
   "execution_count": null,
   "id": "6ec0e0c2",
   "metadata": {},
   "outputs": [],
   "source": []
  }
 ],
 "metadata": {
  "kernelspec": {
   "display_name": "Python 3 (ipykernel)",
   "language": "python",
   "name": "python3"
  },
  "language_info": {
   "codemirror_mode": {
    "name": "ipython",
    "version": 3
   },
   "file_extension": ".py",
   "mimetype": "text/x-python",
   "name": "python",
   "nbconvert_exporter": "python",
   "pygments_lexer": "ipython3",
   "version": "3.8.13"
  }
 },
 "nbformat": 4,
 "nbformat_minor": 5
}
