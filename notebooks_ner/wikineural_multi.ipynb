{
 "cells": [
  {
   "cell_type": "code",
   "execution_count": 1,
   "id": "41f37b34",
   "metadata": {},
   "outputs": [
    {
     "name": "stderr",
     "output_type": "stream",
     "text": [
      "C:\\Users\\CSA\\Anaconda3\\envs\\ner_vasari\\lib\\site-packages\\tqdm\\auto.py:22: TqdmWarning: IProgress not found. Please update jupyter and ipywidgets. See https://ipywidgets.readthedocs.io/en/stable/user_install.html\n",
      "  from .autonotebook import tqdm as notebook_tqdm\n"
     ]
    }
   ],
   "source": [
    "## multilingual\n",
    "\n",
    "import csv\n",
    "from tqdm import tqdm\n",
    "from transformers import AutoTokenizer, AutoModelForTokenClassification\n",
    "from transformers import pipeline"
   ]
  },
  {
   "cell_type": "code",
   "execution_count": 2,
   "id": "7ac166be",
   "metadata": {},
   "outputs": [],
   "source": [
    "with open(\"../data/sentences.csv\", \"r\", encoding=\"utf-8\") as f:\n",
    "    data = list(csv.DictReader(f=f, delimiter=\",\"))"
   ]
  },
  {
   "cell_type": "code",
   "execution_count": 6,
   "id": "e94ac8e7",
   "metadata": {},
   "outputs": [],
   "source": [
    "tokenizer = AutoTokenizer.from_pretrained(\"Babelscape/wikineural-multilingual-ner\")\n",
    "tagger = AutoModelForTokenClassification.from_pretrained(\"Babelscape/wikineural-multilingual-ner\")\n",
    "nlp = pipeline(\"ner\", model=tagger, tokenizer=tokenizer, aggregation_strategy=\"simple\")"
   ]
  },
  {
   "cell_type": "code",
   "execution_count": 7,
   "id": "cb112355",
   "metadata": {},
   "outputs": [
    {
     "data": {
      "text/plain": [
       "[{'entity_group': 'LOC',\n",
       "  'score': 0.9993399,\n",
       "  'word': 'Florence',\n",
       "  'start': 3,\n",
       "  'end': 11},\n",
       " {'entity_group': 'PER',\n",
       "  'score': 0.59895015,\n",
       "  'word': 'Frate',\n",
       "  'start': 30,\n",
       "  'end': 35},\n",
       " {'entity_group': 'PER',\n",
       "  'score': 0.9934189,\n",
       "  'word': 'Michelagnolo',\n",
       "  'start': 224,\n",
       "  'end': 236},\n",
       " {'entity_group': 'PER',\n",
       "  'score': 0.9826374,\n",
       "  'word': 'Fra Giovanni Agnolo',\n",
       "  'start': 304,\n",
       "  'end': 323}]"
      ]
     },
     "execution_count": 7,
     "metadata": {},
     "output_type": "execute_result"
    }
   ],
   "source": [
    "from nltk.tokenize import sent_tokenize\n",
    "text = data[0][\"sentence\"]\n",
    "sentences = sent_tokenize(text)\n",
    "\n",
    "for sentence in sentences:\n",
    "    entities = nlp(sentence)\n",
    "entities"
   ]
  },
  {
   "cell_type": "code",
   "execution_count": 10,
   "id": "79a2571d",
   "metadata": {
    "scrolled": true
   },
   "outputs": [
    {
     "name": "stderr",
     "output_type": "stream",
     "text": [
      "100%|██████████████████████████████████████████████████████████████████████████████████| 55/55 [01:04<00:00,  1.18s/it]\n"
     ]
    }
   ],
   "source": [
    "output = []\n",
    "\n",
    "pbar = tqdm(total=len(data))\n",
    "for sample in data:\n",
    "    doc_id = sample[\"id\"]\n",
    "    text = sample[\"sentence\"]\n",
    "    sentences = [s for s in sent_tokenize(text)]\n",
    "    curr_pos = 0\n",
    "    for sentence_id, sentence in enumerate(sentences):\n",
    "        if sentence_id>0:\n",
    "            curr_pos = curr_pos + len(sentences[sentence_id-1])+1\n",
    "        ner = nlp(sentence)\n",
    "        for ent in ner:\n",
    "            if len(output)>0:\n",
    "                if output[-1][\"sent_end_pos\"]==ent[\"start\"]:\n",
    "                    output[-1]={\n",
    "                        \"doc_id\":doc_id,\n",
    "                        \"doc_start_pos\":output[-1][\"doc_start_pos\"],\n",
    "                        \"doc_end_pos\":curr_pos+ent[\"end\"],\n",
    "                        \"sentence_id\":sentence_id,\n",
    "                        \"sent_start_pos\":output[-1][\"sent_start_pos\"],\n",
    "                        \"sent_end_pos\":ent[\"end\"],\n",
    "                        \"surface\":output[-1][\"surface\"]+ent[\"word\"][2:],\n",
    "                        \"type\":ent[\"entity_group\"],\n",
    "                        \"score\":ent[\"score\"]\n",
    "                    }\n",
    "                else:\n",
    "                    output.append({\n",
    "                        \"doc_id\":doc_id,\n",
    "                        \"doc_start_pos\":curr_pos+ent[\"start\"],\n",
    "                        \"doc_end_pos\":curr_pos+ent[\"end\"],\n",
    "                        \"sentence_id\":sentence_id,\n",
    "                        \"sent_start_pos\":ent[\"start\"],\n",
    "                        \"sent_end_pos\":ent[\"end\"],\n",
    "                        \"surface\":ent[\"word\"],\n",
    "                        \"type\":ent[\"entity_group\"],\n",
    "                        \"score\":ent[\"score\"]\n",
    "                    })\n",
    "            else:\n",
    "                output.append({\n",
    "                    \"doc_id\":doc_id,\n",
    "                    \"doc_start_pos\":curr_pos+ent[\"start\"],\n",
    "                    \"doc_end_pos\":curr_pos+ent[\"end\"],\n",
    "                    \"sentence_id\":sentence_id,\n",
    "                    \"sent_start_pos\":ent[\"start\"],\n",
    "                    \"sent_end_pos\":ent[\"end\"],\n",
    "                    \"surface\":ent[\"word\"],\n",
    "                    \"type\":ent[\"entity_group\"],\n",
    "                    \"score\":ent[\"score\"]\n",
    "                })\n",
    "    pbar.update(1)\n",
    "pbar.close()\n",
    "\n",
    "keys = output[0].keys()\n",
    "a_file = open(\"../results/wikineural/output.csv\", \"w\", encoding=\"utf-8\")\n",
    "dict_writer = csv.DictWriter(a_file, keys)\n",
    "dict_writer.writeheader()\n",
    "dict_writer.writerows(output)\n",
    "a_file.close()\n",
    "    "
   ]
  },
  {
   "cell_type": "code",
   "execution_count": null,
   "id": "a64e3fc4",
   "metadata": {},
   "outputs": [],
   "source": []
  }
 ],
 "metadata": {
  "kernelspec": {
   "display_name": "Python 3 (ipykernel)",
   "language": "python",
   "name": "python3"
  },
  "language_info": {
   "codemirror_mode": {
    "name": "ipython",
    "version": 3
   },
   "file_extension": ".py",
   "mimetype": "text/x-python",
   "name": "python",
   "nbconvert_exporter": "python",
   "pygments_lexer": "ipython3",
   "version": "3.8.13"
  }
 },
 "nbformat": 4,
 "nbformat_minor": 5
}
