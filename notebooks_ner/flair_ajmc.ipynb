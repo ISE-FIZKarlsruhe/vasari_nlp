{
 "cells": [
  {
   "cell_type": "code",
   "execution_count": 1,
   "id": "41f37b34",
   "metadata": {},
   "outputs": [
    {
     "name": "stderr",
     "output_type": "stream",
     "text": [
      "C:\\Users\\CSA\\Anaconda3\\envs\\ner_vasari\\lib\\site-packages\\tqdm\\auto.py:22: TqdmWarning: IProgress not found. Please update jupyter and ipywidgets. See https://ipywidgets.readthedocs.io/en/stable/user_install.html\n",
      "  from .autonotebook import tqdm as notebook_tqdm\n"
     ]
    }
   ],
   "source": [
    "import csv\n",
    "from tqdm import tqdm\n",
    "from nltk.tokenize import sent_tokenize\n",
    "import json"
   ]
  },
  {
   "cell_type": "code",
   "execution_count": 5,
   "id": "e94ac8e7",
   "metadata": {},
   "outputs": [
    {
     "name": "stderr",
     "output_type": "stream",
     "text": [
      "Downloading: 100%|██████████████████████████████████████████████████████████████████| 443M/443M [00:35<00:00, 12.4MB/s]"
     ]
    },
    {
     "name": "stdout",
     "output_type": "stream",
     "text": [
      "2023-09-14 15:28:41,632 loading file C:\\Users\\CSA\\.flair\\models\\flair-hipe-2022-ajmc-all\\b86734a7b13217db82e7ac7d98582633b2c7fcdc95a0a81e16a3b6c7cffaa017.f8e185f00441dccb5d35c9730b9c47e3ded7dc8b595d64897e37d6e451205d51\n"
     ]
    },
    {
     "name": "stderr",
     "output_type": "stream",
     "text": [
      "\n"
     ]
    },
    {
     "name": "stdout",
     "output_type": "stream",
     "text": [
      "2023-09-14 15:28:44,408 SequenceTagger predicts: Dictionary with 25 tags: O, S-scope, B-scope, E-scope, I-scope, S-pers, B-pers, E-pers, I-pers, S-work, B-work, E-work, I-work, S-loc, B-loc, E-loc, I-loc, S-object, B-object, E-object, I-object, S-date, B-date, E-date, I-date\n"
     ]
    }
   ],
   "source": [
    "from flair.models import SequenceTagger\n",
    "\n",
    "tagger = SequenceTagger.load(\"dbmdz/flair-hipe-2022-ajmc-all\")"
   ]
  },
  {
   "cell_type": "code",
   "execution_count": 7,
   "id": "7ac166be",
   "metadata": {},
   "outputs": [],
   "source": [
    "with open(\"../data/sentences.csv\", \"r\", encoding=\"utf-8\") as f:\n",
    "    data = list(csv.DictReader(f=f, delimiter=\",\"))"
   ]
  },
  {
   "cell_type": "code",
   "execution_count": 9,
   "id": "cb112355",
   "metadata": {},
   "outputs": [
    {
     "name": "stdout",
     "output_type": "stream",
     "text": [
      "The following NER tags are found:\n",
      "entity.text is: \"Pope Clement\"\n",
      "entity.start_position is: \"9\"\n",
      "entity.end_position is: \"21\"\n",
      "entity \"ner\"-label value is: \"pers\"\n",
      "entity \"ner\"-label score is: \"0.9964885413646698\"\n",
      "\n",
      "entity.text is: \"Buonarroti\"\n",
      "entity.start_position is: \"46\"\n",
      "entity.end_position is: \"56\"\n",
      "entity \"ner\"-label value is: \"pers\"\n",
      "entity \"ner\"-label score is: \"0.9999281167984009\"\n",
      "\n",
      "entity.text is: \"Florence\"\n",
      "entity.start_position is: \"74\"\n",
      "entity.end_position is: \"82\"\n",
      "entity \"ner\"-label value is: \"loc\"\n",
      "entity \"ner\"-label score is: \"0.9996395111083984\"\n",
      "\n",
      "entity.text is: \"S . Lorenzo\"\n",
      "entity.start_position is: \"134\"\n",
      "entity.end_position is: \"144\"\n",
      "entity \"ner\"-label value is: \"pers\"\n",
      "entity \"ner\"-label score is: \"0.868414044380188\"\n",
      "\n",
      "entity.text is: \"Michelagnolo\"\n",
      "entity.start_position is: \"233\"\n",
      "entity.end_position is: \"245\"\n",
      "entity \"ner\"-label value is: \"pers\"\n",
      "entity \"ner\"-label score is: \"0.9999263286590576\"\n",
      "\n",
      "entity.text is: \"Fra Giovanni Agnolo\"\n",
      "entity.start_position is: \"346\"\n",
      "entity.end_position is: \"365\"\n",
      "entity \"ner\"-label value is: \"pers\"\n",
      "entity \"ner\"-label score is: \"0.9986838102340698\"\n",
      "\n",
      "entity.text is: \"Antonio da San Gallo\"\n",
      "entity.start_position is: \"417\"\n",
      "entity.end_position is: \"437\"\n",
      "entity \"ner\"-label value is: \"pers\"\n",
      "entity \"ner\"-label score is: \"0.9982969164848328\"\n",
      "\n",
      "entity.text is: \"Madonna\"\n",
      "entity.start_position is: \"474\"\n",
      "entity.end_position is: \"481\"\n",
      "entity \"ner\"-label value is: \"work\"\n",
      "entity \"ner\"-label score is: \"0.979957640171051\"\n",
      "\n",
      "entity.text is: \"di Loreto\"\n",
      "entity.start_position is: \"482\"\n",
      "entity.end_position is: \"491\"\n",
      "entity \"ner\"-label value is: \"pers\"\n",
      "entity \"ner\"-label score is: \"0.9664550125598907\"\n",
      "\n",
      "The following NER tags are found:\n",
      "entity.text is: \"Florence\"\n",
      "entity.start_position is: \"48\"\n",
      "entity.end_position is: \"56\"\n",
      "entity \"ner\"-label value is: \"loc\"\n",
      "entity \"ner\"-label score is: \"0.9964661598205566\"\n",
      "\n",
      "entity.text is: \"Michelagnolo\"\n",
      "entity.start_position is: \"58\"\n",
      "entity.end_position is: \"70\"\n",
      "entity \"ner\"-label value is: \"pers\"\n",
      "entity \"ner\"-label score is: \"0.999894380569458\"\n",
      "\n",
      "entity.text is: \"Lorenzo\"\n",
      "entity.start_position is: \"105\"\n",
      "entity.end_position is: \"112\"\n",
      "entity \"ner\"-label value is: \"pers\"\n",
      "entity \"ner\"-label score is: \"0.7081408500671387\"\n",
      "\n",
      "entity.text is: \"Giuliano\"\n",
      "entity.start_position is: \"122\"\n",
      "entity.end_position is: \"130\"\n",
      "entity \"ner\"-label value is: \"pers\"\n",
      "entity \"ner\"-label score is: \"0.6027239561080933\"\n",
      "\n",
      "entity.text is: \"Fra Giovanni Agnolo\"\n",
      "entity.start_position is: \"244\"\n",
      "entity.end_position is: \"263\"\n",
      "entity \"ner\"-label value is: \"pers\"\n",
      "entity \"ner\"-label score is: \"0.9752273956934611\"\n",
      "\n",
      "The following NER tags are found:\n",
      "entity.text is: \"S\"\n",
      "entity.start_position is: \"95\"\n",
      "entity.end_position is: \"96\"\n",
      "entity \"ner\"-label value is: \"work\"\n",
      "entity \"ner\"-label score is: \"0.5148095488548279\"\n",
      "\n",
      "entity.text is: \". Cosimo\"\n",
      "entity.start_position is: \"96\"\n",
      "entity.end_position is: \"104\"\n",
      "entity \"ner\"-label value is: \"pers\"\n",
      "entity \"ner\"-label score is: \"0.8430888652801514\"\n",
      "\n",
      "entity.text is: \"S\"\n",
      "entity.start_position is: \"111\"\n",
      "entity.end_position is: \"112\"\n",
      "entity \"ner\"-label value is: \"work\"\n",
      "entity \"ner\"-label score is: \"0.5733789801597595\"\n",
      "\n",
      "entity.text is: \". Damiano\"\n",
      "entity.start_position is: \"112\"\n",
      "entity.end_position is: \"121\"\n",
      "entity \"ner\"-label value is: \"pers\"\n",
      "entity \"ner\"-label score is: \"0.8971021473407745\"\n",
      "\n",
      "entity.text is: \"Madonna\"\n",
      "entity.start_position is: \"164\"\n",
      "entity.end_position is: \"171\"\n",
      "entity \"ner\"-label value is: \"work\"\n",
      "entity \"ner\"-label score is: \"0.9995837807655334\"\n",
      "\n",
      "entity.text is: \"Michelagnolo\"\n",
      "entity.start_position is: \"177\"\n",
      "entity.end_position is: \"189\"\n",
      "entity \"ner\"-label value is: \"pers\"\n",
      "entity \"ner\"-label score is: \"0.9999315738677979\"\n",
      "\n",
      "entity.text is: \"S\"\n",
      "entity.start_position is: \"199\"\n",
      "entity.end_position is: \"200\"\n",
      "entity \"ner\"-label value is: \"work\"\n",
      "entity \"ner\"-label score is: \"0.7250852584838867\"\n",
      "\n",
      "entity.text is: \". Damiano\"\n",
      "entity.start_position is: \"200\"\n",
      "entity.end_position is: \"209\"\n",
      "entity \"ner\"-label value is: \"pers\"\n",
      "entity \"ner\"-label score is: \"0.886529415845871\"\n",
      "\n",
      "entity.text is: \"Raffaello da Montelupo\"\n",
      "entity.start_position is: \"213\"\n",
      "entity.end_position is: \"235\"\n",
      "entity \"ner\"-label value is: \"pers\"\n",
      "entity \"ner\"-label score is: \"0.9871203899383545\"\n",
      "\n",
      "entity.text is: \"Frate\"\n",
      "entity.start_position is: \"259\"\n",
      "entity.end_position is: \"264\"\n",
      "entity \"ner\"-label value is: \"work\"\n",
      "entity \"ner\"-label score is: \"0.49221351742744446\"\n",
      "\n",
      "entity.text is: \"S . Cosimo\"\n",
      "entity.start_position is: \"269\"\n",
      "entity.end_position is: \"278\"\n",
      "entity \"ner\"-label value is: \"pers\"\n",
      "entity \"ner\"-label score is: \"0.8345761696497599\"\n",
      "\n"
     ]
    }
   ],
   "source": [
    "from flair.data import Sentence\n",
    "\n",
    "text = data[0][\"sentence\"]\n",
    "sentences = sent_tokenize(text)[:3]\n",
    "\n",
    "for sentence in sentences:\n",
    "    input_text = Sentence(sentence)\n",
    "    tagger.predict(input_text)\n",
    "    print('The following NER tags are found:')\n",
    "    # iterate over entities and print\n",
    "    for entity in input_text.get_spans('ner'):\n",
    "        print(f'entity.text is: \"{entity.text}\"')\n",
    "        print(f'entity.start_position is: \"{entity.start_position}\"')\n",
    "        print(f'entity.end_position is: \"{entity.end_position}\"')\n",
    "\n",
    "        # also print the value and score of its \"ner\"-label\n",
    "        print(f'entity \"ner\"-label value is: \"{entity.get_label(\"ner\").value}\"')\n",
    "        print(f'entity \"ner\"-label score is: \"{entity.get_label(\"ner\").score}\"\\n')"
   ]
  },
  {
   "cell_type": "code",
   "execution_count": 13,
   "id": "79a2571d",
   "metadata": {
    "scrolled": true
   },
   "outputs": [
    {
     "name": "stderr",
     "output_type": "stream",
     "text": [
      "  0%|                                                                                           | 0/55 [00:18<?, ?it/s]\n",
      "100%|██████████████████████████████████████████████████████████████████████████████████| 55/55 [00:38<00:00,  1.45it/s]\n"
     ]
    }
   ],
   "source": [
    "output = []\n",
    "\n",
    "pbar = tqdm(total=len(data))\n",
    "for sample in data:\n",
    "    doc_id = sample[\"id\"]\n",
    "    text = sample[\"sentence\"]\n",
    "    sentences = [s for s in sent_tokenize(text)]\n",
    "    curr_pos = 0\n",
    "    for sentence_id, sentence in enumerate(sentences):\n",
    "        if sentence_id>0:\n",
    "            curr_pos = curr_pos + len(sentences[sentence_id-1])+1\n",
    "        sentence = Sentence(sentence)\n",
    "        tagger.predict(sentence)\n",
    "        for entity in sentence.get_spans(\"ner\"):\n",
    "            if entity.get_label(\"ner\").value==\"work\":\n",
    "                output.append({\n",
    "                    \"doc_id\":doc_id,\n",
    "                    \"doc_start_pos\":curr_pos+entity.start_position,\n",
    "                    \"doc_end_pos\":curr_pos+entity.end_position,\n",
    "                    \"sentence_id\":sentence_id,\n",
    "                    \"sent_start_pos\":entity.start_position,\n",
    "                    \"sent_end_pos\":entity.end_position,\n",
    "                    \"surface\":entity.text,\n",
    "                    \"type\":entity.get_label(\"ner\").value,\n",
    "                    \"score\":entity.get_label(\"ner\").score\n",
    "                })\n",
    "    pbar.update(1)\n",
    "pbar.close()\n",
    "\n",
    "keys = output[0].keys()\n",
    "a_file = open(\"../results/ajmc_works/output.csv\", \"w\", encoding=\"utf-8\")\n",
    "dict_writer = csv.DictWriter(a_file, keys)\n",
    "dict_writer.writeheader()\n",
    "dict_writer.writerows(output)\n",
    "a_file.close()\n",
    "    "
   ]
  },
  {
   "cell_type": "code",
   "execution_count": null,
   "id": "888e3745-9d97-4689-b6d0-c418b7dbee34",
   "metadata": {},
   "outputs": [],
   "source": []
  }
 ],
 "metadata": {
  "kernelspec": {
   "display_name": "Python 3 (ipykernel)",
   "language": "python",
   "name": "python3"
  },
  "language_info": {
   "codemirror_mode": {
    "name": "ipython",
    "version": 3
   },
   "file_extension": ".py",
   "mimetype": "text/x-python",
   "name": "python",
   "nbconvert_exporter": "python",
   "pygments_lexer": "ipython3",
   "version": "3.8.13"
  }
 },
 "nbformat": 4,
 "nbformat_minor": 5
}
