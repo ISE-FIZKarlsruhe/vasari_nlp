{
 "cells": [
  {
   "cell_type": "code",
   "execution_count": 8,
   "id": "41f37b34",
   "metadata": {},
   "outputs": [],
   "source": [
    "## multilingual\n",
    "\n",
    "import csv\n",
    "from tqdm import tqdm\n",
    "from transformers import AutoTokenizer, AutoModelForTokenClassification\n",
    "from transformers import pipeline\n",
    "from nltk.tokenize import sent_tokenize\n",
    "import json"
   ]
  },
  {
   "cell_type": "code",
   "execution_count": 22,
   "id": "7ac166be",
   "metadata": {},
   "outputs": [],
   "source": [
    "with open(\"../data/sentences.csv\", \"r\", encoding=\"utf-8\") as f:\n",
    "    data = list(csv.DictReader(f=f, delimiter=\",\"))"
   ]
  },
  {
   "cell_type": "code",
   "execution_count": 3,
   "id": "e94ac8e7",
   "metadata": {},
   "outputs": [],
   "source": [
    "tokenizer = AutoTokenizer.from_pretrained(\"Babelscape/wikineural-multilingual-ner\")\n",
    "tagger = AutoModelForTokenClassification.from_pretrained(\"Babelscape/wikineural-multilingual-ner\")\n",
    "nlp = pipeline(\"ner\", model=tagger, tokenizer=tokenizer, aggregation_strategy=\"simple\")"
   ]
  },
  {
   "cell_type": "code",
   "execution_count": 7,
   "id": "cb112355",
   "metadata": {},
   "outputs": [
    {
     "data": {
      "text/plain": [
       "[{'entity_group': 'LOC',\n",
       "  'score': 0.9993399,\n",
       "  'word': 'Florence',\n",
       "  'start': 3,\n",
       "  'end': 11},\n",
       " {'entity_group': 'PER',\n",
       "  'score': 0.59895015,\n",
       "  'word': 'Frate',\n",
       "  'start': 30,\n",
       "  'end': 35},\n",
       " {'entity_group': 'PER',\n",
       "  'score': 0.9934189,\n",
       "  'word': 'Michelagnolo',\n",
       "  'start': 224,\n",
       "  'end': 236},\n",
       " {'entity_group': 'PER',\n",
       "  'score': 0.9826374,\n",
       "  'word': 'Fra Giovanni Agnolo',\n",
       "  'start': 304,\n",
       "  'end': 323}]"
      ]
     },
     "execution_count": 7,
     "metadata": {},
     "output_type": "execute_result"
    }
   ],
   "source": [
    "text = data[0][\"sentence\"]\n",
    "sentences = sent_tokenize(text)\n",
    "\n",
    "for sentence in sentences:\n",
    "    entities = nlp(sentence)\n",
    "entities"
   ]
  },
  {
   "cell_type": "code",
   "execution_count": 24,
   "id": "79a2571d",
   "metadata": {
    "scrolled": true
   },
   "outputs": [
    {
     "name": "stderr",
     "output_type": "stream",
     "text": [
      " 62%|██████████████████████████████████████████████████▋                               | 34/55 [01:05<00:40,  1.92s/it]\n",
      "100%|██████████████████████████████████████████████████████████████████████████████████| 55/55 [01:36<00:00,  1.75s/it]\n"
     ]
    }
   ],
   "source": [
    "output = []\n",
    "\n",
    "pbar = tqdm(total=len(data))\n",
    "for sample in data:\n",
    "    doc_id = sample[\"id\"]\n",
    "    text = sample[\"sentence\"]\n",
    "    sentences = [s for s in sent_tokenize(text)]\n",
    "    curr_pos = 0\n",
    "    for sentence_id, sentence in enumerate(sentences):\n",
    "        if sentence_id>0:\n",
    "            curr_pos = curr_pos + len(sentences[sentence_id-1])+1\n",
    "        ner = nlp(sentence)\n",
    "        for ent in ner:\n",
    "            if len(output)>0:\n",
    "                if output[-1][\"sent_end_pos\"]==ent[\"start\"]:\n",
    "                    output[-1]={\n",
    "                        \"doc_id\":doc_id,\n",
    "                        \"doc_start_pos\":output[-1][\"doc_start_pos\"],\n",
    "                        \"doc_end_pos\":curr_pos+ent[\"end\"],\n",
    "                        \"sentence_id\":sentence_id,\n",
    "                        \"sent_start_pos\":output[-1][\"sent_start_pos\"],\n",
    "                        \"sent_end_pos\":ent[\"end\"],\n",
    "                        \"surface\":output[-1][\"surface\"]+ent[\"word\"][2:],\n",
    "                        \"type\":ent[\"entity_group\"],\n",
    "                        \"score\":ent[\"score\"]\n",
    "                    }\n",
    "                else:\n",
    "                    output.append({\n",
    "                        \"doc_id\":doc_id,\n",
    "                        \"doc_start_pos\":curr_pos+ent[\"start\"],\n",
    "                        \"doc_end_pos\":curr_pos+ent[\"end\"],\n",
    "                        \"sentence_id\":sentence_id,\n",
    "                        \"sent_start_pos\":ent[\"start\"],\n",
    "                        \"sent_end_pos\":ent[\"end\"],\n",
    "                        \"surface\":ent[\"word\"],\n",
    "                        \"type\":ent[\"entity_group\"],\n",
    "                        \"score\":ent[\"score\"]\n",
    "                    })\n",
    "            else:\n",
    "                output.append({\n",
    "                    \"doc_id\":doc_id,\n",
    "                    \"doc_start_pos\":ent[\"start\"],\n",
    "                    \"doc_end_pos\":ent[\"end\"],\n",
    "                    \"sentence_id\":sentence_id,\n",
    "                    \"sent_start_pos\":ent[\"start\"],\n",
    "                    \"sent_end_pos\":ent[\"end\"],\n",
    "                    \"surface\":ent[\"word\"],\n",
    "                    \"type\":ent[\"entity_group\"],\n",
    "                    \"score\":ent[\"score\"]\n",
    "                })\n",
    "    pbar.update(1)\n",
    "pbar.close()\n",
    "\n",
    "keys = output[0].keys()\n",
    "a_file = open(\"../results/wikineural/output.csv\", \"w\", encoding=\"utf-8\")\n",
    "dict_writer = csv.DictWriter(a_file, keys)\n",
    "dict_writer.writeheader()\n",
    "dict_writer.writerows(output)\n",
    "a_file.close()\n",
    "    "
   ]
  },
  {
   "cell_type": "markdown",
   "id": "9a04bc09-93aa-47e0-90a3-53eeb28d4851",
   "metadata": {},
   "source": [
    "## this is only for DECENT"
   ]
  },
  {
   "cell_type": "code",
   "execution_count": 14,
   "id": "f58f995b-e658-4661-9463-9ff230e8fac3",
   "metadata": {},
   "outputs": [
    {
     "name": "stderr",
     "output_type": "stream",
     "text": [
      "100%|██████████████████████████████████████████████████████████████████████████████████| 55/55 [01:31<00:00,  1.67s/it]\n"
     ]
    }
   ],
   "source": [
    "output = []\n",
    "\n",
    "pbar = tqdm(total=len(data))\n",
    "for sample in data:\n",
    "    doc_id = sample[\"id\"]\n",
    "    text = sample[\"sentence\"]\n",
    "    sentences = [s for s in sent_tokenize(text)]\n",
    "    curr_pos = 0\n",
    "    for sentence_id, sentence in enumerate(sentences):\n",
    "        if sentence_id>0:\n",
    "            curr_pos = curr_pos + len(sentences[sentence_id-1])+1\n",
    "        ner = nlp(sentence)\n",
    "        for ent in ner:\n",
    "            if len(output)>0:\n",
    "                if output[-1][\"end_pos\"]==curr_pos+ent[\"start\"]:\n",
    "                    output[-1]={\n",
    "                        \"y_category\":[ent[\"entity_group\"]],\n",
    "                        \"ex_id\":doc_id,\n",
    "                        \"start_pos\":output[-1][\"start_pos\"],\n",
    "                        \"end_pos\":curr_pos+ent[\"end\"],\n",
    "                        \"word\":output[-1][\"word\"]+ent[\"word\"][2:],\n",
    "                        \"left_context_text\":output[-1][\"left_context_text\"],\n",
    "                        \"right_context_text\":sentence[ent[\"end\"]:]\n",
    "                    }\n",
    "                else:\n",
    "                    output.append({\n",
    "                        \"y_category\":[ent[\"entity_group\"]],\n",
    "                        \"ex_id\":doc_id,\n",
    "                        \"start_pos\":curr_pos+ent[\"start\"],\n",
    "                        \"end_pos\":curr_pos+ent[\"end\"],\n",
    "                        \"word\":ent[\"word\"],\n",
    "                        \"left_context_text\":sentence[:ent[\"start\"]],\n",
    "                        \"right_context_text\":sentence[ent[\"end\"]:]\n",
    "                    })\n",
    "            else:\n",
    "                output.append({\n",
    "                    \"y_category\":[ent[\"entity_group\"]],\n",
    "                    \"ex_id\":doc_id,\n",
    "                    \"start_pos\":ent[\"start\"],\n",
    "                    \"end_pos\":ent[\"end\"],\n",
    "                    \"word\":ent[\"word\"],\n",
    "                    \"left_context_text\":sentence[:ent[\"start\"]],\n",
    "                    \"right_context_text\":sentence[ent[\"end\"]:]\n",
    "                })\n",
    "    pbar.update(1)\n",
    "pbar.close()\n",
    "\n",
    "with open(\"../results/wikineural/output.json\", 'w', encoding=\"utf-8\") as f:\n",
    "    for d in output:\n",
    "        json.dump(d, f)\n",
    "        f.write('\\n')\n",
    "    "
   ]
  },
  {
   "cell_type": "code",
   "execution_count": 25,
   "id": "0c527849-b962-40f7-8f60-9fe6ede09046",
   "metadata": {},
   "outputs": [
    {
     "name": "stdout",
     "output_type": "stream",
     "text": [
      "1198\n",
      "1198\n"
     ]
    }
   ],
   "source": [
    "import json\n",
    "\n",
    "data = []\n",
    "with open(\"../results/wikineural_ufet/123-output-best_ufet-t_9.json\", \"r\", encoding=\"utf-8\") as f:\n",
    "    data = json.load(f)\n",
    "        \n",
    "print(len(output))\n",
    "print(len(data))\n",
    "          \n",
    "output_new = []\n",
    "for wiki_res, ufet_res in zip(output, data):\n",
    "          output_new.append(\n",
    "          {\n",
    "            \"doc_id\":wiki_res[\"doc_id\"],\n",
    "            \"doc_start_pos\":wiki_res[\"doc_start_pos\"],\n",
    "            \"doc_end_pos\":wiki_res[\"doc_end_pos\"],\n",
    "            \"sent_start_pos\":wiki_res[\"sent_start_pos\"],\n",
    "            \"sent_end_pos\":wiki_res[\"sent_end_pos\"],\n",
    "            \"surface\":wiki_res[\"surface\"],\n",
    "            \"type\":wiki_res[\"type\"],\n",
    "            \"labels\":ufet_res[\"pred\"]\n",
    "          }\n",
    "          )"
   ]
  },
  {
   "cell_type": "code",
   "execution_count": 28,
   "id": "41cf3933-2631-431e-b068-7f938741e3eb",
   "metadata": {},
   "outputs": [
    {
     "data": {
      "text/plain": [
       "{'doc_id': '0',\n",
       " 'doc_start_pos': 14,\n",
       " 'doc_end_pos': 21,\n",
       " 'sent_start_pos': 14,\n",
       " 'sent_end_pos': 21,\n",
       " 'surface': 'Clement',\n",
       " 'type': 'PER',\n",
       " 'labels': ['person',\n",
       "  'politician',\n",
       "  'religious leader',\n",
       "  'adult',\n",
       "  'bishop',\n",
       "  'cleric',\n",
       "  'emperor',\n",
       "  'father',\n",
       "  'leader',\n",
       "  'male',\n",
       "  'man',\n",
       "  'master',\n",
       "  'official',\n",
       "  'pope',\n",
       "  'president',\n",
       "  'ruler',\n",
       "  'spiritual leader',\n",
       "  'father figure',\n",
       "  'world leader',\n",
       "  'clergyman']}"
      ]
     },
     "execution_count": 28,
     "metadata": {},
     "output_type": "execute_result"
    }
   ],
   "source": [
    "output_new[0]"
   ]
  },
  {
   "cell_type": "code",
   "execution_count": 56,
   "id": "8e55828e-2daa-407d-b582-2ab5dfd2ff52",
   "metadata": {},
   "outputs": [],
   "source": [
    "import json\n",
    "\n",
    "\n",
    "with open('../results/ufet/art_types.txt') as f:\n",
    "    data_txt = f.read()\n",
    "    types = data_txt.split(\"\\n\")"
   ]
  },
  {
   "cell_type": "code",
   "execution_count": 57,
   "id": "06cb1274-90bb-4b9e-aa2b-e3acba4dcee5",
   "metadata": {},
   "outputs": [
    {
     "name": "stdout",
     "output_type": "stream",
     "text": [
      "['art', 'art collection', 'artwork', 'art form', 'cartoon', 'canvas', 'concept art', 'creation', 'expression', 'design', 'drawing', 'fine art', 'figure', 'illustration', 'image', 'life story', 'model', 'modern art', 'monument', 'oil painting', 'paint', 'painting', 'performance art', 'perspective', 'picture', 'portrait', 'representation', 'scene', 'sculpture', 'statue', 'symbol', 'traditional art', 'trinity', 'visual art', 'art glass', 'madonna', 'oil paint', 'artifact', 'action painting', 'painted lady', 'museum piece']\n"
     ]
    }
   ],
   "source": [
    "print(types)"
   ]
  },
  {
   "cell_type": "code",
   "execution_count": 58,
   "id": "e1af1b06-84b8-4c27-a79d-62b5b74c98fa",
   "metadata": {},
   "outputs": [],
   "source": [
    "works_t_1 = []\n",
    "works_t_2 = []\n",
    "works_t_3 = []\n",
    "works_t_4 = []\n",
    "works_t_5 = []\n",
    "\n",
    "for row in output_new:\n",
    "    if len(set(types).intersection(set(row[\"labels\"])))==1:\n",
    "            works_t_1.append(row)\n",
    "    elif len(set(types).intersection(set(row[\"labels\"])))==2:\n",
    "            works_t_1.append(row)\n",
    "            works_t_2.append(row)\n",
    "    elif len(set(types).intersection(set(row[\"labels\"])))==3:\n",
    "            works_t_1.append(row)\n",
    "            works_t_2.append(row)\n",
    "            works_t_3.append(row)\n",
    "    elif len(set(types).intersection(set(row[\"labels\"])))==4:\n",
    "            works_t_1.append(row)\n",
    "            works_t_2.append(row)\n",
    "            works_t_3.append(row)\n",
    "            works_t_4.append(row)\n",
    "    elif len(set(types).intersection(set(row[\"labels\"])))==5:\n",
    "            works_t_1.append(row)\n",
    "            works_t_2.append(row)\n",
    "            works_t_3.append(row)\n",
    "            works_t_4.append(row)\n",
    "            works_t_5.append(row)\n",
    "             \n",
    "           "
   ]
  },
  {
   "cell_type": "code",
   "execution_count": 64,
   "id": "b3f11649-464c-4eae-824b-e77f6fcf439c",
   "metadata": {},
   "outputs": [],
   "source": [
    "keys = works_t_5[0].keys()\n",
    "a_file = open(\"../results/wikineural_ufet_t5/output.csv\", \"w\", encoding=\"utf-8\")\n",
    "dict_writer = csv.DictWriter(a_file, keys)\n",
    "dict_writer.writeheader()\n",
    "dict_writer.writerows(works_t_5)\n",
    "a_file.close()"
   ]
  },
  {
   "cell_type": "code",
   "execution_count": null,
   "id": "08f5cfe8-4ef8-4590-be8e-6b8dd9ab8ed1",
   "metadata": {},
   "outputs": [],
   "source": []
  }
 ],
 "metadata": {
  "kernelspec": {
   "display_name": "Python 3 (ipykernel)",
   "language": "python",
   "name": "python3"
  },
  "language_info": {
   "codemirror_mode": {
    "name": "ipython",
    "version": 3
   },
   "file_extension": ".py",
   "mimetype": "text/x-python",
   "name": "python",
   "nbconvert_exporter": "python",
   "pygments_lexer": "ipython3",
   "version": "3.8.13"
  }
 },
 "nbformat": 4,
 "nbformat_minor": 5
}
