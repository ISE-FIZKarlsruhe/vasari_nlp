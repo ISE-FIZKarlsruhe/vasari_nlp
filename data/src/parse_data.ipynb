{
 "cells": [
  {
   "cell_type": "code",
   "execution_count": 1,
   "id": "01bb13a2",
   "metadata": {},
   "outputs": [],
   "source": [
    "import xml.etree.ElementTree as ET\n",
    "\n",
    "tree = ET.parse(\"annotations.xmi\")\n",
    "root = tree.getroot()\n",
    "sentences = root.findall(\"{http:///uima/cas.ecore}Sofa\")\n",
    "text = sentences[0].attrib[\"sofaString\"]\n"
   ]
  },
  {
   "cell_type": "code",
   "execution_count": 2,
   "id": "50e40810",
   "metadata": {},
   "outputs": [],
   "source": [
    "motifs = []\n",
    "motif_anno = root.findall(\"{http:///webanno/custom.ecore}Motif\")\n",
    "for annotation in motif_anno:\n",
    "    entry = {\n",
    "            \"begin\":int(annotation.attrib[\"begin\"]),\n",
    "            \"end\":int(annotation.attrib[\"end\"]),        \n",
    "            \"surface\":text[int(annotation.attrib[\"begin\"]):int(annotation.attrib[\"end\"])],\n",
    "            \"type\":annotation.attrib[\"MOTIF\"],\n",
    "            \"value\":annotation.attrib[\"Identifier\"]\n",
    "         }\n",
    "    motifs.append(entry)"
   ]
  },
  {
   "cell_type": "code",
   "execution_count": 3,
   "id": "a7024dbe",
   "metadata": {},
   "outputs": [
    {
     "name": "stdout",
     "output_type": "stream",
     "text": [
      "{'begin': 64673, 'end': 64678, 'surface': 'Peter', 'type': 'SUBJ', 'value': '11H(PETER)'}\n"
     ]
    }
   ],
   "source": [
    "import random\n",
    "\n",
    "print(random.choice(motifs))"
   ]
  },
  {
   "cell_type": "code",
   "execution_count": 4,
   "id": "456780cc",
   "metadata": {},
   "outputs": [],
   "source": [
    "entities = []\n",
    "works = []\n",
    "artifacts = []\n",
    "entities_anno = root.findall(\"{http:///webanno/custom.ecore}Entity\")\n",
    "for annotation in entities_anno:\n",
    "    if annotation.attrib[\"Value\"] in {\"PER\", \"ORG\", \"LOC\", \"OTH\"}:\n",
    "        try:\n",
    "            entry = {\n",
    "                    \"begin\":int(annotation.attrib[\"begin\"]),\n",
    "                    \"end\":int(annotation.attrib[\"end\"]),        \n",
    "                    \"surface\":text[int(annotation.attrib[\"begin\"]):int(annotation.attrib[\"end\"])],\n",
    "                    \"type\":annotation.attrib[\"Value\"],\n",
    "                    \"value\":annotation.attrib[\"id\"]\n",
    "                 }\n",
    "            entities.append(entry)\n",
    "        except KeyError:\n",
    "            entry = {\n",
    "                    \"begin\":int(annotation.attrib[\"begin\"]),\n",
    "                    \"end\":int(annotation.attrib[\"end\"]),        \n",
    "                    \"surface\":text[int(annotation.attrib[\"begin\"]):int(annotation.attrib[\"end\"])],\n",
    "                    \"type\":annotation.attrib[\"Value\"],\n",
    "                    \"value\":\"NIL\"\n",
    "                 }\n",
    "            entities.append(entry)\n",
    "    elif annotation.attrib[\"Value\"]==\"WORK\":\n",
    "        try:\n",
    "            entry = {\n",
    "                    \"begin\":int(annotation.attrib[\"begin\"]),\n",
    "                    \"end\":int(annotation.attrib[\"end\"]),        \n",
    "                    \"surface\":text[int(annotation.attrib[\"begin\"]):int(annotation.attrib[\"end\"])],\n",
    "                    \"type\":annotation.attrib[\"Value\"],\n",
    "                    \"value\":annotation.attrib[\"id\"]\n",
    "                 }\n",
    "            works.append(entry)\n",
    "        except KeyError:\n",
    "            entry = {\n",
    "                    \"begin\":int(annotation.attrib[\"begin\"]),\n",
    "                    \"end\":int(annotation.attrib[\"end\"]),        \n",
    "                    \"surface\":text[int(annotation.attrib[\"begin\"]):int(annotation.attrib[\"end\"])],\n",
    "                    \"type\":annotation.attrib[\"Value\"],\n",
    "                    \"value\":\"NIL\"\n",
    "                 }\n",
    "            works.append(entry)\n",
    "    else:\n",
    "        entry = {\n",
    "                    \"begin\":int(annotation.attrib[\"begin\"]),\n",
    "                    \"end\":int(annotation.attrib[\"end\"]),        \n",
    "                    \"surface\":text[int(annotation.attrib[\"begin\"]):int(annotation.attrib[\"end\"])],\n",
    "                    \"type\":annotation.attrib[\"Value\"],\n",
    "                    \"value\":\"NIL\"\n",
    "                 }\n",
    "        artifacts.append(entry)"
   ]
  },
  {
   "cell_type": "code",
   "execution_count": 5,
   "id": "270f75ce",
   "metadata": {},
   "outputs": [
    {
     "name": "stdout",
     "output_type": "stream",
     "text": [
      "{'begin': 1544, 'end': 1550, 'surface': 'Vasari', 'type': 'PER', 'value': 'Q128027'}\n"
     ]
    }
   ],
   "source": [
    "print(random.choice(entities))"
   ]
  },
  {
   "cell_type": "code",
   "execution_count": 6,
   "id": "2cdff268",
   "metadata": {},
   "outputs": [],
   "source": [
    "time_expressions = []\n",
    "time_anno = root.findall(\"{http:///webanno/custom.ecore}Time\")\n",
    "for annotation in time_anno:\n",
    "    values = []\n",
    "    for value in annotation:\n",
    "        values.append(value.text)\n",
    "    values.reverse()\n",
    "    if len(values)==1:\n",
    "        entry = {\n",
    "                \"begin\":int(annotation.attrib[\"begin\"]),\n",
    "                \"end\":int(annotation.attrib[\"end\"]), \n",
    "                \"type\":\"DATE\",\n",
    "                \"surface\":text[int(annotation.attrib[\"begin\"]):int(annotation.attrib[\"end\"])],\n",
    "                \"value\":values[0],\n",
    "             }\n",
    "        time_expressions.append(entry)\n",
    "    else:\n",
    "        entry = {\n",
    "                \"begin\":int(annotation.attrib[\"begin\"]),\n",
    "                \"end\":int(annotation.attrib[\"end\"]), \n",
    "                \"type\":\"INTERVAL\",\n",
    "                \"surface\":text[int(annotation.attrib[\"begin\"]):int(annotation.attrib[\"end\"])],\n",
    "                \"value\":\";\".join(values),\n",
    "             }\n",
    "        time_expressions.append(entry)\n",
    "        "
   ]
  },
  {
   "cell_type": "code",
   "execution_count": 7,
   "id": "bc86902b",
   "metadata": {},
   "outputs": [
    {
     "name": "stdout",
     "output_type": "stream",
     "text": [
      "{'begin': 19098, 'end': 19117, 'type': 'INTERVAL', 'surface': 'until the year 1529', 'value': 'w;x;1529;z'}\n"
     ]
    }
   ],
   "source": [
    "print(random.choice(time_expressions))"
   ]
  },
  {
   "cell_type": "code",
   "execution_count": 8,
   "id": "eecd7a73",
   "metadata": {},
   "outputs": [],
   "source": [
    "sentences = text.split(\"\\n\")"
   ]
  },
  {
   "cell_type": "code",
   "execution_count": 9,
   "id": "d37a668e",
   "metadata": {},
   "outputs": [],
   "source": [
    "line_breaks = [pos for pos, char in enumerate(text) if char == \"\\n\"]"
   ]
  },
  {
   "cell_type": "code",
   "execution_count": 10,
   "id": "71aadaaa",
   "metadata": {},
   "outputs": [],
   "source": [
    "import bisect\n",
    "\n",
    "def normalize_lst(line_breaks, annotations):\n",
    "    new_lst = []\n",
    "    for element in annotations:\n",
    "        index = bisect.bisect(line_breaks, element[\"begin\"])\n",
    "        if index == 0:\n",
    "            entry = {\n",
    "                \"id\":index,\n",
    "                \"begin\":element[\"begin\"],\n",
    "                \"end\":element[\"end\"],\n",
    "                \"surface\":element[\"surface\"],\n",
    "                \"type\":element[\"type\"],\n",
    "                \"value\":element[\"value\"]\n",
    "            }\n",
    "            new_lst.append(entry)\n",
    "        else:\n",
    "            entry = {\n",
    "                \"id\":index,\n",
    "                \"begin\":element[\"begin\"]-line_breaks[index-1],\n",
    "                \"end\":element[\"end\"]-line_breaks[index-1],\n",
    "                \"surface\":element[\"surface\"],\n",
    "                \"type\":element[\"type\"],\n",
    "                \"value\":element[\"value\"]\n",
    "            }\n",
    "            new_lst.append(entry)\n",
    "    return new_lst\n",
    "\n",
    "motifs = normalize_lst(line_breaks, motifs)              \n",
    "entities = normalize_lst(line_breaks, entities)  \n",
    "works = normalize_lst(line_breaks, works)  \n",
    "artifacts = normalize_lst(line_breaks, artifacts)\n",
    "time_expressions = normalize_lst(line_breaks, time_expressions)"
   ]
  },
  {
   "cell_type": "code",
   "execution_count": 11,
   "id": "267b7240",
   "metadata": {},
   "outputs": [
    {
     "name": "stdout",
     "output_type": "stream",
     "text": [
      "{'id': 41, 'begin': 943, 'end': 956, 'surface': 'S. Laurentino', 'type': 'SUBJ', 'value': '11H(LAURENTINUS)'}\n"
     ]
    }
   ],
   "source": [
    "print(random.choice(motifs))"
   ]
  },
  {
   "cell_type": "code",
   "execution_count": 12,
   "id": "b023f0c3",
   "metadata": {},
   "outputs": [],
   "source": [
    "sentence_lst = [{\"id\":pos, \"sentence\":sentence} for pos, sentence in enumerate(sentences)]"
   ]
  },
  {
   "cell_type": "code",
   "execution_count": 13,
   "id": "1497e0ab",
   "metadata": {},
   "outputs": [
    {
     "name": "stdout",
     "output_type": "stream",
     "text": [
      "{'id': 0, 'sentence': 'Finally, Pope Clement, having determined that Buonarroti should return to Florence to finish the works of the sacristy and library of S. Lorenzo, gave him orders, since many statues were wanting there, as will be told in the Life of Michelagnolo himself, that he should avail himself of the most able men that could be found, and particularly of Fra Giovanni Agnolo, employing the same methods as had been adopted by Antonio da San Gallo in order to finish the works of the Madonna di Loreto. Having therefore made his way with the Frate to Florence, Michelagnolo, in executing the statues of Duke Lorenzo and Duke Giuliano, employed the Frate much in polishing them and in executing certain difficult undercuttings; with which occasion Fra Giovanni Agnolo learned many things from that truly divine man, standing with attention  to watch him at work, and observing every least thing. Now among other statues that were wanting to the completion of that work, there were lacking a S. Cosimo and a S. Damiano that were to be one on either side of the Madonna, and Michelagnolo gave the S. Damiano to Raffaello da Montelupo to execute, and to the Frate the S. Cosimo, commanding the latter that he should work in the same rooms where he himself had worked and was still working. Having therefore set his hand with the greatest zeal to that work, the Frate made a large model of the figure, which was retouched by Buonarroti in many parts; indeed, Michelagnolo made with his own hand the head and the arms of clay, which are now at Arezzo, held by Vasari among his dearest treasures in memory of that great man. There were not wanting many envious persons who blamed Michelagnolo for his action, saying that in allotting that statue he had shown little judgment, and had made a bad choice; but the result afterwards proved, as will be related, that Michelagnolo had shown excellent judgment, and that the Frate was an able man. When Michelagnolo, with the assistance of Fra Giovanni Agnolo, had finished and placed in position the statues of Duke Giuliano and Duke Lorenzo, being summoned by the Pope, who wished that arrangements should be made for executing in marble the façade of S. Lorenzo, he went to Rome; but he had not made a long stay there, when, Pope Clement dying, everything was left unfinished. At Florence the statue of the Frate, unfinished as it was, together with the other works, was thrown open to view, and was very highly extolled; and in truth, whether it was his own study and diligence, or the assistance of Michelagnolo, it proved in the end to be an excellent figure, and the best that Fra Giovanni Agnolo ever made among all that he executed in the whole of his life, so that it was truly worthy to be placed where it was.\\r'}\n"
     ]
    }
   ],
   "source": [
    "print(sentence_lst[0])"
   ]
  },
  {
   "cell_type": "code",
   "execution_count": 14,
   "id": "74ee6978",
   "metadata": {},
   "outputs": [],
   "source": [
    "import csv\n",
    "\n",
    "keys = sentence_lst[0].keys()\n",
    "with open('sentences.csv', 'w', newline='') as output_file:\n",
    "    dict_writer = csv.DictWriter(output_file, keys)\n",
    "    dict_writer.writeheader()\n",
    "    dict_writer.writerows(sentence_lst)\n",
    "    \n",
    "keys = motifs[0].keys()\n",
    "with open('motifs.csv', 'w', newline='') as output_file:\n",
    "    dict_writer = csv.DictWriter(output_file, keys)\n",
    "    dict_writer.writeheader()\n",
    "    dict_writer.writerows(motifs)\n",
    "    \n",
    "keys = artifacts[0].keys()\n",
    "with open('artifacts.csv', 'w', newline='') as output_file:\n",
    "    dict_writer = csv.DictWriter(output_file, keys)\n",
    "    dict_writer.writeheader()\n",
    "    dict_writer.writerows(artifacts)\n",
    "    \n",
    "keys = works[0].keys()\n",
    "with open('works.csv', 'w', newline='') as output_file:\n",
    "    dict_writer = csv.DictWriter(output_file, keys)\n",
    "    dict_writer.writeheader()\n",
    "    dict_writer.writerows(works)\n",
    "    \n",
    "keys = entities[0].keys()\n",
    "with open('entities.csv', 'w', newline='') as output_file:\n",
    "    dict_writer = csv.DictWriter(output_file, keys)\n",
    "    dict_writer.writeheader()\n",
    "    dict_writer.writerows(entities)\n",
    "    \n",
    "keys = time_expressions[0].keys()\n",
    "with open('dates.csv', 'w', newline='') as output_file:\n",
    "    dict_writer = csv.DictWriter(output_file, keys)\n",
    "    dict_writer.writeheader()\n",
    "    dict_writer.writerows(time_expressions)\n",
    "\n",
    "    \n"
   ]
  },
  {
   "cell_type": "code",
   "execution_count": null,
   "id": "73fed528",
   "metadata": {},
   "outputs": [],
   "source": []
  },
  {
   "cell_type": "code",
   "execution_count": null,
   "id": "e2e23e17",
   "metadata": {},
   "outputs": [],
   "source": []
  }
 ],
 "metadata": {
  "kernelspec": {
   "display_name": "Python 3",
   "language": "python",
   "name": "python3"
  },
  "language_info": {
   "codemirror_mode": {
    "name": "ipython",
    "version": 3
   },
   "file_extension": ".py",
   "mimetype": "text/x-python",
   "name": "python",
   "nbconvert_exporter": "python",
   "pygments_lexer": "ipython3",
   "version": "3.8.8"
  }
 },
 "nbformat": 4,
 "nbformat_minor": 5
}
