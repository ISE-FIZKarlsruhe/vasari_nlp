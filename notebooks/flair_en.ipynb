{
 "cells": [
  {
   "cell_type": "code",
   "execution_count": 1,
   "id": "92f6073c",
   "metadata": {},
   "outputs": [],
   "source": [
    "import csv\n",
    "from tqdm import tqdm"
   ]
  },
  {
   "cell_type": "code",
   "execution_count": 2,
   "id": "5826751b",
   "metadata": {},
   "outputs": [],
   "source": [
    "with open(\"../vasari-kg.github.io/data/sentences_en.csv\", \"r\") as f:\n",
    "    sentences = list(csv.DictReader(f=f, delimiter=\",\"))"
   ]
  },
  {
   "cell_type": "code",
   "execution_count": 3,
   "id": "b0d7e67b",
   "metadata": {},
   "outputs": [
    {
     "name": "stdout",
     "output_type": "stream",
     "text": [
      "{'id': '1', 'sentence': 'He was placed, then, as has been said, in his boyhood, at the instance of Ser Piero, to learn art with Andrea del Verrocchio, who was making a panel-picture of S. John baptizing Christ, when Leonardo painted an angel who was holding some garments; and although he was but a lad, Leonardo executed it in such a manner that his angel was much better than the figures of Andrea; which was the reason that Andrea would never again touch colour, in disdain that a child should know more than he.'}\n"
     ]
    }
   ],
   "source": [
    "print(sentences[0])"
   ]
  },
  {
   "cell_type": "code",
   "execution_count": 5,
   "id": "1b92f1f4",
   "metadata": {},
   "outputs": [
    {
     "name": "stderr",
     "output_type": "stream",
     "text": [
      "C:\\Users\\CSA\\Anaconda3\\envs\\ner_vasari\\lib\\site-packages\\tqdm\\auto.py:22: TqdmWarning: IProgress not found. Please update jupyter and ipywidgets. See https://ipywidgets.readthedocs.io/en/stable/user_install.html\n",
      "  from .autonotebook import tqdm as notebook_tqdm\n"
     ]
    },
    {
     "name": "stdout",
     "output_type": "stream",
     "text": [
      "2022-06-14 15:15:34,601 loading file C:\\Users\\CSA\\.flair\\models\\ner-english\\4f4cdab26f24cb98b732b389e6cebc646c36f54cfd6e0b7d3b90b25656e4262f.8baa8ae8795f4df80b28e7f7b61d788ecbb057d1dc85aacb316f1bd02837a4a4\n",
      "2022-06-14 15:15:36,337 SequenceTagger predicts: Dictionary with 20 tags: <unk>, O, S-ORG, S-MISC, B-PER, E-PER, S-LOC, B-ORG, E-ORG, I-PER, S-PER, B-MISC, I-MISC, E-MISC, I-ORG, B-LOC, E-LOC, I-LOC, <START>, <STOP>\n",
      "Sentence: \"He was placed , then , as has been said , in his boyhood , at the instance of Ser Piero , to learn art with Andrea del Verrocchio , who was making a panel-picture of S . John baptizing Christ , when Leonardo painted an angel who was holding some garments ; and although he was but a lad , Leonardo executed it in such a manner that his angel was much better than the figures of Andrea ; which was the reason that Andrea would never again touch colour , in disdain that a child should know more than he .\" → [\"Ser Piero\"/PER, \"Andrea del Verrocchio\"/PER, \"John\"/PER, \"Christ\"/PER, \"Leonardo\"/PER, \"Leonardo\"/PER, \"Andrea\"/PER, \"Andrea\"/PER]\n",
      "The following NER tags are found:\n",
      "entity.text is: \"Ser Piero\"\n",
      "entity.start_position is: \"74\"\n",
      "entity.end_position is: \"83\"\n",
      "entity \"ner\"-label value is: \"PER\"\n",
      "entity \"ner\"-label score is: \"0.9239256083965302\"\n",
      "\n",
      "entity.text is: \"Andrea del Verrocchio\"\n",
      "entity.start_position is: \"103\"\n",
      "entity.end_position is: \"124\"\n",
      "entity \"ner\"-label value is: \"PER\"\n",
      "entity \"ner\"-label score is: \"0.9992161194483439\"\n",
      "\n",
      "entity.text is: \"John\"\n",
      "entity.start_position is: \"163\"\n",
      "entity.end_position is: \"167\"\n",
      "entity \"ner\"-label value is: \"PER\"\n",
      "entity \"ner\"-label score is: \"0.9819934964179993\"\n",
      "\n",
      "entity.text is: \"Christ\"\n",
      "entity.start_position is: \"178\"\n",
      "entity.end_position is: \"184\"\n",
      "entity \"ner\"-label value is: \"PER\"\n",
      "entity \"ner\"-label score is: \"0.9328406453132629\"\n",
      "\n",
      "entity.text is: \"Leonardo\"\n",
      "entity.start_position is: \"191\"\n",
      "entity.end_position is: \"199\"\n",
      "entity \"ner\"-label value is: \"PER\"\n",
      "entity \"ner\"-label score is: \"0.9998559951782227\"\n",
      "\n",
      "entity.text is: \"Leonardo\"\n",
      "entity.start_position is: \"279\"\n",
      "entity.end_position is: \"287\"\n",
      "entity \"ner\"-label value is: \"PER\"\n",
      "entity \"ner\"-label score is: \"0.9999610185623169\"\n",
      "\n",
      "entity.text is: \"Andrea\"\n",
      "entity.start_position is: \"368\"\n",
      "entity.end_position is: \"374\"\n",
      "entity \"ner\"-label value is: \"PER\"\n",
      "entity \"ner\"-label score is: \"0.99835604429245\"\n",
      "\n",
      "entity.text is: \"Andrea\"\n",
      "entity.start_position is: \"402\"\n",
      "entity.end_position is: \"408\"\n",
      "entity \"ner\"-label value is: \"PER\"\n",
      "entity \"ner\"-label score is: \"0.9997944235801697\"\n",
      "\n"
     ]
    }
   ],
   "source": [
    "from flair.data import Sentence\n",
    "from flair.models import SequenceTagger\n",
    "\n",
    "tagger = SequenceTagger.load(\"flair/ner-english\")\n",
    "sentence = Sentence(sentences[0][\"sentence\"])\n",
    "\n",
    "# predict NER tags\n",
    "tagger.predict(sentence)\n",
    "\n",
    "# print sentence\n",
    "print(sentence)\n",
    "\n",
    "# print predicted NER spans\n",
    "print('The following NER tags are found:')\n",
    "\n",
    "# iterate over entities and print\n",
    "for entity in sentence.get_spans('ner'):\n",
    "    print(f'entity.text is: \"{entity.text}\"')\n",
    "    print(f'entity.start_position is: \"{entity.start_position}\"')\n",
    "    print(f'entity.end_position is: \"{entity.end_position}\"')\n",
    "    \n",
    "    # also print the value and score of its \"ner\"-label\n",
    "    print(f'entity \"ner\"-label value is: \"{entity.get_label(\"ner\").value}\"')\n",
    "    print(f'entity \"ner\"-label score is: \"{entity.get_label(\"ner\").score}\"\\n')"
   ]
  },
  {
   "cell_type": "code",
   "execution_count": 7,
   "id": "6c1b4123",
   "metadata": {},
   "outputs": [
    {
     "name": "stderr",
     "output_type": "stream",
     "text": [
      "100%|██████████████████████████████████████████████████████████████████████████████████| 40/40 [00:51<00:00,  1.29s/it]\n"
     ]
    }
   ],
   "source": [
    "output = []\n",
    "\n",
    "pbar = tqdm(total=len(sentences))\n",
    "for sample in sentences:\n",
    "    sent_idx = sample[\"id\"]\n",
    "    text = sample[\"sentence\"]\n",
    "    sentence = Sentence(text)\n",
    "    tagger.predict(sentence)\n",
    "    for entity in sentence.get_spans(\"ner\"):\n",
    "        output.append({\n",
    "            \"id\":sent_idx,\n",
    "            \"start_pos\":entity.start_position,\n",
    "            \"end_pos\":entity.end_position,\n",
    "            \"surface\":entity.text,\n",
    "            \"type\":entity.get_label(\"ner\").value,\n",
    "            \"score\":entity.get_label(\"ner\").score\n",
    "        })\n",
    "    pbar.update(1)\n",
    "pbar.close()\n",
    "\n",
    "keys = output[0].keys()\n",
    "a_file = open(\"results3/flair_en/output.csv\", \"w\")\n",
    "dict_writer = csv.DictWriter(a_file, keys)\n",
    "dict_writer.writeheader()\n",
    "dict_writer.writerows(output)\n",
    "a_file.close()\n",
    "    "
   ]
  },
  {
   "cell_type": "code",
   "execution_count": null,
   "id": "714624a9",
   "metadata": {},
   "outputs": [],
   "source": []
  }
 ],
 "metadata": {
  "kernelspec": {
   "display_name": "Python 3.8.13 ('ner_vasari')",
   "language": "python",
   "name": "python3"
  },
  "language_info": {
   "codemirror_mode": {
    "name": "ipython",
    "version": 3
   },
   "file_extension": ".py",
   "mimetype": "text/x-python",
   "name": "python",
   "nbconvert_exporter": "python",
   "pygments_lexer": "ipython3",
   "version": "3.8.13"
  },
  "vscode": {
   "interpreter": {
    "hash": "a63bc4527a714b22b7923bd49d1d4a59ff13caa17c7fcfc8c3c74d99933dca21"
   }
  }
 },
 "nbformat": 4,
 "nbformat_minor": 5
}
