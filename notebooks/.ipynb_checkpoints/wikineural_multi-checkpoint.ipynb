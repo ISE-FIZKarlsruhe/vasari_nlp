{
 "cells": [
  {
   "cell_type": "code",
   "execution_count": 1,
   "id": "41f37b34",
   "metadata": {},
   "outputs": [
    {
     "name": "stderr",
     "output_type": "stream",
     "text": [
      "C:\\Users\\CSA\\Anaconda3\\envs\\ner_vasari\\lib\\site-packages\\tqdm\\auto.py:22: TqdmWarning: IProgress not found. Please update jupyter and ipywidgets. See https://ipywidgets.readthedocs.io/en/stable/user_install.html\n",
      "  from .autonotebook import tqdm as notebook_tqdm\n"
     ]
    }
   ],
   "source": [
    "import csv\n",
    "from tqdm import tqdm\n",
    "from transformers import AutoTokenizer, AutoModelForTokenClassification\n",
    "from transformers import pipeline"
   ]
  },
  {
   "cell_type": "code",
   "execution_count": 2,
   "id": "7ac166be",
   "metadata": {},
   "outputs": [],
   "source": [
    "with open(\"../data/sentences.csv\", \"r\", encoding=\"utf-8\") as f:\n",
    "    data = list(csv.DictReader(f=f, delimiter=\",\"))"
   ]
  },
  {
   "cell_type": "code",
   "execution_count": 3,
   "id": "e94ac8e7",
   "metadata": {},
   "outputs": [
    {
     "name": "stderr",
     "output_type": "stream",
     "text": [
      "C:\\Users\\CSA\\Anaconda3\\envs\\ner_vasari\\lib\\site-packages\\transformers\\pipelines\\token_classification.py:135: UserWarning: `grouped_entities` is deprecated and will be removed in version v5.0.0, defaulted to `aggregation_strategy=\"AggregationStrategy.SIMPLE\"` instead.\n",
      "  warnings.warn(\n"
     ]
    }
   ],
   "source": [
    "tokenizer = AutoTokenizer.from_pretrained(\"Babelscape/wikineural-multilingual-ner\")\n",
    "tagger = AutoModelForTokenClassification.from_pretrained(\"Babelscape/wikineural-multilingual-ner\")\n",
    "nlp = pipeline(\"ner\", model=tagger, tokenizer=tokenizer, grouped_entities=True)"
   ]
  },
  {
   "cell_type": "code",
   "execution_count": 4,
   "id": "cb112355",
   "metadata": {},
   "outputs": [
    {
     "data": {
      "text/plain": [
       "[{'entity_group': 'LOC',\n",
       "  'score': 0.9993399,\n",
       "  'word': 'Florence',\n",
       "  'start': 3,\n",
       "  'end': 11},\n",
       " {'entity_group': 'PER',\n",
       "  'score': 0.59895015,\n",
       "  'word': 'Frate',\n",
       "  'start': 30,\n",
       "  'end': 35},\n",
       " {'entity_group': 'PER',\n",
       "  'score': 0.9934189,\n",
       "  'word': 'Michelagnolo',\n",
       "  'start': 224,\n",
       "  'end': 236},\n",
       " {'entity_group': 'PER',\n",
       "  'score': 0.9826374,\n",
       "  'word': 'Fra Giovanni Agnolo',\n",
       "  'start': 304,\n",
       "  'end': 323}]"
      ]
     },
     "execution_count": 4,
     "metadata": {},
     "output_type": "execute_result"
    }
   ],
   "source": [
    "from nltk.tokenize import sent_tokenize\n",
    "text = data[0][\"sentence\"]\n",
    "sentences = sent_tokenize(text)\n",
    "\n",
    "for sentence in sentences:\n",
    "    entities = nlp(sentence)\n",
    "entities"
   ]
  },
  {
   "cell_type": "code",
   "execution_count": 5,
   "id": "79a2571d",
   "metadata": {
    "scrolled": true
   },
   "outputs": [
    {
     "ename": "IndentationError",
     "evalue": "unexpected indent (2937744189.py, line 27)",
     "output_type": "error",
     "traceback": [
      "\u001b[1;36m  Cell \u001b[1;32mIn[5], line 27\u001b[1;36m\u001b[0m\n\u001b[1;33m    keys = output[0].keys()\u001b[0m\n\u001b[1;37m    ^\u001b[0m\n\u001b[1;31mIndentationError\u001b[0m\u001b[1;31m:\u001b[0m unexpected indent\n"
     ]
    }
   ],
   "source": [
    "output = []\n",
    "\n",
    "pbar = tqdm(total=len(data))\n",
    "for sample in data:\n",
    "    text_idx = sample[\"id\"]\n",
    "    text = sample[\"sentence\"]\n",
    "    sentences = sent_tokenize(text)\n",
    "    for idx, sentence in enumerate(sentences):\n",
    "        if idx > 0:\n",
    "            prev_sentence_len = len(sentences[idx-1])\n",
    "        else: \n",
    "            prev_sentence_len = 0\n",
    "        ner = nlp(text)\n",
    "        for ent in ner:\n",
    "            if len(ent[\"word\"])>2:\n",
    "                output.append({\n",
    "                    \"id\":text_idx,\n",
    "                    \"start_pos\":ent[\"start\"]+prev_sentence_len,\n",
    "                    \"end_pos\":ent[\"end\"]+prev_sentence_len,\n",
    "                    \"surface\":ent[\"word\"],\n",
    "                    \"type\":ent[\"entity_group\"],\n",
    "                    \"score\":ent[\"score\"]\n",
    "                })\n",
    "    pbar.update(1)\n",
    "pbar.close()\n",
    "\n",
    "keys = output[0].keys()\n",
    "a_file = open(\"../results/wikineural/output.csv\", \"w\", encoding=\"utf-8\")\n",
    "dict_writer = csv.DictWriter(a_file, keys)\n",
    "dict_writer.writeheader()\n",
    "dict_writer.writerows(output)\n",
    "a_file.close()\n",
    "    "
   ]
  },
  {
   "cell_type": "code",
   "execution_count": null,
   "id": "a64e3fc4",
   "metadata": {},
   "outputs": [],
   "source": []
  }
 ],
 "metadata": {
  "kernelspec": {
   "display_name": "Python 3 (ipykernel)",
   "language": "python",
   "name": "python3"
  },
  "language_info": {
   "codemirror_mode": {
    "name": "ipython",
    "version": 3
   },
   "file_extension": ".py",
   "mimetype": "text/x-python",
   "name": "python",
   "nbconvert_exporter": "python",
   "pygments_lexer": "ipython3",
   "version": "3.8.13"
  }
 },
 "nbformat": 4,
 "nbformat_minor": 5
}
