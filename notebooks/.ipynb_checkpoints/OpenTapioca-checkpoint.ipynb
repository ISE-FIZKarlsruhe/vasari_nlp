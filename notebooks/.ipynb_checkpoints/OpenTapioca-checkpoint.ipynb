{
 "cells": [
  {
   "cell_type": "code",
   "execution_count": 1,
   "id": "5df844ad",
   "metadata": {},
   "outputs": [],
   "source": [
    "import spacyopentapioca\n",
    "import spacy\n",
    "import csv"
   ]
  },
  {
   "cell_type": "code",
   "execution_count": 8,
   "id": "34e717f2",
   "metadata": {},
   "outputs": [],
   "source": [
    "with open(\"../data/sentences_it.csv\", \"r\") as f:\n",
    "    dict_reader = csv.DictReader(f, delimiter=\",\")\n",
    "    data = list(dict_reader)"
   ]
  },
  {
   "cell_type": "code",
   "execution_count": 9,
   "id": "dc768920",
   "metadata": {},
   "outputs": [
    {
     "name": "stderr",
     "output_type": "stream",
     "text": [
      "The OpenTapioca-entity \"Franklin Avenue Shuttle\" (182, 183) does not fit the span \"S.\" (182, 184) in spaCy. EXPANDED!\n"
     ]
    }
   ],
   "source": [
    "output = []\n",
    "nlp = spacy.blank(\"it\")\n",
    "nlp.add_pipe('opentapioca')\n",
    "\n",
    "for item in data:\n",
    "    text = item[\"sentence\"]\n",
    "    doc = nlp(text)\n",
    "    for span in doc.ents:\n",
    "        output.append(\n",
    "            {\n",
    "                \"id\":item[\"id\"],\n",
    "                \"start_pos\":span.start_char,\n",
    "                \"end_pos\":span.end_char,\n",
    "                \"surface\":text[span.start_char:span.end_char],\n",
    "                \"label\":span.label_,\n",
    "                \"wb_id\":span.kb_id_,\n",
    "                \"score\":span._.score\n",
    "            }\n",
    "        )\n",
    "\n",
    "keys = output[0].keys()\n",
    "a_file = open(\"../results/tapioca_it/output_nel.csv\", \"w\")\n",
    "dict_writer = csv.DictWriter(a_file, keys)\n",
    "dict_writer.writeheader()\n",
    "dict_writer.writerows(output)\n",
    "a_file.close()"
   ]
  },
  {
   "cell_type": "code",
   "execution_count": null,
   "id": "33c4b642",
   "metadata": {},
   "outputs": [],
   "source": []
  }
 ],
 "metadata": {
  "kernelspec": {
   "display_name": "Python 3 (ipykernel)",
   "language": "python",
   "name": "python3"
  },
  "language_info": {
   "codemirror_mode": {
    "name": "ipython",
    "version": 3
   },
   "file_extension": ".py",
   "mimetype": "text/x-python",
   "name": "python",
   "nbconvert_exporter": "python",
   "pygments_lexer": "ipython3",
   "version": "3.9.7"
  }
 },
 "nbformat": 4,
 "nbformat_minor": 5
}
