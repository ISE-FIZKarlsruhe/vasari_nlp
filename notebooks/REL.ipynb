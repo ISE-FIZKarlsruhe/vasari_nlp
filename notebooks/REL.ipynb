{
 "cells": [
  {
   "cell_type": "code",
   "execution_count": 1,
   "id": "6acebadd",
   "metadata": {},
   "outputs": [],
   "source": [
    "import requests\n",
    "import csv"
   ]
  },
  {
   "cell_type": "code",
   "execution_count": 2,
   "id": "48da43a9",
   "metadata": {},
   "outputs": [],
   "source": [
    "with open(\"../data/sentences_en.csv\", \"r\") as f:\n",
    "    dict_reader = csv.DictReader(f, delimiter=\",\")\n",
    "    data = list(dict_reader)"
   ]
  },
  {
   "cell_type": "code",
   "execution_count": 3,
   "id": "9468b1cb",
   "metadata": {},
   "outputs": [],
   "source": [
    "def get_wikidata(wikipage):\n",
    "    response = requests.get(\n",
    "        url = \"https://www.wikidata.org/w/api.php?action=wbgetentities&format=json&sites=enwiki&titles=\"+wikipage\n",
    "        )\n",
    "    try:\n",
    "        response.raise_for_status()\n",
    "    except requests.exceptions.HTTPError as e:\n",
    "        return None\n",
    "    else:\n",
    "        response = response.json()\n",
    "        wbitem = list(response[\"entities\"].keys())[0]\n",
    "        if wbitem == \"-1\":\n",
    "            response = requests.get(\n",
    "                url = \"https://www.wikidata.org/w/api.php?action=wbgetentities&format=json&sites=enwiki&titles=\"+wikipage+\"&normalize=1\"\n",
    "            )\n",
    "            response = response.json()\n",
    "            wbitem = list(response[\"entities\"].keys())[0]\n",
    "        return wbitem"
   ]
  },
  {
   "cell_type": "code",
   "execution_count": 4,
   "id": "6652da3b",
   "metadata": {},
   "outputs": [
    {
     "name": "stdout",
     "output_type": "stream",
     "text": [
      "[[0, 9, 'Bob Dylan', 'Bob_Dylan', 0.5031218442860037, 0.9814744591712952, 'PER']]\n"
     ]
    }
   ],
   "source": [
    "API_URL = \"https://rel.cs.ru.nl/api\"\n",
    "result = requests.post(API_URL, json={\n",
    "        \"text\": \"Bob Dylan was a singer\",\n",
    "        \"spans\": []\n",
    "    }).json()\n",
    "print(result)"
   ]
  },
  {
   "cell_type": "code",
   "execution_count": 7,
   "id": "09e1db01",
   "metadata": {},
   "outputs": [],
   "source": [
    "API_URL = \"https://rel.cs.ru.nl/api\"\n",
    "output = []\n",
    "\n",
    "for item in data:\n",
    "    text = item[\"sentence\"]\n",
    "    entities = list() \n",
    "    result = requests.post(API_URL, json={\n",
    "        \"text\": text,\n",
    "        \"spans\": []\n",
    "    }).json()\n",
    "    \n",
    "    if len(result) > 0:\n",
    "        for entry in result:\n",
    "            entity = []\n",
    "            wikipedia_id = entry[3]\n",
    "            wikidata_id = get_wikidata(wikipedia_id)\n",
    "            start_pos = entry[0]\n",
    "            end_pos = entry[1]+entry[0]\n",
    "            output.append({\n",
    "                \"id\":item[\"id\"],\n",
    "                \"start_pos\":start_pos,\n",
    "                \"end_pos\":end_pos,\n",
    "                \"label\":entry[6],\n",
    "                \"surface\":text[start_pos:end_pos],\n",
    "                \"alias\":wikipedia_id,\n",
    "                \"wb_id\":wikidata_id,\n",
    "                \"score\":entry[4]\n",
    "                \n",
    "            })"
   ]
  },
  {
   "cell_type": "code",
   "execution_count": 8,
   "id": "9362abfe",
   "metadata": {},
   "outputs": [],
   "source": [
    "a_file = open(\"../results/rel_en/output_nel.csv\", \"w\")\n",
    "dict_writer = csv.DictWriter(a_file, keys)\n",
    "dict_writer.writeheader()\n",
    "dict_writer.writerows(output)\n",
    "a_file.close()"
   ]
  },
  {
   "cell_type": "code",
   "execution_count": 12,
   "id": "03dd6566",
   "metadata": {},
   "outputs": [
    {
     "name": "stdout",
     "output_type": "stream",
     "text": [
      "[[133, 8, 'Florence', 'Florence', 0.501479935323753, 0.9240928292274475, 'LOC'], [185, 8, 'Giovanni', 'Pope_Leo_X', 0.1891788090958876, 0.9906159043312073, 'PER'], [197, 8, 'Florence', 'Florence', 0.5312461960888968, 0.9962731599807739, 'LOC']]\n"
     ]
    }
   ],
   "source": [
    "text = \"And among these models and designs, there was one by which he often demonstrated to many ingenious citizens, who were then governing Florence, how he proposed to raise the Temple of S. Giovanni in Florence, and place steps under it, without damaging the building; and with such strong reasons did he urge this, that it appeared possible, although each man, after he had departed, would recognize for himself the impossibility of so vast an undertaking.\"\n",
    "result = requests.post(API_URL, json={\n",
    "        \"text\": text,\n",
    "        \"spans\": []\n",
    "    }).json()\n",
    "    \n",
    "print(result)"
   ]
  },
  {
   "cell_type": "code",
   "execution_count": null,
   "id": "7be03276",
   "metadata": {},
   "outputs": [],
   "source": []
  }
 ],
 "metadata": {
  "kernelspec": {
   "display_name": "Python 3 (ipykernel)",
   "language": "python",
   "name": "python3"
  },
  "language_info": {
   "codemirror_mode": {
    "name": "ipython",
    "version": 3
   },
   "file_extension": ".py",
   "mimetype": "text/x-python",
   "name": "python",
   "nbconvert_exporter": "python",
   "pygments_lexer": "ipython3",
   "version": "3.9.7"
  }
 },
 "nbformat": 4,
 "nbformat_minor": 5
}
