{
 "cells": [
  {
   "cell_type": "code",
   "execution_count": 6,
   "id": "828a6bde",
   "metadata": {},
   "outputs": [],
   "source": [
    "import requests\n",
    "import csv\n",
    "from tqdm import tqdm\n",
    "import re"
   ]
  },
  {
   "cell_type": "code",
   "execution_count": 2,
   "id": "3154ef50",
   "metadata": {},
   "outputs": [],
   "source": [
    "with open(\"../data/sentences_en.csv\", \"r\") as f:\n",
    "    dict_reader = csv.DictReader(f, delimiter=\",\")\n",
    "    sentences = list(dict_reader)"
   ]
  },
  {
   "cell_type": "code",
   "execution_count": 3,
   "id": "634fbb03",
   "metadata": {},
   "outputs": [],
   "source": [
    "def get_wikidata(wikipage):\n",
    "    response = requests.get(\n",
    "        url = \"https://www.wikidata.org/w/api.php?action=wbgetentities&format=json&sites=enwiki&titles=\"+wikipage\n",
    "        )\n",
    "    try:\n",
    "        response.raise_for_status()\n",
    "    except requests.exceptions.HTTPError as e:\n",
    "        return None\n",
    "    else:\n",
    "        response = response.json()\n",
    "        wbitem = list(response[\"entities\"].keys())[0]\n",
    "        if wbitem == \"-1\":\n",
    "            response = requests.get(\n",
    "                url = \"https://www.wikidata.org/w/api.php?action=wbgetentities&format=json&sites=enwiki&titles=\"+wikipage+\"&normalize=1\"\n",
    "            )\n",
    "            response = response.json()\n",
    "            wbitem = list(response[\"entities\"].keys())[0]\n",
    "        return wbitem"
   ]
  },
  {
   "cell_type": "code",
   "execution_count": 10,
   "id": "6f7b7e52",
   "metadata": {},
   "outputs": [
    {
     "name": "stderr",
     "output_type": "stream",
     "text": [
      " 70%|█████████████████████████████▉             | 23/33 [01:37<00:29,  2.98s/it]"
     ]
    },
    {
     "name": "stdout",
     "output_type": "stream",
     "text": [
      "[{\"text\":\"In S Maria Maggiore in Florence, beside the Chapel of the Panciatichi, there is a very beautiful Pietà with little figures\"}]\n",
      "{'detail': 'There was an error parsing the body'}\n"
     ]
    },
    {
     "name": "stderr",
     "output_type": "stream",
     "text": [
      "\r",
      " 76%|████████████████████████████████▌          | 25/33 [01:39<00:17,  2.15s/it]"
     ]
    },
    {
     "name": "stdout",
     "output_type": "stream",
     "text": [
      "[{\"text\":\"At this time Sandro was commissioned to paint a little panel with figures three-quarters of a braccio in length, which was placed between two doors in the principal façade of S Maria Novella, on the left as one enters the church by the door in the centre It contains the Adoration of the Magi, and wonderful feeling is seen in the first old man, who, kissing the foot of Our Lord, and melting with tenderness, shows very clearly that he has achieved the end of his long journey\"}]\n",
      "{'detail': 'There was an error parsing the body'}\n"
     ]
    },
    {
     "name": "stderr",
     "output_type": "stream",
     "text": [
      "100%|███████████████████████████████████████████| 33/33 [02:04<00:00,  3.76s/it]\n"
     ]
    }
   ],
   "source": [
    "output = []\n",
    "url = \"http://10.10.4.10:22002\"\n",
    "pbar = tqdm(total=len(sentences))\n",
    "for sentence in sentences:\n",
    "    text = sentence[\"sentence\"]\n",
    "    text = re.sub(\"\\.\", \"\", text)\n",
    "    data = '[{\"text\":\"'+text+'\"}]'\n",
    "    r = requests.post(url, data=data)\n",
    "    try:\n",
    "        entities = r.json()[0][\"disambiguated_entities\"]\n",
    "        # print(entities)\n",
    "        for entity in entities:\n",
    "            item = {\"id\":sentence[\"id\"],\n",
    "            \"start_pos\":entity[\"char_start\"],\n",
    "            \"end_pos\":entity[\"char_end\"],\n",
    "            \"surface\":entity[\"mention\"],\n",
    "            \"alias\":entity[\"entity\"],\n",
    "            \"wb_id\":get_wikidata(entity[\"entity\"])}\n",
    "            output.append(item)\n",
    "        pbar.update(1)\n",
    "    except KeyError:\n",
    "        print(data)\n",
    "        print(r.json())\n",
    "        pbar.update(1)\n",
    "        continue\n",
    "\n",
    "pbar.close()\n",
    "\n",
    "keys = output[0].keys()\n",
    "\n",
    "a_file = open(\"../results/extend_en/output_nel.csv\", \"w\")\n",
    "dict_writer = csv.DictWriter(a_file, keys)\n",
    "dict_writer.writeheader()\n",
    "dict_writer.writerows(output)\n",
    "a_file.close()\n"
   ]
  },
  {
   "cell_type": "code",
   "execution_count": null,
   "id": "94d7bfbc",
   "metadata": {},
   "outputs": [],
   "source": []
  }
 ],
 "metadata": {
  "kernelspec": {
   "display_name": "Python 3 (ipykernel)",
   "language": "python",
   "name": "python3"
  },
  "language_info": {
   "codemirror_mode": {
    "name": "ipython",
    "version": 3
   },
   "file_extension": ".py",
   "mimetype": "text/x-python",
   "name": "python",
   "nbconvert_exporter": "python",
   "pygments_lexer": "ipython3",
   "version": "3.9.7"
  }
 },
 "nbformat": 4,
 "nbformat_minor": 5
}
