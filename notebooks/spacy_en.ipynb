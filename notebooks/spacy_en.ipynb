{
 "cells": [
  {
   "cell_type": "code",
   "execution_count": 1,
   "id": "66256f6c",
   "metadata": {},
   "outputs": [
    {
     "name": "stderr",
     "output_type": "stream",
     "text": [
      "C:\\Users\\CSA\\Anaconda3\\envs\\ner_vasari\\lib\\site-packages\\tqdm\\auto.py:22: TqdmWarning: IProgress not found. Please update jupyter and ipywidgets. See https://ipywidgets.readthedocs.io/en/stable/user_install.html\n",
      "  from .autonotebook import tqdm as notebook_tqdm\n"
     ]
    }
   ],
   "source": [
    "import spacy\n",
    "import csv\n",
    "from tqdm import tqdm\n",
    "import re"
   ]
  },
  {
   "cell_type": "code",
   "execution_count": 3,
   "id": "bbc5331e",
   "metadata": {},
   "outputs": [],
   "source": [
    "with open(\"../vasari-kg.github.io/data/sentences_en.csv\", \"r\") as f:\n",
    "    sentences = list(csv.DictReader(f=f, delimiter=\",\"))"
   ]
  },
  {
   "cell_type": "code",
   "execution_count": 8,
   "id": "f5bd30de",
   "metadata": {},
   "outputs": [],
   "source": [
    "nlp = spacy.load(\"en_core_web_trf\")"
   ]
  },
  {
   "cell_type": "code",
   "execution_count": 10,
   "id": "af6d4455",
   "metadata": {},
   "outputs": [],
   "source": [
    "def convert_label(label):\n",
    "    if label == \"PERSON\":\n",
    "        return \"PER\"\n",
    "    if label == \"ORGANIZATION\":\n",
    "        return \"ORG\"\n",
    "    if label in {\"GPE\", \"FAC\"}:\n",
    "        return \"LOC\"\n",
    "    if label ==\"DATE\":\n",
    "        return \"DATE\"\n",
    "    else:\n",
    "        return \"MISC\""
   ]
  },
  {
   "cell_type": "code",
   "execution_count": 11,
   "id": "3b8b8342",
   "metadata": {},
   "outputs": [
    {
     "name": "stderr",
     "output_type": "stream",
     "text": [
      "100%|██████████████████████████████████████████████████████████████████████████████████| 40/40 [00:09<00:00,  4.17it/s]\n"
     ]
    }
   ],
   "source": [
    "output = []\n",
    "\n",
    "pbar = tqdm(total=len(sentences))\n",
    "for sample in sentences:\n",
    "    sent_idx = sample[\"id\"]\n",
    "    text = sample[\"sentence\"]\n",
    "    doc = nlp(text)\n",
    "    for ent in doc.ents:\n",
    "        start_pos = ent.start_char\n",
    "        end_pos = ent.end_char\n",
    "        surface = ent.text\n",
    "        ner_type = ent.label_\n",
    "        match = re.match('(?:^the\\s|^a\\s)(.*?)$', surface, re.IGNORECASE)\n",
    "        if match:\n",
    "            surface = match.group(1)\n",
    "            start_pos = end_pos - len(surface)\n",
    "        if ner_type not in {\"TIME\", \"PERCENT\", \"MONEY\", \"QUANTITY\", \"ORDINAL\",\"CARDINAL\"}:\n",
    "            ner_type = convert_label(ner_type)\n",
    "            output.append({\n",
    "                \"id\":sent_idx,\n",
    "                \"start_pos\":start_pos,\n",
    "                \"end_pos\":end_pos,\n",
    "                \"surface\":surface,\n",
    "                \"type\":ner_type\n",
    "            })\n",
    "    pbar.update(1)\n",
    "pbar.close()\n",
    "\n",
    "\n",
    "keys = output[0].keys()\n",
    "a_file = open(\"results3/spacy_en/output.csv\", \"w\")\n",
    "dict_writer = csv.DictWriter(a_file, keys)\n",
    "dict_writer.writeheader()\n",
    "dict_writer.writerows(output)\n",
    "a_file.close()\n",
    "    "
   ]
  },
  {
   "cell_type": "code",
   "execution_count": 13,
   "id": "e684b036",
   "metadata": {},
   "outputs": [
    {
     "name": "stdout",
     "output_type": "stream",
     "text": [
      "beautiful mind\n"
     ]
    }
   ],
   "source": []
  },
  {
   "cell_type": "code",
   "execution_count": null,
   "id": "6ec0e0c2",
   "metadata": {},
   "outputs": [],
   "source": []
  }
 ],
 "metadata": {
  "kernelspec": {
   "display_name": "Python 3 (ipykernel)",
   "language": "python",
   "name": "python3"
  },
  "language_info": {
   "codemirror_mode": {
    "name": "ipython",
    "version": 3
   },
   "file_extension": ".py",
   "mimetype": "text/x-python",
   "name": "python",
   "nbconvert_exporter": "python",
   "pygments_lexer": "ipython3",
   "version": "3.8.13"
  }
 },
 "nbformat": 4,
 "nbformat_minor": 5
}
