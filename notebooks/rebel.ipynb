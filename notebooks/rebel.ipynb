{
 "cells": [
  {
   "cell_type": "code",
   "execution_count": 6,
   "id": "a5b37bca-a338-48c9-9c7c-f8ece21c68f0",
   "metadata": {},
   "outputs": [],
   "source": [
    "from transformers import AutoModelForSeq2SeqLM, AutoTokenizer\n",
    "import re\n",
    "\n",
    "def extract_triplets_typed(text):\n",
    "    triplets = []\n",
    "    relation = ''\n",
    "    text = text.strip()\n",
    "    current = 'x'\n",
    "    subject, relation, object_, object_type, subject_type = '','','','',''\n",
    "\n",
    "    for token in text.replace(\"<s>\", \"\").replace(\"<pad>\", \"\").replace(\"</s>\", \"\").replace(\"tp_XX\", \"\").replace(\"__en__\", \"\").split():\n",
    "        if token == \"<triplet>\" or token == \"<relation>\":\n",
    "            current = 't'\n",
    "            if relation != '':\n",
    "                triplets.append({'head': subject.strip(), 'head_type': subject_type, 'type': relation.strip(),'tail': object_.strip(), 'tail_type': object_type})\n",
    "                relation = ''\n",
    "            subject = ''\n",
    "        elif token.startswith(\"<\") and token.endswith(\">\"):\n",
    "            if current == 't' or current == 'o':\n",
    "                current = 's'\n",
    "                if relation != '':\n",
    "                    triplets.append({'head': subject.strip(), 'head_type': subject_type, 'type': relation.strip(),'tail': object_.strip(), 'tail_type': object_type})\n",
    "                object_ = ''\n",
    "                subject_type = token[1:-1]\n",
    "            else:\n",
    "                current = 'o'\n",
    "                object_type = token[1:-1]\n",
    "                relation = ''\n",
    "        else:\n",
    "            if current == 't':\n",
    "                subject += ' ' + token\n",
    "            elif current == 's':\n",
    "                object_ += ' ' + token\n",
    "            elif current == 'o':\n",
    "                relation += ' ' + token\n",
    "    if subject != '' and relation != '' and object_ != '' and object_type != '' and subject_type != '':\n",
    "        triplets.append({'head': subject.strip(), 'head_type': subject_type, 'type': relation.strip(),'tail': object_.strip(), 'tail_type': object_type})\n",
    "    return triplets\n",
    "\n",
    "# Load model and tokenizer\n",
    "tokenizer = AutoTokenizer.from_pretrained(\"Babelscape/mrebel-large-32\", src_lang=\"en_XX\", tgt_lang=\"tp_XX\") \n",
    "# Here we set English (\"en_XX\") as source language. To change the source language swap the first token of the input for your desired language or change to supported language. For catalan (\"ca_XX\") or greek (\"el_EL\") (not included in mBART pretraining) you need a workaround:\n",
    "# tokenizer._src_lang = \"ca_XX\"\n",
    "# tokenizer.cur_lang_code_id = tokenizer.convert_tokens_to_ids(\"ca_XX\")\n",
    "# tokenizer.set_src_lang_special_tokens(\"ca_XX\")\n",
    "model = AutoModelForSeq2SeqLM.from_pretrained(\"Babelscape/mrebel-large-32\")\n",
    "gen_kwargs = {\n",
    "    \"max_length\": 256,\n",
    "    \"length_penalty\": 0,\n",
    "    \"num_beams\": 3,\n",
    "    \"num_return_sequences\": 3,\n",
    "    \"forced_bos_token_id\": None,\n",
    "}\n",
    "\n",
    "\n",
    "\n",
    "def get_pos_from_triplets(triplets, text, idx=None):\n",
    "    triples = []\n",
    "    min_start_head = -1\n",
    "    for triple in triplets:\n",
    "        min_dist_tail = 100000\n",
    "        head = triple[\"head\"]\n",
    "        matches_head = re.finditer(head, text)\n",
    "        matches_head = [(m.start(0), m.end(0)) for m in matches_head]\n",
    "        tail = triple[\"tail\"]\n",
    "        matches_tail = re.finditer(tail, text)\n",
    "        matches_tail = [(m.start(0), m.end(0)) for m in matches_tail]\n",
    "        for x in matches_head:\n",
    "            if x[0]>min_start_head:\n",
    "                min_start_head = x[0]\n",
    "                start_pos_head = x[0]\n",
    "                end_pos_head = start_pos_head+len(head)\n",
    "                break\n",
    "        for y in matches_tail:\n",
    "            dist_tail = abs(y[0]-end_pos_head)\n",
    "            if dist_tail<min_dist_tail:\n",
    "                start_pos_tail = y[0]\n",
    "                min_dist_tail = dist_tail\n",
    "        if idx==None and len(matches_tail)>0 and len(matches_head)>0:\n",
    "            output = {\"head_start\":start_pos_head, \n",
    "                      \"head_end\":start_pos_head+len(head),\n",
    "                      \"head_type\":triple[\"head_type\"],\n",
    "                      \"head\":head,\n",
    "                      \"tail_start\":start_pos_tail,\n",
    "                      \"tail_end\":start_pos_tail+len(tail),\n",
    "                      \"tail_type\":triple[\"tail_type\"],\n",
    "                      \"tail\":tail,\n",
    "                      \"relation\":triple[\"type\"]}\n",
    "            triples.append(output)\n",
    "        elif len(matches_tail)>0 and len(matches_head)>0:\n",
    "            output = {\"text_idx\":idx,\n",
    "                      \"head_start\":start_pos_head, \n",
    "                      \"head_end\":start_pos_head+len(head),\n",
    "                      \"head_type\":triple[\"head_type\"],\n",
    "                      \"head\":head,\n",
    "                      \"tail_start\":start_pos_tail,\n",
    "                      \"tail_end\":start_pos_tail+len(tail),\n",
    "                      \"tail_type\":triple[\"tail_type\"],\n",
    "                      \"tail\":tail,\n",
    "                      \"relation\":triple[\"type\"]}\n",
    "            triples.append(output)\n",
    "    return triples\n"
   ]
  },
  {
   "cell_type": "code",
   "execution_count": 7,
   "id": "0bff48a9-1742-4286-8d64-a842e406914b",
   "metadata": {},
   "outputs": [],
   "source": [
    "import csv\n",
    "with open(\"../data/sentences.csv\", \"r\", encoding=\"utf-8\") as f:\n",
    "    data = list(csv.DictReader(f=f, delimiter=\",\"))"
   ]
  },
  {
   "cell_type": "code",
   "execution_count": 8,
   "id": "8d18c064-3f8c-4db3-a706-423154bbe0e3",
   "metadata": {},
   "outputs": [
    {
     "name": "stderr",
     "output_type": "stream",
     "text": [
      "\n",
      "  0%|                                                                                           | 0/55 [00:39<?, ?it/s]\u001b[A\n",
      "\n",
      "  2%|█▌                                                                                 | 1/55 [00:02<02:36,  2.89s/it]\u001b[A"
     ]
    },
    {
     "name": "stdout",
     "output_type": "stream",
     "text": [
      "{'text_idx': '0', 'head_start': 593, 'head_end': 605, 'head_type': 'per', 'head': 'Duke Lorenzo', 'tail_start': 610, 'tail_end': 623, 'tail_type': 'per', 'tail': 'Duke Giuliano', 'relation': 'sibling'}\n",
      "{'text_idx': '0', 'head_start': 417, 'head_end': 437, 'head_type': 'per', 'head': 'Antonio da San Gallo', 'tail_start': 474, 'tail_end': 491, 'tail_type': 'loc', 'tail': 'Madonna di Loreto', 'relation': 'notable work'}\n",
      "{'text_idx': '0', 'head_start': 110, 'head_end': 130, 'head_type': 'loc', 'head': 'sacristy and library', 'tail_start': 74, 'tail_end': 82, 'tail_type': 'loc', 'tail': 'Florence', 'relation': 'location'}\n"
     ]
    },
    {
     "name": "stderr",
     "output_type": "stream",
     "text": [
      "\n",
      "  4%|███                                                                                | 2/55 [00:05<02:25,  2.74s/it]\u001b[A"
     ]
    },
    {
     "name": "stdout",
     "output_type": "stream",
     "text": [
      "{'text_idx': '1', 'head_start': 57, 'head_end': 67, 'head_type': 'loc', 'head': 'Montorsoli', 'tail_start': 474, 'tail_end': 481, 'tail_type': 'loc', 'tail': 'Fiesole', 'relation': 'location'}\n",
      "{'text_idx': '1', 'head_start': 474, 'head_end': 481, 'head_type': 'loc', 'head': 'Fiesole', 'tail_start': 103, 'tail_end': 111, 'tail_type': 'loc', 'tail': 'Florence', 'relation': 'shares border with'}\n",
      "{'text_idx': '1', 'head_start': 57, 'head_end': 67, 'head_type': 'loc', 'head': 'Montorsoli', 'tail_start': 103, 'tail_end': 111, 'tail_type': 'loc', 'tail': 'Florence', 'relation': 'location'}\n"
     ]
    },
    {
     "name": "stderr",
     "output_type": "stream",
     "text": [
      "\n",
      "  5%|████▌                                                                              | 3/55 [00:08<02:16,  2.62s/it]\u001b[A"
     ]
    },
    {
     "name": "stdout",
     "output_type": "stream",
     "text": [
      "{'text_idx': '2', 'head_start': 445, 'head_end': 456, 'head_type': 'loc', 'head': 'Fontebranda', 'tail_start': 371, 'tail_end': 375, 'tail_type': 'date', 'tail': '1190', 'relation': 'inception'}\n",
      "{'text_idx': '2', 'head_start': 445, 'head_end': 456, 'head_type': 'loc', 'head': 'Fontebranda', 'tail_start': 301, 'tail_end': 306, 'tail_type': 'loc', 'tail': 'Siena', 'relation': 'location'}\n",
      "{'text_idx': '2', 'head_start': 99, 'head_end': 107, 'head_type': 'per', 'head': 'Agostino', 'tail_start': 112, 'tail_end': 118, 'tail_type': 'per', 'tail': 'Agnolo', 'relation': 'sibling'}\n"
     ]
    },
    {
     "name": "stderr",
     "output_type": "stream",
     "text": [
      "\n",
      "  7%|██████                                                                             | 4/55 [00:10<02:11,  2.58s/it]\u001b[A"
     ]
    },
    {
     "name": "stdout",
     "output_type": "stream",
     "text": [
      "{'text_idx': '3', 'head_start': 529, 'head_end': 536, 'head_type': 'loc', 'head': 'Pistola', 'tail_start': 541, 'tail_end': 545, 'tail_type': 'loc', 'tail': 'Pisa', 'relation': 'location'}\n",
      "{'text_idx': '3', 'head_start': 529, 'head_end': 536, 'head_type': 'loc', 'head': 'Pistola', 'tail_start': 541, 'tail_end': 545, 'tail_type': 'loc', 'tail': 'Pisa', 'relation': 'shares border with'}\n",
      "{'text_idx': '3', 'head_start': 753, 'head_end': 759, 'head_type': 'loc', 'head': 'Palace', 'tail_start': 763, 'tail_end': 775, 'tail_type': 'loc', 'tail': 'Malborghetto', 'relation': 'location'}\n"
     ]
    },
    {
     "name": "stderr",
     "output_type": "stream",
     "text": [
      "\n",
      "  9%|███████▌                                                                           | 5/55 [00:13<02:21,  2.83s/it]\u001b[A"
     ]
    },
    {
     "name": "stdout",
     "output_type": "stream",
     "text": [
      "{'text_idx': '4', 'head_start': 101, 'head_end': 135, 'head_type': 'per', 'head': \"Lorenzo de' Medici the Magnificent\", 'tail_start': 801, 'tail_end': 809, 'tail_type': 'per', 'tail': 'Giuliano', 'relation': 'sibling'}\n",
      "{'text_idx': '4', 'head_start': 180, 'head_end': 203, 'head_type': 'per', 'head': 'Michelagnolo di Viviano', 'tail_start': 163, 'tail_end': 172, 'tail_type': 'concept', 'tail': 'goldsmith', 'relation': 'occupation'}\n",
      "{'text_idx': '4', 'head_start': 801, 'head_end': 809, 'head_type': 'per', 'head': 'Giuliano', 'tail_start': 874, 'tail_end': 882, 'tail_type': 'loc', 'tail': 'S. Croce', 'relation': 'notable work'}\n"
     ]
    },
    {
     "name": "stderr",
     "output_type": "stream",
     "text": [
      "\n",
      " 11%|█████████                                                                          | 6/55 [00:16<02:16,  2.78s/it]\u001b[A"
     ]
    },
    {
     "name": "stdout",
     "output_type": "stream",
     "text": [
      "{'text_idx': '5', 'head_start': 648, 'head_end': 661, 'head_type': 'loc', 'head': 'Medici Palace', 'tail_start': 565, 'tail_end': 573, 'tail_type': 'loc', 'tail': 'Florence', 'relation': 'location'}\n",
      "{'text_idx': '5', 'head_start': 601, 'head_end': 616, 'head_type': 'misc', 'head': 'David of Donato', 'tail_start': 648, 'tail_end': 661, 'tail_type': 'loc', 'tail': 'Medici Palace', 'relation': 'location'}\n",
      "{'text_idx': '5', 'head_start': 601, 'head_end': 616, 'head_type': 'loc', 'head': 'David of Donato', 'tail_start': 648, 'tail_end': 661, 'tail_type': 'loc', 'tail': 'Medici Palace', 'relation': 'location'}\n"
     ]
    },
    {
     "name": "stderr",
     "output_type": "stream",
     "text": [
      "\n",
      " 13%|██████████▌                                                                        | 7/55 [00:19<02:10,  2.73s/it]\u001b[A"
     ]
    },
    {
     "name": "stdout",
     "output_type": "stream",
     "text": [
      "{'text_idx': '6', 'head_start': 565, 'head_end': 571, 'head_type': 'concept', 'head': 'beauty', 'tail_start': 556, 'tail_end': 561, 'tail_type': 'concept', 'tail': 'grace', 'relation': 'instance of'}\n",
      "{'text_idx': '6', 'head_start': 436, 'head_end': 444, 'head_type': 'concept', 'head': 'nobility', 'tail_start': 54, 'tail_end': 62, 'tail_type': 'concept', 'tail': 'features', 'relation': 'instance of'}\n",
      "{'text_idx': '6', 'head_start': 868, 'head_end': 886, 'head_type': 'concept', 'head': 'sincerity of heart', 'tail_start': 836, 'tail_end': 854, 'tail_type': 'concept', 'tail': 'generosity of mind', 'relation': 'instance of'}\n"
     ]
    },
    {
     "name": "stderr",
     "output_type": "stream",
     "text": [
      "\n",
      " 15%|████████████                                                                       | 8/55 [00:22<02:10,  2.78s/it]\u001b[A"
     ]
    },
    {
     "name": "stdout",
     "output_type": "stream",
     "text": [
      "{'text_idx': '7', 'head_start': 145, 'head_end': 174, 'head_type': 'per', 'head': 'Ser Brunellesco di Lippo Lapi', 'tail_start': 774, 'tail_end': 781, 'tail_type': 'per', 'tail': 'Filippo', 'relation': 'child'}\n",
      "{'text_idx': '7', 'head_start': 145, 'head_end': 174, 'head_type': 'per', 'head': 'Ser Brunellesco di Lippo Lapi', 'tail_start': 29, 'tail_end': 37, 'tail_type': 'loc', 'tail': 'Florence', 'relation': 'place of birth'}\n",
      "{'text_idx': '7', 'head_start': 303, 'head_end': 328, 'head_type': 'per', 'head': 'Maestro Ventura Bacherini', 'tail_start': 29, 'tail_end': 37, 'tail_type': 'loc', 'tail': 'Florence', 'relation': 'place of birth'}\n"
     ]
    },
    {
     "name": "stderr",
     "output_type": "stream",
     "text": [
      "\n",
      " 16%|█████████████▌                                                                     | 9/55 [00:25<02:13,  2.89s/it]\u001b[A"
     ]
    },
    {
     "name": "stdout",
     "output_type": "stream",
     "text": [
      "{'text_idx': '8', 'head_start': 518, 'head_end': 537, 'head_type': 'per', 'head': 'Giuliano Bugiardini', 'tail_start': 493, 'tail_end': 507, 'tail_type': 'loc', 'tail': 'Porta a Faenza', 'relation': 'place of birth'}\n",
      "{'text_idx': '8', 'head_start': 518, 'head_end': 537, 'head_type': 'per', 'head': 'Giuliano Bugiardini', 'tail_start': 20, 'tail_end': 28, 'tail_type': 'loc', 'tail': 'Florence', 'relation': 'place of birth'}\n",
      "{'text_idx': '8', 'head_start': 884, 'head_end': 907, 'head_type': 'per', 'head': 'Michelagnolo Buonarroti', 'tail_start': 20, 'tail_end': 28, 'tail_type': 'loc', 'tail': 'Florence', 'relation': 'place of birth'}\n"
     ]
    },
    {
     "name": "stderr",
     "output_type": "stream",
     "text": [
      "\n",
      " 18%|██████████████▉                                                                   | 10/55 [00:29<02:28,  3.31s/it]\u001b[A"
     ]
    },
    {
     "name": "stdout",
     "output_type": "stream",
     "text": [
      "{'text_idx': '9', 'head_start': 85, 'head_end': 104, 'head_type': 'per', 'head': 'Raffaello da Urbino', 'tail_start': 126, 'tail_end': 135, 'tail_type': 'concept', 'tail': 'portraits', 'relation': 'genre'}\n",
      "{'text_idx': '9', 'head_start': 85, 'head_end': 104, 'head_type': 'per', 'head': 'Raffaello da Urbino', 'tail_start': 126, 'tail_end': 134, 'tail_type': 'concept', 'tail': 'portrait', 'relation': 'genre'}\n",
      "{'text_idx': '9', 'head_start': 85, 'head_end': 104, 'head_type': 'per', 'head': 'Raffaello da Urbino', 'tail_start': 126, 'tail_end': 199, 'tail_type': 'media', 'tail': \"portraits of Pope Leo, Cardinal Giulio de' Medici, and Cardinal de' Rossi\", 'relation': 'notable work'}\n"
     ]
    },
    {
     "name": "stderr",
     "output_type": "stream",
     "text": [
      "\n",
      " 20%|████████████████▍                                                                 | 11/55 [00:32<02:17,  3.13s/it]\u001b[A"
     ]
    },
    {
     "name": "stdout",
     "output_type": "stream",
     "text": [
      "{'text_idx': '10', 'head_start': 769, 'head_end': 784, 'head_type': 'per', 'head': 'Marco Calavrese', 'tail_start': 872, 'tail_end': 878, 'tail_type': 'loc', 'tail': 'Naples', 'relation': 'place of birth'}\n",
      "{'text_idx': '10', 'head_start': 1036, 'head_end': 1041, 'head_type': 'loc', 'head': 'Siren', 'tail_start': 943, 'tail_end': 947, 'tail_type': 'loc', 'tail': 'Rome', 'relation': 'location'}\n",
      "{'text_idx': '10', 'head_start': 1036, 'head_end': 1041, 'head_type': 'concept', 'head': 'Siren', 'tail_start': 943, 'tail_end': 947, 'tail_type': 'loc', 'tail': 'Rome', 'relation': 'location'}\n"
     ]
    },
    {
     "name": "stderr",
     "output_type": "stream",
     "text": [
      "\n",
      " 22%|█████████████████▉                                                                | 12/55 [00:34<02:07,  2.95s/it]\u001b[A"
     ]
    },
    {
     "name": "stdout",
     "output_type": "stream",
     "text": [
      "{'text_idx': '11', 'head_start': 144, 'head_end': 150, 'head_type': 'loc', 'head': 'Norcia', 'tail_start': 116, 'tail_end': 124, 'tail_type': 'loc', 'tail': 'Calabria', 'relation': 'part of'}\n",
      "{'text_idx': '11', 'head_start': 144, 'head_end': 150, 'head_type': 'loc', 'head': 'Norcia', 'tail_start': 116, 'tail_end': 124, 'tail_type': 'loc', 'tail': 'Calabria', 'relation': 'location'}\n",
      "{'text_idx': '11', 'head_start': 61, 'head_end': 87, 'head_type': 'per', 'head': 'Maestro Cola dalla Matrice', 'tail_start': 329, 'tail_end': 338, 'tail_type': 'concept', 'tail': 'architect', 'relation': 'occupation'}\n"
     ]
    },
    {
     "name": "stderr",
     "output_type": "stream",
     "text": [
      "\n",
      " 24%|███████████████████▍                                                              | 13/55 [00:38<02:13,  3.17s/it]\u001b[A"
     ]
    },
    {
     "name": "stdout",
     "output_type": "stream",
     "text": [
      "{'text_idx': '12', 'head_start': 98, 'head_end': 106, 'head_type': 'loc', 'head': 'Lombardy', 'tail_start': 108, 'tail_end': 115, 'tail_type': 'loc', 'tail': 'Tuscany', 'relation': 'shares border with'}\n",
      "{'text_idx': '12', 'head_start': 236, 'head_end': 243, 'head_type': 'per', 'head': 'Lorenzo', 'tail_start': 214, 'tail_end': 219, 'tail_type': 'per', 'tail': 'Piero', 'relation': 'child'}\n",
      "{'text_idx': '12', 'head_start': 98, 'head_end': 106, 'head_type': 'loc', 'head': 'Lombardy', 'tail_start': 108, 'tail_end': 115, 'tail_type': 'loc', 'tail': 'Tuscany', 'relation': 'shares border with'}\n",
      "{'text_idx': '12', 'head_start': 236, 'head_end': 243, 'head_type': 'per', 'head': 'Lorenzo', 'tail_start': 214, 'tail_end': 219, 'tail_type': 'per', 'tail': 'Piero', 'relation': 'child'}\n"
     ]
    },
    {
     "name": "stderr",
     "output_type": "stream",
     "text": [
      "\n",
      " 25%|████████████████████▊                                                             | 14/55 [00:41<02:10,  3.19s/it]\u001b[A"
     ]
    },
    {
     "name": "stdout",
     "output_type": "stream",
     "text": [
      "{'text_idx': '13', 'head_start': 658, 'head_end': 666, 'head_type': 'misc', 'head': 'S. Peter', 'tail_start': 671, 'tail_end': 693, 'tail_type': 'misc', 'tail': 'S. John the Evangelist', 'relation': 'sibling'}\n",
      "{'text_idx': '13', 'head_start': 131, 'head_end': 152, 'head_type': 'loc', 'head': 'Chapel of the Tedaldi', 'tail_start': 94, 'tail_end': 122, 'tail_type': 'loc', 'tail': 'Church of the Servite Friars', 'relation': 'part of'}\n",
      "{'text_idx': '13', 'head_start': 94, 'head_end': 122, 'head_type': 'loc', 'head': 'Church of the Servite Friars', 'tail_start': 145, 'tail_end': 152, 'tail_type': 'loc', 'tail': 'Tedaldi', 'relation': 'location'}\n"
     ]
    },
    {
     "name": "stderr",
     "output_type": "stream",
     "text": [
      "\n",
      " 27%|██████████████████████▎                                                           | 15/55 [00:45<02:11,  3.28s/it]\u001b[A"
     ]
    },
    {
     "name": "stdout",
     "output_type": "stream",
     "text": [
      "{'text_idx': '14', 'head_start': 552, 'head_end': 571, 'head_type': 'loc', 'head': 'Badia of S. Stefano', 'tail_start': 597, 'tail_end': 606, 'tail_type': 'loc', 'tail': 'Sermoneta', 'relation': 'location'}\n",
      "{'text_idx': '14', 'head_start': 83, 'head_end': 115, 'head_type': 'per', 'head': 'Girolamo Siciolante of Sermoneta', 'tail_start': 106, 'tail_end': 115, 'tail_type': 'loc', 'tail': 'Sermoneta', 'relation': 'place of birth'}\n",
      "{'text_idx': '14', 'head_start': 83, 'head_end': 102, 'head_type': 'per', 'head': 'Girolamo Siciolante', 'tail_start': 106, 'tail_end': 115, 'tail_type': 'loc', 'tail': 'Sermoneta', 'relation': 'place of birth'}\n"
     ]
    },
    {
     "name": "stderr",
     "output_type": "stream",
     "text": [
      "\n",
      " 29%|███████████████████████▊                                                          | 16/55 [00:47<02:02,  3.14s/it]\u001b[A"
     ]
    },
    {
     "name": "stdout",
     "output_type": "stream",
     "text": [
      "{'text_idx': '15', 'head_start': 3, 'head_end': 19, 'head_type': 'per', 'head': 'Jacopo del Conte', 'tail_start': 23, 'tail_end': 33, 'tail_type': 'loc', 'tail': 'Florentine', 'relation': 'place of birth'}\n",
      "{'text_idx': '15', 'head_start': 3, 'head_end': 19, 'head_type': 'concept', 'head': 'Jacopo del Conte', 'tail_start': 23, 'tail_end': 33, 'tail_type': 'loc', 'tail': 'Florentine', 'relation': 'place of birth'}\n",
      "{'text_idx': '15', 'head_start': 835, 'head_end': 848, 'head_type': 'per', 'head': 'Piero Strozzi', 'tail_start': 23, 'tail_end': 33, 'tail_type': 'loc', 'tail': 'Florentine', 'relation': 'place of birth'}\n"
     ]
    },
    {
     "name": "stderr",
     "output_type": "stream",
     "text": [
      "\n",
      " 31%|█████████████████████████▎                                                        | 17/55 [00:50<01:56,  3.05s/it]\u001b[A"
     ]
    },
    {
     "name": "stdout",
     "output_type": "stream",
     "text": [
      "{'text_idx': '16', 'head_start': 804, 'head_end': 837, 'head_type': 'per', 'head': 'Giovanni da Santo Stefano a Ponte', 'tail_start': 841, 'tail_end': 849, 'tail_type': 'loc', 'tail': 'Florence', 'relation': 'place of birth'}\n",
      "{'text_idx': '16', 'head_start': 832, 'head_end': 837, 'head_type': 'loc', 'head': 'Ponte', 'tail_start': 841, 'tail_end': 849, 'tail_type': 'loc', 'tail': 'Florence', 'relation': 'location'}\n",
      "{'text_idx': '16', 'head_start': 832, 'head_end': 849, 'head_type': 'loc', 'head': 'Ponte of Florence', 'tail_start': 841, 'tail_end': 849, 'tail_type': 'loc', 'tail': 'Florence', 'relation': 'location'}\n"
     ]
    },
    {
     "name": "stderr",
     "output_type": "stream",
     "text": [
      "\n",
      " 33%|██████████████████████████▊                                                       | 18/55 [00:53<01:54,  3.09s/it]\u001b[A"
     ]
    },
    {
     "name": "stdout",
     "output_type": "stream",
     "text": [
      "{'text_idx': '17', 'head_start': 26, 'head_end': 45, 'head_type': 'loc', 'head': 'Chapel of the Scali', 'tail_start': 49, 'tail_end': 59, 'tail_type': 'loc', 'tail': 'S. Trinita', 'relation': 'location'}\n",
      "{'text_idx': '17', 'head_start': 49, 'head_end': 59, 'head_type': 'loc', 'head': 'S. Trinita', 'tail_start': 63, 'tail_end': 71, 'tail_type': 'loc', 'tail': 'Florence', 'relation': 'location'}\n",
      "{'text_idx': '17', 'head_start': 26, 'head_end': 45, 'head_type': 'loc', 'head': 'Chapel of the Scali', 'tail_start': 63, 'tail_end': 71, 'tail_type': 'loc', 'tail': 'Florence', 'relation': 'location'}\n"
     ]
    },
    {
     "name": "stderr",
     "output_type": "stream",
     "text": [
      "\n",
      " 35%|████████████████████████████▎                                                     | 19/55 [00:57<02:00,  3.36s/it]\u001b[A"
     ]
    },
    {
     "name": "stdout",
     "output_type": "stream",
     "text": [
      "{'text_idx': '18', 'head_start': 21, 'head_end': 26, 'head_type': 'media', 'head': 'Lives', 'tail_start': 166, 'tail_end': 182, 'tail_type': 'per', 'tail': 'Andrea del Sarto', 'relation': 'author'}\n",
      "{'text_idx': '18', 'head_start': 166, 'head_end': 182, 'head_type': 'per', 'head': 'Andrea del Sarto', 'tail_start': 21, 'tail_end': 26, 'tail_type': 'media', 'tail': 'Lives', 'relation': 'notable work'}\n",
      "{'text_idx': '18', 'head_start': 21, 'head_end': 26, 'head_type': 'media', 'head': 'Lives', 'tail_start': 166, 'tail_end': 182, 'tail_type': 'per', 'tail': 'Andrea del Sarto', 'relation': 'author'}\n",
      "{'text_idx': '18', 'head_start': 166, 'head_end': 182, 'head_type': 'per', 'head': 'Andrea del Sarto', 'tail_start': 21, 'tail_end': 26, 'tail_type': 'media', 'tail': 'Lives', 'relation': 'notable work'}\n"
     ]
    },
    {
     "name": "stderr",
     "output_type": "stream",
     "text": [
      "\n",
      " 36%|█████████████████████████████▊                                                    | 20/55 [01:00<01:53,  3.25s/it]\u001b[A"
     ]
    },
    {
     "name": "stdout",
     "output_type": "stream",
     "text": [
      "{'text_idx': '19', 'head_start': 973, 'head_end': 986, 'head_type': 'media', 'head': 'Servite Order', 'tail_start': 941, 'tail_end': 951, 'tail_type': 'per', 'tail': 'S. Filippo', 'relation': 'founded by'}\n",
      "{'text_idx': '19', 'head_start': 973, 'head_end': 986, 'head_type': 'media', 'head': 'Servite Order', 'tail_start': 941, 'tail_end': 951, 'tail_type': 'misc', 'tail': 'S. Filippo', 'relation': 'founded by'}\n",
      "{'text_idx': '19', 'head_start': 721, 'head_end': 740, 'head_type': 'per', 'head': 'Alesso Baldovinetti', 'tail_start': 755, 'tail_end': 773, 'tail_type': 'media', 'tail': 'Nativity of Christ', 'relation': 'notable work'}\n"
     ]
    },
    {
     "name": "stderr",
     "output_type": "stream",
     "text": [
      "\n",
      " 38%|███████████████████████████████▎                                                  | 21/55 [01:05<02:01,  3.56s/it]\u001b[A"
     ]
    },
    {
     "name": "stdout",
     "output_type": "stream",
     "text": [
      "{'text_idx': '20', 'head_start': 523, 'head_end': 540, 'head_type': 'per', 'head': 'Galasso Ferrarese', 'tail_start': 609, 'tail_end': 616, 'tail_type': 'loc', 'tail': 'Ferrara', 'relation': 'place of birth'}\n",
      "{'text_idx': '20', 'head_start': 554, 'head_end': 569, 'head_type': 'per', 'head': 'Piero dal Borgo', 'tail_start': 609, 'tail_end': 616, 'tail_type': 'loc', 'tail': 'Ferrara', 'relation': 'place of birth'}\n",
      "{'text_idx': '20', 'head_start': 523, 'head_end': 540, 'head_type': 'per', 'head': 'Galasso Ferrarese', 'tail_start': 609, 'tail_end': 616, 'tail_type': 'loc', 'tail': 'Ferrara', 'relation': 'place of birth'}\n",
      "{'text_idx': '20', 'head_start': 554, 'head_end': 569, 'head_type': 'per', 'head': 'Piero dal Borgo', 'tail_start': 609, 'tail_end': 616, 'tail_type': 'loc', 'tail': 'Ferrara', 'relation': 'place of birth'}\n"
     ]
    },
    {
     "name": "stderr",
     "output_type": "stream",
     "text": [
      "\n",
      " 40%|████████████████████████████████▊                                                 | 22/55 [01:06<01:40,  3.03s/it]\u001b[A"
     ]
    },
    {
     "name": "stdout",
     "output_type": "stream",
     "text": [
      "{'text_idx': '21', 'head_start': 26, 'head_end': 31, 'head_type': 'per', 'head': 'Cosmè', 'tail_start': 41, 'tail_end': 48, 'tail_type': 'loc', 'tail': 'Ferrara', 'relation': 'place of birth'}\n",
      "{'text_idx': '21', 'head_start': 171, 'head_end': 176, 'head_type': 'concept', 'head': 'organ', 'tail_start': 184, 'tail_end': 189, 'tail_type': 'loc', 'tail': 'Duomo', 'relation': 'location'}\n",
      "{'text_idx': '21', 'head_start': 94, 'head_end': 100, 'head_type': 'loc', 'head': 'chapel', 'tail_start': 104, 'tail_end': 115, 'tail_type': 'loc', 'tail': 'S. Domenico', 'relation': 'location'}\n"
     ]
    },
    {
     "name": "stderr",
     "output_type": "stream",
     "text": [
      "\n",
      " 42%|██████████████████████████████████▎                                               | 23/55 [01:09<01:32,  2.89s/it]\u001b[A"
     ]
    },
    {
     "name": "stdout",
     "output_type": "stream",
     "text": [
      "{'text_idx': '22', 'head_start': 854, 'head_end': 864, 'head_type': 'loc', 'head': 'Roman name', 'tail_start': 677, 'tail_end': 683, 'tail_type': 'loc', 'tail': 'Romans', 'relation': 'country'}\n",
      "{'text_idx': '22', 'head_start': 462, 'head_end': 471, 'head_type': 'concept', 'head': 'buildings', 'tail_start': 476, 'tail_end': 484, 'tail_type': 'concept', 'tail': 'edifices', 'relation': 'instance of'}\n",
      "{'text_idx': '22', 'head_start': 677, 'head_end': 683, 'head_type': 'loc', 'head': 'Romans', 'tail_start': 854, 'tail_end': 864, 'tail_type': 'loc', 'tail': 'Roman name', 'relation': 'named after'}\n"
     ]
    },
    {
     "name": "stderr",
     "output_type": "stream",
     "text": [
      "\n",
      " 44%|███████████████████████████████████▊                                              | 24/55 [01:13<01:37,  3.14s/it]\u001b[A"
     ]
    },
    {
     "name": "stdout",
     "output_type": "stream",
     "text": [
      "{'text_idx': '23', 'head_start': 270, 'head_end': 288, 'head_type': 'per', 'head': 'Giuliano da Maiano', 'tail_start': 912, 'tail_end': 921, 'tail_type': 'concept', 'tail': 'architect', 'relation': 'occupation'}\n",
      "{'text_idx': '23', 'head_start': 34, 'head_end': 65, 'head_type': 'loc', 'head': 'Church of the Madonna of Loreto', 'tail_start': 59, 'tail_end': 65, 'tail_type': 'loc', 'tail': 'Loreto', 'relation': 'location'}\n",
      "{'text_idx': '23', 'head_start': 270, 'head_end': 288, 'head_type': 'per', 'head': 'Giuliano da Maiano', 'tail_start': 912, 'tail_end': 921, 'tail_type': 'concept', 'tail': 'architect', 'relation': 'occupation'}\n",
      "{'text_idx': '23', 'head_start': 356, 'head_end': 365, 'head_type': 'per', 'head': 'Sixtus IV', 'tail_start': 912, 'tail_end': 921, 'tail_type': 'concept', 'tail': 'architect', 'relation': 'occupation'}\n"
     ]
    },
    {
     "name": "stderr",
     "output_type": "stream",
     "text": [
      "\n",
      " 45%|█████████████████████████████████████▎                                            | 25/55 [01:17<01:40,  3.35s/it]\u001b[A"
     ]
    },
    {
     "name": "stdout",
     "output_type": "stream",
     "text": [
      "{'text_idx': '24', 'head_start': 800, 'head_end': 812, 'head_type': 'per', 'head': 'Fra Giocondo', 'tail_start': 816, 'tail_end': 822, 'tail_type': 'loc', 'tail': 'Verona', 'relation': 'place of birth'}\n",
      "{'text_idx': '24', 'head_start': 800, 'head_end': 822, 'head_type': 'per', 'head': 'Fra Giocondo of Verona', 'tail_start': 680, 'tail_end': 721, 'tail_type': 'concept', 'tail': 'Lives of the Painters and other Craftsmen', 'relation': 'notable work'}\n",
      "{'text_idx': '24', 'head_start': 680, 'head_end': 721, 'head_type': 'concept', 'head': 'Lives of the Painters and other Craftsmen', 'tail_start': 800, 'tail_end': 822, 'tail_type': 'per', 'tail': 'Fra Giocondo of Verona', 'relation': 'author'}\n"
     ]
    },
    {
     "name": "stderr",
     "output_type": "stream",
     "text": [
      "\n",
      " 47%|██████████████████████████████████████▊                                           | 26/55 [01:19<01:30,  3.13s/it]\u001b[A"
     ]
    },
    {
     "name": "stdout",
     "output_type": "stream",
     "text": [
      "{'text_idx': '25', 'head_start': 369, 'head_end': 378, 'head_type': 'loc', 'head': 'that city', 'tail_start': 252, 'tail_end': 270, 'tail_type': 'loc', 'tail': 'Republic of Venice', 'relation': 'country'}\n",
      "{'text_idx': '25', 'head_start': 352, 'head_end': 359, 'head_type': 'loc', 'head': 'lagoons', 'tail_start': 252, 'tail_end': 270, 'tail_type': 'loc', 'tail': 'Republic of Venice', 'relation': 'country'}\n",
      "{'text_idx': '25', 'head_start': 522, 'head_end': 530, 'head_type': 'loc', 'head': 'the city', 'tail_start': 252, 'tail_end': 270, 'tail_type': 'loc', 'tail': 'Republic of Venice', 'relation': 'country'}\n"
     ]
    },
    {
     "name": "stderr",
     "output_type": "stream",
     "text": [
      "\n",
      " 49%|████████████████████████████████████████▎                                         | 27/55 [01:22<01:24,  3.03s/it]\u001b[A"
     ]
    },
    {
     "name": "stdout",
     "output_type": "stream",
     "text": [
      "{'text_idx': '26', 'head_start': 915, 'head_end': 925, 'head_type': 'loc', 'head': 'Vespignano', 'tail_start': 946, 'tail_end': 954, 'tail_type': 'loc', 'tail': 'Florence', 'relation': 'location'}\n",
      "{'text_idx': '26', 'head_start': 915, 'head_end': 925, 'head_type': 'loc', 'head': 'Vespignano', 'tail_start': 946, 'tail_end': 954, 'tail_type': 'loc', 'tail': 'Florence', 'relation': 'shares border with'}\n",
      "{'text_idx': '26', 'head_start': 915, 'head_end': 925, 'head_type': 'loc', 'head': 'Vespignano', 'tail_start': 934, 'tail_end': 954, 'tail_type': 'loc', 'tail': 'district of Florence', 'relation': 'location'}\n"
     ]
    },
    {
     "name": "stderr",
     "output_type": "stream",
     "text": [
      "\n",
      " 51%|█████████████████████████████████████████▋                                        | 28/55 [01:25<01:22,  3.06s/it]\u001b[A"
     ]
    },
    {
     "name": "stdout",
     "output_type": "stream",
     "text": [
      "{'text_idx': '27', 'head_start': 94, 'head_end': 110, 'head_type': 'loc', 'head': 'Massa di Maremma', 'tail_start': 129, 'tail_end': 134, 'tail_type': 'loc', 'tail': 'Lucca', 'relation': 'shares border with'}\n",
      "{'text_idx': '27', 'head_start': 302, 'head_end': 321, 'head_type': 'per', 'head': 'Dolfo da Pietramala', 'tail_start': 522, 'tail_end': 538, 'tail_type': 'org', 'tail': 'Ghibelline party', 'relation': 'member of'}\n",
      "{'text_idx': '27', 'head_start': 580, 'head_end': 586, 'head_type': 'per', 'head': 'Giotto', 'tail_start': 862, 'tail_end': 867, 'tail_type': 'loc', 'tail': 'Italy', 'relation': 'country of citizenship'}\n"
     ]
    },
    {
     "name": "stderr",
     "output_type": "stream",
     "text": [
      "\n",
      " 53%|███████████████████████████████████████████▏                                      | 29/55 [01:28<01:18,  3.02s/it]\u001b[A"
     ]
    },
    {
     "name": "stdout",
     "output_type": "stream",
     "text": [
      "{'text_idx': '28', 'head_start': 615, 'head_end': 633, 'head_type': 'per', 'head': \"Lorenzo de' Medici\", 'tail_start': 731, 'tail_end': 743, 'tail_type': 'per', 'tail': 'Michelagnolo', 'relation': 'sibling'}\n",
      "{'text_idx': '28', 'head_start': 615, 'head_end': 633, 'head_type': 'per', 'head': \"Lorenzo de' Medici\", 'tail_start': 511, 'tail_end': 529, 'tail_type': 'per', 'tail': 'Francesco Granacci', 'relation': 'student'}\n",
      "{'text_idx': '28', 'head_start': 615, 'head_end': 633, 'head_type': 'per', 'head': \"Lorenzo de' Medici\", 'tail_start': 511, 'tail_end': 529, 'tail_type': 'per', 'tail': 'Francesco Granacci', 'relation': 'child'}\n"
     ]
    },
    {
     "name": "stderr",
     "output_type": "stream",
     "text": [
      "\n",
      " 55%|████████████████████████████████████████████▋                                     | 30/55 [01:31<01:11,  2.88s/it]\u001b[A"
     ]
    },
    {
     "name": "stdout",
     "output_type": "stream",
     "text": [
      "{'text_idx': '29', 'head_start': 688, 'head_end': 702, 'head_type': 'misc', 'head': 'God the Father', 'tail_start': 668, 'tail_end': 675, 'tail_type': 'concept', 'tail': 'Trinity', 'relation': 'part of'}\n",
      "{'text_idx': '29', 'head_start': 891, 'head_end': 897, 'head_type': 'concept', 'head': 'Girdle', 'tail_start': 869, 'tail_end': 876, 'tail_type': 'per', 'tail': 'Madonna', 'relation': 'owned by'}\n",
      "{'text_idx': '29', 'head_start': 891, 'head_end': 897, 'head_type': 'concept', 'head': 'Girdle', 'tail_start': 913, 'tail_end': 922, 'tail_type': 'misc', 'tail': 'S. Thomas', 'relation': 'owned by'}\n"
     ]
    },
    {
     "name": "stderr",
     "output_type": "stream",
     "text": [
      "\n",
      " 56%|██████████████████████████████████████████████▏                                   | 31/55 [01:34<01:10,  2.92s/it]\u001b[A"
     ]
    },
    {
     "name": "stdout",
     "output_type": "stream",
     "text": [
      "{'text_idx': '30', 'head_start': 101, 'head_end': 113, 'head_type': 'per', 'head': 'Pinturicchio', 'tail_start': 91, 'tail_end': 95, 'tail_type': 'loc', 'tail': 'Rome', 'relation': 'place of birth'}\n",
      "{'text_idx': '30', 'head_start': 47, 'head_end': 71, 'head_type': 'per', 'head': 'Domenico del Ghirlandajo', 'tail_start': 91, 'tail_end': 95, 'tail_type': 'loc', 'tail': 'Rome', 'relation': 'place of birth'}\n",
      "{'text_idx': '30', 'head_start': 0, 'head_end': 6, 'head_type': 'per', 'head': 'Jacopo', 'tail_start': 91, 'tail_end': 95, 'tail_type': 'loc', 'tail': 'Rome', 'relation': 'place of birth'}\n"
     ]
    },
    {
     "name": "stderr",
     "output_type": "stream",
     "text": [
      "\n",
      " 58%|███████████████████████████████████████████████▋                                  | 32/55 [01:37<01:07,  2.95s/it]\u001b[A"
     ]
    },
    {
     "name": "stdout",
     "output_type": "stream",
     "text": [
      "{'text_idx': '31', 'head_start': 590, 'head_end': 613, 'head_type': 'org', 'head': 'Company of the Nunziata', 'tail_start': 617, 'tail_end': 623, 'tail_type': 'loc', 'tail': 'Arezzo', 'relation': 'headquarters location'}\n",
      "{'text_idx': '31', 'head_start': 590, 'head_end': 613, 'head_type': 'loc', 'head': 'Company of the Nunziata', 'tail_start': 617, 'tail_end': 623, 'tail_type': 'loc', 'tail': 'Arezzo', 'relation': 'location'}\n",
      "{'text_idx': '31', 'head_start': 590, 'head_end': 613, 'head_type': 'org', 'head': 'Company of the Nunziata', 'tail_start': 617, 'tail_end': 623, 'tail_type': 'loc', 'tail': 'Arezzo', 'relation': 'location'}\n"
     ]
    },
    {
     "name": "stderr",
     "output_type": "stream",
     "text": [
      "\n",
      " 60%|█████████████████████████████████████████████████▏                                | 33/55 [01:40<01:09,  3.18s/it]\u001b[A"
     ]
    },
    {
     "name": "stdout",
     "output_type": "stream",
     "text": [
      "{'text_idx': '32', 'head_start': 147, 'head_end': 155, 'head_type': 'concept', 'head': 'painters', 'tail_start': 82, 'tail_end': 91, 'tail_type': 'concept', 'tail': 'craftsmen', 'relation': 'instance of'}\n",
      "{'text_idx': '32', 'head_start': 852, 'head_end': 858, 'head_type': 'concept', 'head': 'theory', 'tail_start': 892, 'tail_end': 900, 'tail_type': 'concept', 'tail': 'practice', 'relation': 'part of'}\n",
      "{'text_idx': '32', 'head_start': 147, 'head_end': 155, 'head_type': 'concept', 'head': 'painters', 'tail_start': 82, 'tail_end': 91, 'tail_type': 'concept', 'tail': 'craftsmen', 'relation': 'instance of'}\n",
      "{'text_idx': '32', 'head_start': 161, 'head_end': 171, 'head_type': 'concept', 'head': 'architects', 'tail_start': 82, 'tail_end': 91, 'tail_type': 'concept', 'tail': 'craftsmen', 'relation': 'instance of'}\n"
     ]
    },
    {
     "name": "stderr",
     "output_type": "stream",
     "text": [
      "\n",
      " 62%|██████████████████████████████████████████████████▋                               | 34/55 [01:44<01:09,  3.31s/it]\u001b[A"
     ]
    },
    {
     "name": "stdout",
     "output_type": "stream",
     "text": [
      "{'text_idx': '33', 'head_start': 117, 'head_end': 125, 'head_type': 'loc', 'head': 'Nunziata', 'tail_start': 154, 'tail_end': 162, 'tail_type': 'loc', 'tail': 'Florence', 'relation': 'location'}\n",
      "{'text_idx': '33', 'head_start': 131, 'head_end': 150, 'head_type': 'loc', 'head': 'Church of the Servi', 'tail_start': 154, 'tail_end': 162, 'tail_type': 'loc', 'tail': 'Florence', 'relation': 'location'}\n",
      "{'text_idx': '33', 'head_start': 117, 'head_end': 125, 'head_type': 'loc', 'head': 'Nunziata', 'tail_start': 154, 'tail_end': 162, 'tail_type': 'loc', 'tail': 'Florence', 'relation': 'location'}\n",
      "{'text_idx': '33', 'head_start': 194, 'head_end': 206, 'head_type': 'per', 'head': 'Leon Batista', 'tail_start': 117, 'tail_end': 125, 'tail_type': 'loc', 'tail': 'Nunziata', 'relation': 'notable work'}\n"
     ]
    },
    {
     "name": "stderr",
     "output_type": "stream",
     "text": [
      "\n",
      " 64%|████████████████████████████████████████████████████▏                             | 35/55 [01:46<01:00,  3.02s/it]\u001b[A"
     ]
    },
    {
     "name": "stdout",
     "output_type": "stream",
     "text": [
      "{'text_idx': '34', 'head_start': 1093, 'head_end': 1101, 'head_type': 'concept', 'head': 'contours', 'tail_start': 1086, 'tail_end': 1091, 'tail_type': 'concept', 'tail': 'lines', 'relation': 'part of'}\n",
      "{'text_idx': '34', 'head_start': 1093, 'head_end': 1101, 'head_type': 'concept', 'head': 'contours', 'tail_start': 1086, 'tail_end': 1091, 'tail_type': 'concept', 'tail': 'lines', 'relation': 'instance of'}\n",
      "{'text_idx': '34', 'head_start': 1086, 'head_end': 1091, 'head_type': 'concept', 'head': 'lines', 'tail_start': 1093, 'tail_end': 1101, 'tail_type': 'concept', 'tail': 'contours', 'relation': 'instance of'}\n"
     ]
    },
    {
     "name": "stderr",
     "output_type": "stream",
     "text": [
      "\n",
      " 65%|█████████████████████████████████████████████████████▋                            | 36/55 [01:49<00:53,  2.84s/it]\u001b[A"
     ]
    },
    {
     "name": "stdout",
     "output_type": "stream",
     "text": [
      "{'text_idx': '35', 'head_start': 71, 'head_end': 76, 'head_type': 'loc', 'head': 'Giant', 'tail_start': 80, 'tail_end': 88, 'tail_type': 'loc', 'tail': 'Florence', 'relation': 'location'}\n",
      "{'text_idx': '35', 'head_start': 43, 'head_end': 48, 'head_type': 'concept', 'head': 'Pietà', 'tail_start': 80, 'tail_end': 88, 'tail_type': 'loc', 'tail': 'Florence', 'relation': 'location'}\n",
      "{'text_idx': '35', 'head_start': 927, 'head_end': 946, 'head_type': 'loc', 'head': 'Church of S. Pietro', 'tail_start': 950, 'tail_end': 954, 'tail_type': 'loc', 'tail': 'Rome', 'relation': 'location'}\n"
     ]
    },
    {
     "name": "stderr",
     "output_type": "stream",
     "text": [
      "\n",
      " 67%|███████████████████████████████████████████████████████▏                          | 37/55 [01:51<00:50,  2.81s/it]\u001b[A"
     ]
    },
    {
     "name": "stdout",
     "output_type": "stream",
     "text": [
      "{'text_idx': '36', 'head_start': 762, 'head_end': 785, 'head_type': 'loc', 'head': 'Oratory of Orsanmichele', 'tail_start': 683, 'tail_end': 691, 'tail_type': 'loc', 'tail': 'Florence', 'relation': 'location'}\n",
      "{'text_idx': '36', 'head_start': 773, 'head_end': 785, 'head_type': 'loc', 'head': 'Orsanmichele', 'tail_start': 683, 'tail_end': 691, 'tail_type': 'loc', 'tail': 'Florence', 'relation': 'location'}\n",
      "{'text_idx': '36', 'head_start': 773, 'head_end': 785, 'head_type': 'loc', 'head': 'Orsanmichele', 'tail_start': 762, 'tail_end': 769, 'tail_type': 'concept', 'tail': 'Oratory', 'relation': 'instance of'}\n"
     ]
    },
    {
     "name": "stderr",
     "output_type": "stream",
     "text": [
      "\n",
      " 69%|████████████████████████████████████████████████████████▋                         | 38/55 [01:55<00:49,  2.90s/it]\u001b[A"
     ]
    },
    {
     "name": "stdout",
     "output_type": "stream",
     "text": [
      "{'text_idx': '37', 'head_start': 71, 'head_end': 83, 'head_type': 'loc', 'head': 'Orsanmichele', 'tail_start': 60, 'tail_end': 67, 'tail_type': 'concept', 'tail': 'Oratory', 'relation': 'instance of'}\n",
      "{'text_idx': '37', 'head_start': 60, 'head_end': 83, 'head_type': 'loc', 'head': 'Oratory of Orsanmichele', 'tail_start': 28, 'tail_end': 33, 'tail_type': 'misc', 'tail': 'S. Lo', 'relation': 'owned by'}\n",
      "{'text_idx': '37', 'head_start': 60, 'head_end': 83, 'head_type': 'loc', 'head': 'Oratory of Orsanmichele', 'tail_start': 112, 'tail_end': 129, 'tail_type': 'org', 'tail': 'Guild of Farriers', 'relation': 'owned by'}\n"
     ]
    },
    {
     "name": "stderr",
     "output_type": "stream",
     "text": [
      "\n",
      " 71%|██████████████████████████████████████████████████████████▏                       | 39/55 [01:57<00:43,  2.73s/it]\u001b[A"
     ]
    },
    {
     "name": "stdout",
     "output_type": "stream",
     "text": [
      "{'text_idx': '38', 'head_start': 381, 'head_end': 386, 'head_type': 'loc', 'head': 'Palma', 'tail_start': 372, 'tail_end': 380, 'tail_type': 'loc', 'tail': 'Venetian', 'relation': 'location'}\n",
      "{'text_idx': '38', 'head_start': 372, 'head_end': 386, 'head_type': 'loc', 'head': 'Venetian Palma', 'tail_start': 566, 'tail_end': 569, 'tail_type': 'concept', 'tail': 'art', 'relation': 'genre'}\n",
      "{'text_idx': '38', 'head_start': 372, 'head_end': 386, 'head_type': 'loc', 'head': 'Venetian Palma', 'tail_start': 566, 'tail_end': 569, 'tail_type': 'concept', 'tail': 'art', 'relation': 'instance of'}\n"
     ]
    },
    {
     "name": "stderr",
     "output_type": "stream",
     "text": [
      "\n",
      " 73%|███████████████████████████████████████████████████████████▋                      | 40/55 [02:00<00:41,  2.75s/it]\u001b[A"
     ]
    },
    {
     "name": "stdout",
     "output_type": "stream",
     "text": [
      "{'text_idx': '39', 'head_start': 737, 'head_end': 746, 'head_type': 'concept', 'head': 'S. Helena', 'tail_start': 766, 'tail_end': 785, 'tail_type': 'per', 'tail': 'Emperor Constantine', 'relation': 'child'}\n",
      "{'text_idx': '39', 'head_start': 737, 'head_end': 746, 'head_type': 'concept', 'head': 'S. Helena', 'tail_start': 774, 'tail_end': 785, 'tail_type': 'per', 'tail': 'Constantine', 'relation': 'child'}\n",
      "{'text_idx': '39', 'head_start': 740, 'head_end': 746, 'head_type': 'concept', 'head': 'Helena', 'tail_start': 766, 'tail_end': 785, 'tail_type': 'per', 'tail': 'Emperor Constantine', 'relation': 'child'}\n"
     ]
    },
    {
     "name": "stderr",
     "output_type": "stream",
     "text": [
      "\n",
      " 75%|█████████████████████████████████████████████████████████████▏                    | 41/55 [02:03<00:41,  2.94s/it]\u001b[A"
     ]
    },
    {
     "name": "stdout",
     "output_type": "stream",
     "text": [
      "{'text_idx': '40', 'head_start': 0, 'head_end': 26, 'head_type': 'per', 'head': 'Parri di Spinello Spinelli', 'tail_start': 39, 'tail_end': 45, 'tail_type': 'loc', 'tail': 'Arezzo', 'relation': 'place of birth'}\n",
      "{'text_idx': '40', 'head_start': 204, 'head_end': 220, 'head_type': 'per', 'head': 'Lorenzo Ghiberti', 'tail_start': 125, 'tail_end': 133, 'tail_type': 'loc', 'tail': 'Florence', 'relation': 'place of birth'}\n",
      "{'text_idx': '40', 'head_start': 0, 'head_end': 17, 'head_type': 'per', 'head': 'Parri di Spinello', 'tail_start': 39, 'tail_end': 45, 'tail_type': 'loc', 'tail': 'Arezzo', 'relation': 'place of birth'}\n"
     ]
    },
    {
     "name": "stderr",
     "output_type": "stream",
     "text": [
      "\n",
      " 76%|██████████████████████████████████████████████████████████████▌                   | 42/55 [02:05<00:33,  2.61s/it]\u001b[A"
     ]
    },
    {
     "name": "stdout",
     "output_type": "stream",
     "text": [
      "{'text_idx': '41', 'head_start': 348, 'head_end': 361, 'head_type': 'per', 'head': 'Lazzaro Ricco', 'tail_start': 141, 'tail_end': 147, 'tail_type': 'loc', 'tail': 'Arezzo', 'relation': 'place of birth'}\n",
      "{'text_idx': '41', 'head_start': 616, 'head_end': 626, 'head_type': 'per', 'head': 'S. Donatus', 'tail_start': 628, 'tail_end': 634, 'tail_type': 'concept', 'tail': 'Bishop', 'relation': 'occupation'}\n",
      "{'text_idx': '41', 'head_start': 52, 'head_end': 76, 'head_type': 'loc', 'head': 'Maria della Misericordia', 'tail_start': 35, 'tail_end': 45, 'tail_type': 'concept', 'tail': 'Fraternity', 'relation': 'instance of'}\n"
     ]
    },
    {
     "name": "stderr",
     "output_type": "stream",
     "text": [
      "\n",
      " 78%|████████████████████████████████████████████████████████████████                  | 43/55 [02:07<00:30,  2.58s/it]\u001b[A"
     ]
    },
    {
     "name": "stdout",
     "output_type": "stream",
     "text": [
      "{'text_idx': '42', 'head_start': 1000, 'head_end': 1007, 'head_type': 'concept', 'head': 'madness', 'tail_start': 987, 'tail_end': 995, 'tail_type': 'concept', 'tail': 'savagery', 'relation': 'instance of'}\n",
      "{'text_idx': '42', 'head_start': 309, 'head_end': 335, 'head_type': 'per', 'head': 'Raffaello Sanzio da Urbino', 'tail_start': 538, 'tail_end': 546, 'tail_type': 'concept', 'tail': 'courtesy', 'relation': 'occupation'}\n",
      "{'text_idx': '42', 'head_start': 309, 'head_end': 335, 'head_type': 'per', 'head': 'Raffaello Sanzio da Urbino', 'tail_start': 538, 'tail_end': 546, 'tail_type': 'concept', 'tail': 'courtesy', 'relation': 'genre'}\n"
     ]
    },
    {
     "name": "stderr",
     "output_type": "stream",
     "text": [
      "\n",
      " 80%|█████████████████████████████████████████████████████████████████▌                | 44/55 [02:10<00:29,  2.66s/it]\u001b[A"
     ]
    },
    {
     "name": "stdout",
     "output_type": "stream",
     "text": [
      "{'text_idx': '43', 'head_start': 163, 'head_end': 183, 'head_type': 'loc', 'head': 'S. Giovanni in Monte', 'tail_start': 187, 'tail_end': 194, 'tail_type': 'loc', 'tail': 'Bologna', 'relation': 'location'}\n",
      "{'text_idx': '43', 'head_start': 39, 'head_end': 52, 'head_type': 'loc', 'head': 'Santi Quattro', 'tail_start': 187, 'tail_end': 194, 'tail_type': 'loc', 'tail': 'Bologna', 'relation': 'location'}\n",
      "{'text_idx': '43', 'head_start': 12, 'head_end': 25, 'head_type': 'per', 'head': 'Lorenzo Pucci', 'tail_start': 27, 'tail_end': 52, 'tail_type': 'loc', 'tail': 'Cardinal of Santi Quattro', 'relation': 'member of'}\n"
     ]
    },
    {
     "name": "stderr",
     "output_type": "stream",
     "text": [
      "\n",
      " 82%|███████████████████████████████████████████████████████████████████               | 45/55 [02:16<00:34,  3.45s/it]\u001b[A"
     ]
    },
    {
     "name": "stdout",
     "output_type": "stream",
     "text": [
      "{'text_idx': '44', 'head_start': 760, 'head_end': 765, 'head_type': 'per', 'head': 'David', 'tail_start': 770, 'tail_end': 791, 'tail_type': 'per', 'tail': 'Benedetto Ghirlandajo', 'relation': 'sibling'}\n",
      "{'text_idx': '44', 'head_start': 760, 'head_end': 765, 'head_type': 'per', 'head': 'David', 'tail_start': 770, 'tail_end': 791, 'tail_type': 'per', 'tail': 'Benedetto Ghirlandajo', 'relation': 'sibling'}\n",
      "{'text_idx': '44', 'head_start': 1151, 'head_end': 1156, 'head_type': 'per', 'head': 'David', 'tail_start': 1187, 'tail_end': 1195, 'tail_type': 'per', 'tail': 'Domenico', 'relation': 'sibling'}\n",
      "{'text_idx': '44', 'head_start': 1151, 'head_end': 1172, 'head_type': 'per', 'head': 'Benedetto Ghirlandajo', 'tail_start': 1187, 'tail_end': 1195, 'tail_type': 'per', 'tail': 'Domenico', 'relation': 'sibling'}\n",
      "{'text_idx': '44', 'head_start': 760, 'head_end': 765, 'head_type': 'per', 'head': 'David', 'tail_start': 865, 'tail_end': 873, 'tail_type': 'per', 'tail': 'Domenico', 'relation': 'sibling'}\n"
     ]
    },
    {
     "name": "stderr",
     "output_type": "stream",
     "text": [
      "\n",
      " 84%|████████████████████████████████████████████████████████████████████▌             | 46/55 [02:20<00:33,  3.75s/it]\u001b[A"
     ]
    },
    {
     "name": "stdout",
     "output_type": "stream",
     "text": [
      "{'text_idx': '45', 'head_start': 776, 'head_end': 795, 'head_type': 'loc', 'head': 'Church of S. Felice', 'tail_start': 799, 'tail_end': 805, 'tail_type': 'loc', 'tail': 'Piazza', 'relation': 'location'}\n",
      "{'text_idx': '45', 'head_start': 786, 'head_end': 795, 'head_type': 'loc', 'head': 'S. Felice', 'tail_start': 799, 'tail_end': 805, 'tail_type': 'loc', 'tail': 'Piazza', 'relation': 'location'}\n",
      "{'text_idx': '45', 'head_start': 776, 'head_end': 795, 'head_type': 'loc', 'head': 'Church of S. Felice', 'tail_start': 846, 'tail_end': 855, 'tail_type': 'loc', 'tail': 'Camaldoli', 'relation': 'location'}\n"
     ]
    },
    {
     "name": "stderr",
     "output_type": "stream",
     "text": [
      "\n",
      " 85%|██████████████████████████████████████████████████████████████████████            | 47/55 [02:24<00:29,  3.74s/it]\u001b[A"
     ]
    },
    {
     "name": "stdout",
     "output_type": "stream",
     "text": [
      "{'text_idx': '46', 'head_start': 908, 'head_end': 922, 'head_type': 'loc', 'head': 'Monte Fiascone', 'tail_start': 736, 'tail_end': 743, 'tail_type': 'loc', 'tail': 'Orvieto', 'relation': 'location'}\n",
      "{'text_idx': '46', 'head_start': 0, 'head_end': 19, 'head_type': 'per', 'head': 'Michele San Michele', 'tail_start': 37, 'tail_end': 43, 'tail_type': 'loc', 'tail': 'Verona', 'relation': 'place of birth'}\n",
      "{'text_idx': '46', 'head_start': 0, 'head_end': 19, 'head_type': 'per', 'head': 'Michele San Michele', 'tail_start': 37, 'tail_end': 43, 'tail_type': 'loc', 'tail': 'Verona', 'relation': 'place of birth'}\n",
      "{'text_idx': '46', 'head_start': 908, 'head_end': 922, 'head_type': 'loc', 'head': 'Monte Fiascone', 'tail_start': 736, 'tail_end': 743, 'tail_type': 'loc', 'tail': 'Orvieto', 'relation': 'location'}\n"
     ]
    },
    {
     "name": "stderr",
     "output_type": "stream",
     "text": [
      "\n",
      " 87%|███████████████████████████████████████████████████████████████████████▌          | 48/55 [02:27<00:24,  3.50s/it]\u001b[A"
     ]
    },
    {
     "name": "stdout",
     "output_type": "stream",
     "text": [
      "{'text_idx': '47', 'head_start': 238, 'head_end': 261, 'head_type': 'loc', 'head': 'Chapel of the Guareschi', 'tail_start': 161, 'tail_end': 167, 'tail_type': 'loc', 'tail': 'Verona', 'relation': 'location'}\n",
      "{'text_idx': '47', 'head_start': 238, 'head_end': 278, 'head_type': 'loc', 'head': 'Chapel of the Guareschi in S. Bernardino', 'tail_start': 161, 'tail_end': 167, 'tail_type': 'loc', 'tail': 'Verona', 'relation': 'location'}\n",
      "{'text_idx': '47', 'head_start': 238, 'head_end': 261, 'head_type': 'loc', 'head': 'Chapel of the Guareschi', 'tail_start': 265, 'tail_end': 278, 'tail_type': 'loc', 'tail': 'S. Bernardino', 'relation': 'location'}\n"
     ]
    },
    {
     "name": "stderr",
     "output_type": "stream",
     "text": [
      "\n",
      " 89%|█████████████████████████████████████████████████████████████████████████         | 49/55 [02:29<00:19,  3.29s/it]\u001b[A"
     ]
    },
    {
     "name": "stdout",
     "output_type": "stream",
     "text": [
      "{'text_idx': '48', 'head_start': 414, 'head_end': 426, 'head_type': 'per', 'head': 'Gian Bellini', 'tail_start': 287, 'tail_end': 293, 'tail_type': 'loc', 'tail': 'Venice', 'relation': 'place of birth'}\n",
      "{'text_idx': '48', 'head_start': 20, 'head_end': 26, 'head_type': 'loc', 'head': 'Cadore', 'tail_start': 62, 'tail_end': 67, 'tail_type': 'loc', 'tail': 'Piave', 'relation': 'located in or next to body of water'}\n",
      "{'text_idx': '48', 'head_start': 414, 'head_end': 426, 'head_type': 'concept', 'head': 'Gian Bellini', 'tail_start': 287, 'tail_end': 293, 'tail_type': 'loc', 'tail': 'Venice', 'relation': 'place of birth'}\n"
     ]
    },
    {
     "name": "stderr",
     "output_type": "stream",
     "text": [
      "\n",
      " 91%|██████████████████████████████████████████████████████████████████████████▌       | 50/55 [02:33<00:16,  3.25s/it]\u001b[A"
     ]
    },
    {
     "name": "stdout",
     "output_type": "stream",
     "text": [
      "{'text_idx': '49', 'head_start': 10, 'head_end': 19, 'head_type': 'per', 'head': 'Giorgione', 'tail_start': 69, 'tail_end': 89, 'tail_type': 'loc', 'tail': \"Fondaco de' Tedeschi\", 'relation': 'notable work'}\n",
      "{'text_idx': '49', 'head_start': 140, 'head_end': 147, 'head_type': 'per', 'head': 'Tiziano', 'tail_start': 107, 'tail_end': 116, 'tail_type': 'loc', 'tail': 'Barberigo', 'relation': 'notable work'}\n",
      "{'text_idx': '49', 'head_start': 140, 'head_end': 147, 'head_type': 'per', 'head': 'Tiziano', 'tail_start': 195, 'tail_end': 203, 'tail_type': 'loc', 'tail': 'Merceria', 'relation': 'notable work'}\n"
     ]
    },
    {
     "name": "stderr",
     "output_type": "stream",
     "text": [
      "\n",
      " 93%|████████████████████████████████████████████████████████████████████████████      | 51/55 [02:36<00:13,  3.29s/it]\u001b[A"
     ]
    },
    {
     "name": "stdout",
     "output_type": "stream",
     "text": [
      "{'text_idx': '50', 'head_start': 0, 'head_end': 21, 'head_type': 'per', 'head': 'Andrea del Verrocchio', 'tail_start': 25, 'tail_end': 35, 'tail_type': 'loc', 'tail': 'Florentine', 'relation': 'place of birth'}\n",
      "{'text_idx': '50', 'head_start': 885, 'head_end': 893, 'head_type': 'concept', 'head': 'geometry', 'tail_start': 859, 'tail_end': 867, 'tail_type': 'concept', 'tail': 'sciences', 'relation': 'part of'}\n",
      "{'text_idx': '50', 'head_start': 0, 'head_end': 21, 'head_type': 'per', 'head': 'Andrea del Verrocchio', 'tail_start': 25, 'tail_end': 35, 'tail_type': 'loc', 'tail': 'Florentine', 'relation': 'place of birth'}\n",
      "{'text_idx': '50', 'head_start': 0, 'head_end': 21, 'head_type': 'per', 'head': 'Andrea del Verrocchio', 'tail_start': 54, 'tail_end': 63, 'tail_type': 'concept', 'tail': 'goldsmith', 'relation': 'occupation'}\n"
     ]
    },
    {
     "name": "stderr",
     "output_type": "stream",
     "text": [
      "\n",
      " 95%|█████████████████████████████████████████████████████████████████████████████▌    | 52/55 [02:39<00:09,  3.05s/it]\u001b[A"
     ]
    },
    {
     "name": "stdout",
     "output_type": "stream",
     "text": [
      "{'text_idx': '51', 'head_start': 686, 'head_end': 705, 'head_type': 'per', 'head': \"Giuliano de' Medici\", 'tail_start': 745, 'tail_end': 752, 'tail_type': 'per', 'tail': 'Lorenzo', 'relation': 'sibling'}\n",
      "{'text_idx': '51', 'head_start': 686, 'head_end': 705, 'head_type': 'concept', 'head': \"Giuliano de' Medici\", 'tail_start': 745, 'tail_end': 752, 'tail_type': 'per', 'tail': 'Lorenzo', 'relation': 'sibling'}\n",
      "{'text_idx': '51', 'head_start': 686, 'head_end': 705, 'head_type': 'per', 'head': \"Giuliano de' Medici\", 'tail_start': 745, 'tail_end': 752, 'tail_type': 'concept', 'tail': 'Lorenzo', 'relation': 'sibling'}\n"
     ]
    },
    {
     "name": "stderr",
     "output_type": "stream",
     "text": [
      "\n",
      " 96%|███████████████████████████████████████████████████████████████████████████████   | 53/55 [02:41<00:05,  2.87s/it]\u001b[A"
     ]
    },
    {
     "name": "stdout",
     "output_type": "stream",
     "text": [
      "{'text_idx': '52', 'head_start': 234, 'head_end': 240, 'head_type': 'per', 'head': 'Taddeo', 'tail_start': 87, 'tail_end': 91, 'tail_type': 'loc', 'tail': 'Vado', 'relation': 'place of birth'}\n",
      "{'text_idx': '52', 'head_start': 72, 'head_end': 83, 'head_type': 'loc', 'head': \"Sant'Agnolo\", 'tail_start': 87, 'tail_end': 91, 'tail_type': 'loc', 'tail': 'Vado', 'relation': 'location'}\n",
      "{'text_idx': '52', 'head_start': 87, 'head_end': 91, 'head_type': 'loc', 'head': 'Vado', 'tail_start': 109, 'tail_end': 114, 'tail_type': 'loc', 'tail': 'State', 'relation': 'location'}\n"
     ]
    },
    {
     "name": "stderr",
     "output_type": "stream",
     "text": [
      "\n",
      " 98%|████████████████████████████████████████████████████████████████████████████████▌ | 54/55 [02:44<00:02,  2.77s/it]\u001b[A"
     ]
    },
    {
     "name": "stdout",
     "output_type": "stream",
     "text": [
      "{'text_idx': '53', 'head_start': 892, 'head_end': 909, 'head_type': 'per', 'head': 'Federigo Zucchero', 'tail_start': 926, 'tail_end': 932, 'tail_type': 'per', 'tail': 'Taddeo', 'relation': 'sibling'}\n",
      "{'text_idx': '53', 'head_start': 926, 'head_end': 932, 'head_type': 'per', 'head': 'Taddeo', 'tail_start': 892, 'tail_end': 909, 'tail_type': 'per', 'tail': 'Federigo Zucchero', 'relation': 'sibling'}\n",
      "{'text_idx': '53', 'head_start': 749, 'head_end': 759, 'head_type': 'per', 'head': 'Santi Titi', 'tail_start': 774, 'tail_end': 782, 'tail_type': 'loc', 'tail': 'Florence', 'relation': 'place of birth'}\n"
     ]
    },
    {
     "name": "stderr",
     "output_type": "stream",
     "text": [
      "\n",
      "100%|██████████████████████████████████████████████████████████████████████████████████| 55/55 [02:45<00:00,  3.00s/it]\u001b[A"
     ]
    },
    {
     "name": "stdout",
     "output_type": "stream",
     "text": [
      "{'text_idx': '0', 'head_start': 593, 'head_end': 605, 'head_type': 'per', 'head': 'Duke Lorenzo', 'tail_start': 610, 'tail_end': 623, 'tail_type': 'per', 'tail': 'Duke Giuliano', 'relation': 'sibling'}\n"
     ]
    },
    {
     "name": "stderr",
     "output_type": "stream",
     "text": [
      "\n"
     ]
    }
   ],
   "source": [
    "from tqdm import tqdm\n",
    "output = []\n",
    "\n",
    "pbar = tqdm(total=len(data))\n",
    "for sample in data:\n",
    "    triples = []\n",
    "    text_idx = sample[\"id\"]\n",
    "    text = sample[\"sentence\"]\n",
    "    model_inputs = tokenizer(text, max_length=256, padding=True, truncation=True, return_tensors = 'pt')\n",
    "    generated_tokens = model.generate(\n",
    "    model_inputs[\"input_ids\"].to(model.device),\n",
    "    attention_mask=model_inputs[\"attention_mask\"].to(model.device),\n",
    "    decoder_start_token_id = tokenizer.convert_tokens_to_ids(\"tp_XX\"),\n",
    "    **gen_kwargs,\n",
    "    )\n",
    "    # Extract text\n",
    "    decoded_preds = tokenizer.batch_decode(generated_tokens, skip_special_tokens=False)\n",
    "\n",
    "    for sentence in decoded_preds:\n",
    "        triplets = extract_triplets_typed(sentence)\n",
    "        triplets = get_pos_from_triplets(triplets, text, text_idx)\n",
    "        for idx, triplet in enumerate(triplets):\n",
    "            print(triplet)\n",
    "            if triplet not in triples:\n",
    "                triples.append(triplet)\n",
    "    output.extend(triples)\n",
    "    pbar.update(1)\n",
    "pbar.close()\n",
    "print(output[0])\n",
    "keys = output[0].keys()\n",
    "a_file = open(\"../results/mrebel/output-32.csv\", \"w\", encoding=\"utf-8\")\n",
    "dict_writer = csv.DictWriter(a_file, keys)\n",
    "dict_writer.writeheader()\n",
    "dict_writer.writerows(output)\n",
    "a_file.close()"
   ]
  },
  {
   "cell_type": "code",
   "execution_count": null,
   "id": "ca7f682e-ed65-47fb-8e0a-e97f001ce7c8",
   "metadata": {},
   "outputs": [],
   "source": []
  }
 ],
 "metadata": {
  "kernelspec": {
   "display_name": "Python 3 (ipykernel)",
   "language": "python",
   "name": "python3"
  },
  "language_info": {
   "codemirror_mode": {
    "name": "ipython",
    "version": 3
   },
   "file_extension": ".py",
   "mimetype": "text/x-python",
   "name": "python",
   "nbconvert_exporter": "python",
   "pygments_lexer": "ipython3",
   "version": "3.8.13"
  }
 },
 "nbformat": 4,
 "nbformat_minor": 5
}
